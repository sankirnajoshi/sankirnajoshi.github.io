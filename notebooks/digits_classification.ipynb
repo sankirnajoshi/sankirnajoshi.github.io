{
  "nbformat": 4,
  "nbformat_minor": 0,
  "metadata": {
    "kernelspec": {
      "display_name": "Python 3",
      "language": "python",
      "name": "python3"
    },
    "language_info": {
      "codemirror_mode": {
        "name": "ipython",
        "version": 3
      },
      "file_extension": ".py",
      "mimetype": "text/x-python",
      "name": "python",
      "nbconvert_exporter": "python",
      "pygments_lexer": "ipython3",
      "version": "3.6.5"
    },
    "colab": {
      "name": "Copy of digits_classification.ipynb",
      "provenance": [],
      "collapsed_sections": [],
      "include_colab_link": true
    }
  },
  "cells": [
    {
      "cell_type": "markdown",
      "metadata": {
        "id": "view-in-github",
        "colab_type": "text"
      },
      "source": [
        "<a href=\"https://colab.research.google.com/github/sankirnajoshi/intro-to-dl/blob/master/week2/v2/digits_classification.ipynb\" target=\"_parent\"><img src=\"https://colab.research.google.com/assets/colab-badge.svg\" alt=\"Open In Colab\"/></a>"
      ]
    },
    {
      "cell_type": "code",
      "metadata": {
        "id": "9wd6Tt_xBNjx",
        "colab_type": "code",
        "outputId": "dc8fd4ab-bdd2-43bc-cf62-60d0e1a53d2a",
        "colab": {
          "base_uri": "https://localhost:8080/",
          "height": 323
        }
      },
      "source": [
        "! shred -u setup_google_colab.py\n",
        "! wget https://raw.githubusercontent.com/hse-aml/intro-to-dl/master/setup_google_colab.py -O setup_google_colab.py\n",
        "import setup_google_colab\n",
        "# please, uncomment the week you're working on\n",
        "# setup_google_colab.setup_week1()\n",
        "setup_google_colab.setup_week2()\n",
        "# setup_google_colab.setup_week3()\n",
        "# setup_google_colab.setup_week4()\n",
        "# setup_google_colab.setup_week5()\n",
        "# setup_google_colab.setup_week6()\n",
        "\n",
        "# If you're using the old version of the course (check a path of notebook on Coursera, you'll see v1 or v2),\n",
        "# use setup_week2_old()."
      ],
      "execution_count": 0,
      "outputs": [
        {
          "output_type": "stream",
          "text": [
            "shred: setup_google_colab.py: failed to open for writing: No such file or directory\n",
            "--2019-11-04 17:02:43--  https://raw.githubusercontent.com/hse-aml/intro-to-dl/master/setup_google_colab.py\n",
            "Resolving raw.githubusercontent.com (raw.githubusercontent.com)... 151.101.0.133, 151.101.64.133, 151.101.128.133, ...\n",
            "Connecting to raw.githubusercontent.com (raw.githubusercontent.com)|151.101.0.133|:443... connected.\n",
            "HTTP request sent, awaiting response... 200 OK\n",
            "Length: 3792 (3.7K) [text/plain]\n",
            "Saving to: ‘setup_google_colab.py’\n",
            "\n",
            "setup_google_colab. 100%[===================>]   3.70K  --.-KB/s    in 0s      \n",
            "\n",
            "2019-11-04 17:02:44 (43.8 MB/s) - ‘setup_google_colab.py’ saved [3792/3792]\n",
            "\n",
            "**************************************************\n",
            "inception_v3_weights_tf_dim_ordering_tf_kernels_notop.h5\n",
            "**************************************************\n",
            "cifar-10-batches-py.tar.gz\n",
            "**************************************************\n",
            "mnist.npz\n"
          ],
          "name": "stdout"
        }
      ]
    },
    {
      "cell_type": "markdown",
      "metadata": {
        "id": "E6v4LtN1BKx-",
        "colab_type": "text"
      },
      "source": [
        "# MNIST digits classification with TensorFlow"
      ]
    },
    {
      "cell_type": "markdown",
      "metadata": {
        "id": "8sJH1FAABKyK",
        "colab_type": "text"
      },
      "source": [
        "<img src=\"https://github.com/sankirnajoshi/intro-to-dl/blob/master/week2/v2/images/mnist_sample.png?raw=1\" style=\"width:30%\">"
      ]
    },
    {
      "cell_type": "code",
      "metadata": {
        "id": "NV6qRkaYBKyO",
        "colab_type": "code",
        "outputId": "cdef873f-8b0d-4947-bfdb-4402e5bdadd1",
        "colab": {
          "base_uri": "https://localhost:8080/",
          "height": 97
        }
      },
      "source": [
        "import numpy as np\n",
        "from sklearn.metrics import accuracy_score\n",
        "from matplotlib import pyplot as plt\n",
        "%matplotlib inline\n",
        "import tensorflow as tf\n",
        "print(\"We're using TF\", tf.__version__)\n",
        "\n",
        "import sys\n",
        "sys.path.append(\"../..\")\n",
        "import grading\n",
        "\n",
        "import matplotlib_utils\n",
        "from importlib import reload\n",
        "reload(matplotlib_utils)\n",
        "\n",
        "import grading_utils\n",
        "reload(grading_utils)\n",
        "\n",
        "import keras_utils\n",
        "from keras_utils import reset_tf_session"
      ],
      "execution_count": 0,
      "outputs": [
        {
          "output_type": "display_data",
          "data": {
            "text/html": [
              "<p style=\"color: red;\">\n",
              "The default version of TensorFlow in Colab will soon switch to TensorFlow 2.x.<br>\n",
              "We recommend you <a href=\"https://www.tensorflow.org/guide/migrate\" target=\"_blank\">upgrade</a> now \n",
              "or ensure your notebook will continue to use TensorFlow 1.x via the <code>%tensorflow_version 1.x</code> magic:\n",
              "<a href=\"https://colab.research.google.com/notebooks/tensorflow_version.ipynb\" target=\"_blank\">more info</a>.</p>\n"
            ],
            "text/plain": [
              "<IPython.core.display.HTML object>"
            ]
          },
          "metadata": {
            "tags": []
          }
        },
        {
          "output_type": "stream",
          "text": [
            "We're using TF 1.15.0\n"
          ],
          "name": "stdout"
        },
        {
          "output_type": "stream",
          "text": [
            "Using TensorFlow backend.\n"
          ],
          "name": "stderr"
        }
      ]
    },
    {
      "cell_type": "markdown",
      "metadata": {
        "id": "5E_SmcsOBKyb",
        "colab_type": "text"
      },
      "source": [
        "# Fill in your Coursera token and email\n",
        "To successfully submit your answers to our grader, please fill in your Coursera submission token and email"
      ]
    },
    {
      "cell_type": "code",
      "metadata": {
        "id": "YGmf-A2xBKyf",
        "colab_type": "code",
        "colab": {}
      },
      "source": [
        "grader = grading.Grader(assignment_key=\"XtD7ho3TEeiHQBLWejjYAA\", \n",
        "                        all_parts=[\"9XaAS\", \"vmogZ\", \"RMv95\", \"i8bgs\", \"rE763\"])"
      ],
      "execution_count": 0,
      "outputs": []
    },
    {
      "cell_type": "code",
      "metadata": {
        "id": "qM-dR9QpBKyp",
        "colab_type": "code",
        "colab": {}
      },
      "source": [
        "# token expires every 30 min\n",
        "COURSERA_TOKEN = \"qq1htBptPQhbUMQE\"\n",
        "COURSERA_EMAIL = \"sankirna1292@gmail.com\""
      ],
      "execution_count": 0,
      "outputs": []
    },
    {
      "cell_type": "markdown",
      "metadata": {
        "id": "yJDJInmHBKyy",
        "colab_type": "text"
      },
      "source": [
        "# Look at the data\n",
        "\n",
        "In this task we have 50000 28x28 images of digits from 0 to 9.\n",
        "We will train a classifier on this data."
      ]
    },
    {
      "cell_type": "code",
      "metadata": {
        "id": "LVgjZ5_hBKy1",
        "colab_type": "code",
        "outputId": "c5d633aa-3560-4566-e573-4b53777c5b6a",
        "colab": {
          "base_uri": "https://localhost:8080/",
          "height": 51
        }
      },
      "source": [
        "import preprocessed_mnist\n",
        "X_train, y_train, X_val, y_val, X_test, y_test = preprocessed_mnist.load_dataset()"
      ],
      "execution_count": 0,
      "outputs": [
        {
          "output_type": "stream",
          "text": [
            "Downloading data from https://s3.amazonaws.com/img-datasets/mnist.npz\n",
            " 9248768/11490434 [=======================>......] - ETA: 0s"
          ],
          "name": "stdout"
        }
      ]
    },
    {
      "cell_type": "code",
      "metadata": {
        "id": "t7YTBlJpChCv",
        "colab_type": "code",
        "outputId": "aa93af3e-451f-4c9b-b36f-434c2c2a5d1f",
        "colab": {
          "base_uri": "https://localhost:8080/",
          "height": 54
        }
      },
      "source": [
        "'''def load_dataset(flatten=False):\n",
        "    (X_train, y_train), (X_test, y_test) = keras.datasets.mnist.load_data()\n",
        "\n",
        "    # normalize x\n",
        "    X_train = X_train.astype(float) / 255.\n",
        "    X_test = X_test.astype(float) / 255.\n",
        "\n",
        "    # we reserve the last 10000 training examples for validation\n",
        "    X_train, X_val = X_train[:-10000], X_train[-10000:]\n",
        "    y_train, y_val = y_train[:-10000], y_train[-10000:]\n",
        "\n",
        "    if flatten:\n",
        "        X_train = X_train.reshape([X_train.shape[0], -1])\n",
        "        X_val = X_val.reshape([X_val.shape[0], -1])\n",
        "        X_test = X_test.reshape([X_test.shape[0], -1])\n",
        "\n",
        "    return X_train, y_train, X_val, y_val, X_test, y_test\n",
        "\n",
        "'''"
      ],
      "execution_count": 0,
      "outputs": [
        {
          "output_type": "execute_result",
          "data": {
            "text/plain": [
              "'def load_dataset(flatten=False):\\n    (X_train, y_train), (X_test, y_test) = keras.datasets.mnist.load_data()\\n\\n    # normalize x\\n    X_train = X_train.astype(float) / 255.\\n    X_test = X_test.astype(float) / 255.\\n\\n    # we reserve the last 10000 training examples for validation\\n    X_train, X_val = X_train[:-10000], X_train[-10000:]\\n    y_train, y_val = y_train[:-10000], y_train[-10000:]\\n\\n    if flatten:\\n        X_train = X_train.reshape([X_train.shape[0], -1])\\n        X_val = X_val.reshape([X_val.shape[0], -1])\\n        X_test = X_test.reshape([X_test.shape[0], -1])\\n\\n    return X_train, y_train, X_val, y_val, X_test, y_test\\n\\n'"
            ]
          },
          "metadata": {
            "tags": []
          },
          "execution_count": 6
        }
      ]
    },
    {
      "cell_type": "code",
      "metadata": {
        "id": "lu-rTQifBKy8",
        "colab_type": "code",
        "outputId": "9824ce91-8e99-48aa-caaf-3a3e0c4b23fb",
        "colab": {
          "base_uri": "https://localhost:8080/",
          "height": 683
        }
      },
      "source": [
        "# X contains rgb values divided by 255\n",
        "print(\"X_train [shape %s] sample patch:\\n\" % (str(X_train.shape)), X_train[1, 15:20, 5:10])\n",
        "print(\"A closeup of a sample patch:\")\n",
        "plt.imshow(X_train[1, 15:20, 5:10], cmap=\"Greys\")\n",
        "plt.show()\n",
        "print(\"And the whole sample:\")\n",
        "plt.imshow(X_train[1], cmap=\"Greys\")\n",
        "plt.show()\n",
        "print(\"y_train [shape %s] 10 samples:\\n\" % (str(y_train.shape)), y_train[:10])"
      ],
      "execution_count": 0,
      "outputs": [
        {
          "output_type": "stream",
          "text": [
            "X_train [shape (50000, 28, 28)] sample patch:\n",
            " [[0.         0.29803922 0.96470588 0.98823529 0.43921569]\n",
            " [0.         0.33333333 0.98823529 0.90196078 0.09803922]\n",
            " [0.         0.33333333 0.98823529 0.8745098  0.        ]\n",
            " [0.         0.33333333 0.98823529 0.56862745 0.        ]\n",
            " [0.         0.3372549  0.99215686 0.88235294 0.        ]]\n",
            "A closeup of a sample patch:\n"
          ],
          "name": "stdout"
        },
        {
          "output_type": "display_data",
          "data": {
            "image/png": "[encoded data removed]",
            "text/plain": [
              "<Figure size 432x288 with 1 Axes>"
            ]
          },
          "metadata": {
            "tags": []
          }
        },
        {
          "output_type": "stream",
          "text": [
            "And the whole sample:\n"
          ],
          "name": "stdout"
        },
        {
          "output_type": "display_data",
          "data": {
            "image/png": "[encoded data removed]",
            "text/plain": [
              "<Figure size 432x288 with 1 Axes>"
            ]
          },
          "metadata": {
            "tags": []
          }
        },
        {
          "output_type": "stream",
          "text": [
            "y_train [shape (50000,)] 10 samples:\n",
            " [5 0 4 1 9 2 1 3 1 4]\n"
          ],
          "name": "stdout"
        }
      ]
    },
    {
      "cell_type": "markdown",
      "metadata": {
        "id": "oEThWH2KBKzE",
        "colab_type": "text"
      },
      "source": [
        "# Linear model\n",
        "\n",
        "Your task is to train a linear classifier $\\vec{x} \\rightarrow y$ with SGD using TensorFlow.\n",
        "\n",
        "You will need to calculate a logit (a linear transformation) $z_k$ for each class: \n",
        "$$z_k = \\vec{x} \\cdot \\vec{w_k} + b_k \\quad k = 0..9$$\n",
        "\n",
        "And transform logits $z_k$ to valid probabilities $p_k$ with softmax: \n",
        "$$p_k = \\frac{e^{z_k}}{\\sum_{i=0}^{9}{e^{z_i}}} \\quad k = 0..9$$\n",
        "\n",
        "We will use a cross-entropy loss to train our multi-class classifier:\n",
        "$$\\text{cross-entropy}(y, p) = -\\sum_{k=0}^{9}{\\log(p_k)[y = k]}$$ \n",
        "\n",
        "where \n",
        "$$\n",
        "[x]=\\begin{cases}\n",
        "       1, \\quad \\text{if $x$ is true} \\\\\n",
        "       0, \\quad \\text{otherwise}\n",
        "    \\end{cases}\n",
        "$$\n",
        "\n",
        "Cross-entropy minimization pushes $p_k$ close to 1 when $y = k$, which is what we want.\n",
        "\n",
        "Here's the plan:\n",
        "* Flatten the images (28x28 -> 784) with `X_train.reshape((X_train.shape[0], -1))` to simplify our linear model implementation\n",
        "* Use a matrix placeholder for flattened `X_train`\n",
        "* Convert `y_train` to one-hot encoded vectors that are needed for cross-entropy\n",
        "* Use a shared variable `W` for all weights (a column $\\vec{w_k}$ per class) and `b` for all biases.\n",
        "* Aim for ~0.93 validation accuracy"
      ]
    },
    {
      "cell_type": "code",
      "metadata": {
        "id": "eFhyXHtGBKzH",
        "colab_type": "code",
        "outputId": "36b402f5-e300-4999-b5b3-db8e116e2045",
        "colab": {
          "base_uri": "https://localhost:8080/",
          "height": 51
        }
      },
      "source": [
        "X_train_flat = X_train.reshape((X_train.shape[0], -1))\n",
        "print(X_train_flat.shape)\n",
        "\n",
        "X_val_flat = X_val.reshape((X_val.shape[0], -1))\n",
        "print(X_val_flat.shape)"
      ],
      "execution_count": 0,
      "outputs": [
        {
          "output_type": "stream",
          "text": [
            "(50000, 784)\n",
            "(10000, 784)\n"
          ],
          "name": "stdout"
        }
      ]
    },
    {
      "cell_type": "code",
      "metadata": {
        "id": "KtccK3exBKzS",
        "colab_type": "code",
        "outputId": "4cbc58cb-c1c7-4c96-f825-c06f9c7334ee",
        "colab": {
          "base_uri": "https://localhost:8080/",
          "height": 85
        }
      },
      "source": [
        "import keras\n",
        "\n",
        "y_train_oh = keras.utils.to_categorical(y_train, 10)\n",
        "y_val_oh = keras.utils.to_categorical(y_val, 10)\n",
        "\n",
        "print(y_train_oh.shape)\n",
        "print(y_train_oh[:3], y_train[:3])"
      ],
      "execution_count": 0,
      "outputs": [
        {
          "output_type": "stream",
          "text": [
            "(50000, 10)\n",
            "[[0. 0. 0. 0. 0. 1. 0. 0. 0. 0.]\n",
            " [1. 0. 0. 0. 0. 0. 0. 0. 0. 0.]\n",
            " [0. 0. 0. 0. 1. 0. 0. 0. 0. 0.]] [5 0 4]\n"
          ],
          "name": "stdout"
        }
      ]
    },
    {
      "cell_type": "code",
      "metadata": {
        "id": "hk15-3uCBKzZ",
        "colab_type": "code",
        "outputId": "4f964409-c1ae-4e71-a9be-c17dd27aa58f",
        "colab": {
          "base_uri": "https://localhost:8080/",
          "height": 221
        }
      },
      "source": [
        "# run this again if you remake your graph\n",
        "s = reset_tf_session()"
      ],
      "execution_count": 0,
      "outputs": [
        {
          "output_type": "stream",
          "text": [
            "WARNING:tensorflow:From /content/keras_utils.py:68: The name tf.get_default_session is deprecated. Please use tf.compat.v1.get_default_session instead.\n",
            "\n",
            "WARNING:tensorflow:From /usr/local/lib/python3.6/dist-packages/keras/backend/tensorflow_backend.py:79: The name tf.reset_default_graph is deprecated. Please use tf.compat.v1.reset_default_graph instead.\n",
            "\n",
            "WARNING:tensorflow:From /usr/local/lib/python3.6/dist-packages/keras/backend/tensorflow_backend.py:82: The name tf.placeholder is deprecated. Please use tf.compat.v1.placeholder instead.\n",
            "\n",
            "WARNING:tensorflow:From /usr/local/lib/python3.6/dist-packages/keras/backend/tensorflow_backend.py:84: The name tf.get_default_graph is deprecated. Please use tf.compat.v1.get_default_graph instead.\n",
            "\n",
            "WARNING:tensorflow:From /content/keras_utils.py:75: The name tf.ConfigProto is deprecated. Please use tf.compat.v1.ConfigProto instead.\n",
            "\n",
            "WARNING:tensorflow:From /content/keras_utils.py:77: The name tf.InteractiveSession is deprecated. Please use tf.compat.v1.InteractiveSession instead.\n",
            "\n"
          ],
          "name": "stdout"
        }
      ]
    },
    {
      "cell_type": "code",
      "metadata": {
        "id": "zGgKxDHs-U1a",
        "colab_type": "code",
        "colab": {}
      },
      "source": [
        "W = tf.get_variable(\"W\", shape=(784,10))\n",
        "b = tf.get_variable(\"b\", shape=(10,))\n",
        "# Placeholders for the input data\n",
        "input_X = tf.placeholder(tf.float32, shape=[None, 784])\n",
        "input_y = tf.placeholder(tf.float32, shape=[None, 10])"
      ],
      "execution_count": 0,
      "outputs": []
    },
    {
      "cell_type": "code",
      "metadata": {
        "id": "JLGhDE3xBKzt",
        "colab_type": "code",
        "colab": {}
      },
      "source": [
        "# Compute predictions\n",
        "logits = tf.matmul(input_X, W) + b #tf.matmul(input_X, W)+b\n",
        "probas = tf.nn.softmax(logits)\n",
        "classes = tf.argmax(probas,1) ### apply tf.argmax to find a class index with highest probability\n",
        "\n",
        "# Loss should be a scalar number: average loss over all the objects with tf.reduce_mean().\n",
        "# Use tf.nn.softmax_cross_entropy_with_logits on top of one-hot encoded input_y and logits.\n",
        "# It is identical to calculating cross-entropy on top of probas, but is more numerically friendly (read the docs).\n",
        "loss = tf.reduce_mean(tf.nn.softmax_cross_entropy_with_logits_v2(labels=input_y, logits=logits)) ### cross-entropy loss\n",
        "\n",
        "# Use a default tf.train.AdamOptimizer to get an SGD step\n",
        "step = tf.train.AdamOptimizer().minimize(loss) ### optimizer step that minimizes the loss"
      ],
      "execution_count": 0,
      "outputs": []
    },
    {
      "cell_type": "code",
      "metadata": {
        "scrolled": false,
        "id": "REBv1yk2BKz0",
        "colab_type": "code",
        "outputId": "5283ee03-4240-4f94-d694-577b49fa83ad",
        "colab": {
          "base_uri": "https://localhost:8080/",
          "height": 309
        }
      },
      "source": [
        "s.run(tf.global_variables_initializer())\n",
        "\n",
        "BATCH_SIZE = 512\n",
        "EPOCHS = 40\n",
        "\n",
        "# for logging the progress right here in Jupyter (for those who don't have TensorBoard)\n",
        "simpleTrainingCurves = matplotlib_utils.SimpleTrainingCurves(\"cross-entropy\", \"accuracy\")\n",
        "\n",
        "for epoch in range(EPOCHS):  # we finish an epoch when we've looked at all training samples\n",
        "    \n",
        "    batch_losses = []\n",
        "    for batch_start in range(0, X_train_flat.shape[0], BATCH_SIZE):  # data is already shuffled\n",
        "        _, batch_loss = s.run([step, loss], {input_X: X_train_flat[batch_start:batch_start+BATCH_SIZE], \n",
        "                                             input_y: y_train_oh[batch_start:batch_start+BATCH_SIZE]})\n",
        "        # collect batch losses, this is almost free as we need a forward pass for backprop anyway\n",
        "        batch_losses.append(batch_loss)\n",
        "\n",
        "    train_loss = np.mean(batch_losses)\n",
        "    val_loss = s.run(loss, {input_X: X_val_flat, input_y: y_val_oh})  # this part is usually small\n",
        "    train_accuracy = accuracy_score(y_train, s.run(classes, {input_X: X_train_flat}))  # this is slow and usually skipped\n",
        "    valid_accuracy = accuracy_score(y_val, s.run(classes, {input_X: X_val_flat}))  \n",
        "    simpleTrainingCurves.add(train_loss, val_loss, train_accuracy, valid_accuracy)"
      ],
      "execution_count": 0,
      "outputs": [
        {
          "output_type": "display_data",
          "data": {
            "text/html": [
              "<img src=\"data:image/jpeg;base64,/9j/4AAQSkZJRgABAQEASABIAAD/2wBDAAIBAQEBAQIBAQECAgICAgQDAgICAgUEBAMEBgUGBgYFBgYGBwkIBgcJBwYGCAsICQoKCgoKBggLDAsKDAkKCgr/2wBDAQICAgICAgUDAwUKBwYHCgoKCgoKCgoKCgoKCgoKCgoKCgoKCgoKCgoKCgoKCgoKCgoKCgoKCgoKCgoKCgoKCgr/wAARCAEgA2ADASIAAhEBAxEB/8QAHwAAAQUBAQEBAQEAAAAAAAAAAAECAwQFBgcICQoL/8QAtRAAAgEDAwIEAwUFBAQAAAF9AQIDAAQRBRIhMUEGE1FhByJxFDKBkaEII0KxwRVS0fAkM2JyggkKFhcYGRolJicoKSo0NTY3ODk6Q0RFRkdISUpTVFVWV1hZWmNkZWZnaGlqc3R1dnd4eXqDhIWGh4iJipKTlJWWl5iZmqKjpKWmp6ipqrKztLW2t7i5usLDxMXGx8jJytLT1NXW19jZ2uHi4%2BTl5ufo6erx8vP09fb3%2BPn6/8QAHwEAAwEBAQEBAQEBAQAAAAAAAAECAwQFBgcICQoL/8QAtREAAgECBAQDBAcFBAQAAQJ3AAECAxEEBSExBhJBUQdhcRMiMoEIFEKRobHBCSMzUvAVYnLRChYkNOEl8RcYGRomJygpKjU2Nzg5OkNERUZHSElKU1RVVldYWVpjZGVmZ2hpanN0dXZ3eHl6goOEhYaHiImKkpOUlZaXmJmaoqOkpaanqKmqsrO0tba3uLm6wsPExcbHyMnK0tPU1dbX2Nna4uPk5ebn6Onq8vP09fb3%2BPn6/9oADAMBAAIRAxEAPwD9/KKKKACiiigAooooAKKKKACiiigAooooAKKKKACiiigAooooAKKKKACiiigAooooAKKKKACiiigAooooAKKKKACiiigAooooAKKKKACiiigAooooAKKKKACiiigAooooAKKKKACiiigAooooAKKKKACiiigAooooAKKKKACiiigAooooAKKKKACiiigAooooAKKKKACiiigAooooAKKKKACiiigAooooAKKKKACiiigAooooAKKKKACiiigAooooAKKKKACiiigAooooAKKKKACiiigAooooAKKKKACiiigAooooAKKKKACiiigAooooAKKKKACiiigAooooAKKKKACiiigAooooAKKKKACvPfjt%2B1J8FP2b5NGsfil4g1Maj4ilnTQNB8OeF9R1zVNR8lVed4bHTbee5kjiVkMkixlI96biu5c%2BhV4N%2B0P8D/j5/wANJ%2BDv2tv2bLLwfrWueH/B2seFNX8KeOdcutLtLywv7mwuxcQXtraXj288U2noCpt3WVJSCUKK1ABpf/BTL9izWLvxPb2nxXv0h8FWsk/jLUrvwXrEFjoIS0iu9l5dy2iwWsrQzRskMjrJIWKorMrKL2n/APBQ/wDZK1HwBrXxFTx/q9vB4f1ay0vVdE1DwNrNrrkV5ebfscC6PNaLqEr3AYGER27eaAxTcFYjy2b9gH4y%2BMf2a/jn8NfGHinwppHin4o/FS38daHc6U1xeWFpeW0OiywQ3IkihkkiN3pRRwoyYHGDuJVaPi79i/8AaV%2BLmr/Ef45fG34S/CjWvFnjWx8KaPp/gKy%2BI2s2Wm6fY6Hcaldw3qa7b6al5DqDXOqTOksVoPJSKNFZiWcgHsviH9vv9mzwv4a8OeI9XvvG3meK0v5NE8P2vwm8SXGuSRWUscV3NJpMWntf28MLzQq8s0CIpmiy37xM%2Bmaz8RPBHhv4e3XxX8T%2BJbbSvDljo76rf6vqrfZYbSySIzPPMZdvlKsYLNvxtAOcYNfGHin9hH9s/WPgX4X8Nay3hfxV470a58RHRfGV/wDHbxNpGr%2BCLW%2BuUktLO11q1sJLzXIYkjhEy3qw/aTbReYCFGPUfjR/wTotfj1%2Bzb4n%2BHHxD%2BOfjW78d%2BMPhfH4Z17xS3jbWho818tpDE2oJoS3y2FuzzQLK3kRRSEPIBIrSM5AOkg/4KUfsZf8K58V/FbWPite6Jo3giysr7xQ/ifwdq%2Bk3NlZXkxhtb37LeWsVxJaSyK6pcxxtC3luQ%2BEYjj/AI3f8FZP2d/hn8ENU%2BMfgPRfFXiqbQfiD4X8L674Y/4QXXbHU7A6zqVrax3T2cmnNdeV5Fw88DeT5d48aW8MhknjB8r1T/gmJ8ZPHfwq8faR4i8DeG9G8Y%2BI9D0fR7DxDqv7RfjPxut3aWusW%2BoTRyf27AfsEZ8likUSzHe%2BGkxknv8A9qH9gz40/GD4g/F/4g%2BBfEPheOTxfB8LbzwlZ6tfXMSvf%2BE/EdzrUsN40dvJ5ENwGt4VljEzrl2MfyKrgHqFh/wUE/Zb1H4m2XwZh8T%2BJo/Fd5oun6xLoF38N9egudO0%2B9adILu/SSyU6dDut5VeS68pYiFEhQum6j4a/wCCmH7FPi3wZ4s%2BIWkfGC4TR/Bfgi68Zaxe6h4S1W0Fx4et0Z5tWsVntUbVLNVQ4nsxPGxZArEugbB0P9kP4ofEP4mfG74g/G9fD2gxfGj4O%2BHfCF1Y%2BE9duNRl0u4tE11Ltlnns7XzYwNViMT7FZikm6OPA3fN37Y37Kn7UOj/ALDHxS%2BJv7TF34AtIfhD%2BxT8QfBHhePwFqF5cNrzXukWxn1G6W5toBYqE0i3CWcbXAVppCZ22oKAPrPw9/wUl/Yy8TaHrHiPT/i1dQWehppU1/JqnhLVbJmtNSu1s7HUIUuLVGubCWdgovoQ9qoDO0qorMPT9E%2BLvw88R/FLX/gvofiH7T4k8LaXp%2Boa/YR2k22zgvmuBa7pinlF3%2ByzHy1cyKoRmVVkjLfJOofsz%2BIPFegeKfjb/wAFIvF/wz8J%2BBbf9nu5%2BHUlx4f8QTLay6beyQyXmq3k17BbpYOTBbCG2QzCAmT/AEiQsuOw/wCCPngP4u2f7I9r8f8A9pDUDf8AxJ%2BL15H4n8V6g9nJbtJCLSCy01fKl%2BeH/iX2lpI0TYKSzTZAYtkA%2BqqKKKACiiigAooooAKKKKACiiigAooooAKKKKACiiigAooooAKKKKACiiigAooooAKKKKACiiigAooooAKKKKACiiigAooooAK8R0j/AIKMfse6ld69Z6n8Urzw83hzw5c%2BINQk8a%2BEdV0GObSbd0jnv7WTUrWBb63R5IlaW2MqAyxjOXXPtN7FczWcsNndCCZ4mWKYx7/LYjhtp64POO9fmJq//BHL9uX4v6t4X1z43fHHQ31vw14P1Cz1DxRqHxW8TeJx4h1v7ZpV9a6idLvoobLSbaS50xfPsLIBRHJtWWQKgUA%2B2X/b/wD2YbX4aN8WNY8QeKtK0ttcg0axs9c%2BGWv2GqanfzIZIYLLTbixS9v2kQM6/Z4ZAyo7AkIxHReA/wBqz4H/ABH1%2By8J%2BHPEOqQ6vf8AhSfxJDpGteFdS0y7TTYbv7JLLLDeW8UkDrP8hhkVZe%2BzbzXk3xO%2BDn7bvxib4e/G3XPBvwq0P4h/Cjx1NrHh/wAM2vjjUr/Rdcs7jSbvTLmO4vn0qGaxmKXskkbpa3AjMQU%2BYJGxV%2BJPwG/bg1/4y%2BHf2mvA%2BjfCu08WX3ww1XwX4x0LUvFepSWGkLcX8N1a39lcJpwk1AxCN1kt5YrQSlxiWLHIB3Gk/wDBRv8AZA8R694F8LeFfiNqus6n8SfBuleLfBunaJ4H1m9nvND1F9lrqMiQWjNa2%2B7HmSTiNbcMpm8oMCdj4a/tufs3fFf4jXPwn8M%2BL9Ws9ft9LudThsvE/gzVtEW/sbeRI57uyl1G1gjv4I3liDy2zSIvmISQGUnyj9hT9hL4sfsw6/8ADjWfHniDw1dnwd%2Byl4R%2BGN%2B%2BkXM8rNq2lvM1zNF5kEe61bemxmKu235o0wK8a%2BGn/BKv9sbxP8UfC/ib9qb4w2eqRaf4A8V%2BF/GniaD4v%2BJNavPEUur2KW39p2umX0Men6EcqWNpaKUXKgTOI1WgD6l8J/8ABRf9kfxrosfirQfHeuf2Hcarpen6f4lvfh/rdrpWoy6lex2VlJaX09mlteQS3M0UYuIJHhBlQs4VgT6X4W%2BLvw88a/EDxT8LvC/iH7XrnguSzj8T2iWkwWxkuoPtEEZlZBG7tCVkKIzMiyRlgokTd8w%2BOPAnxF8K/wDBPbxp8CP%2BChnif4VeCPAWg/DSLQLb4meHfFt2GadI0trXUntLqzgTTZlmFvJDBHcXTGcoiOTtDdr/AMEr/h98WPDf7ImlfFX9oqwS3%2BJ3xYvpfHXxEhW3aL7Pf36xmG02N8yfZbGOys9pyQLXBoA%2BjaKKKACiiigAooooAKKKKACiiigAooooAKKKKACiiigAooooAKKKKACiiigAooooAKKKKACiiigAooooAKKKKACiiigAooooAKKKKACvF/j14/8A2i/%2BGi/AvwI%2BAvjPwV4fTX/BXiXXtX1Pxf4Lu9aJOnXeh28MMMdvqVj5Yb%2B1JWZmZ8%2BWgAXkn2ivCviLrSWX/BSr4Q6LIoxe/BP4hsjZ53R6t4NOPyZj%2BFJtLcuEJVHaPZv7tWX/APhB/wDgoX/0dB8Gf/DD6t/81FH/AAg//BQv/o6D4M/%2BGH1b/wCaivZqKZB4z/wg/wDwUL/6Og%2BDP/hh9W/%2Baij/AIQf/goX/wBHQfBn/wAMPq3/AM1FezUUAeM/8IP/AMFC/wDo6D4M/wDhh9W/%2Baij/hB/%2BChf/R0HwZ/8MPq3/wA1FezUUAeM/wDCD/8ABQv/AKOg%2BDP/AIYfVv8A5qKP%2BEH/AOChf/R0HwZ/8MPq3/zUV7NRQB4z/wAIP/wUL/6Og%2BDP/hh9W/8Amoo/4Qf/AIKF/wDR0HwZ/wDDD6t/81FezUUAeM/8IP8A8FC/%2BjoPgz/4YfVv/moo/wCEH/4KF/8AR0HwZ/8ADD6t/wDNRXs1FAHjP/CD/wDBQv8A6Og%2BDP8A4YfVv/moo/4Qf/goX/0dB8Gf/DD6t/8ANRXs1FAHjP8Awg//AAUL/wCjoPgz/wCGH1b/AOaij/hB/wDgoX/0dB8Gf/DD6t/81FWtf%2BN/7InwptNI0n46fGH4c%2BHNc1DRYNQNt4u8Q2Fpd3EcmR5%2B24dXZGdJAG6ZRhnggZv/AA1//wAE4P8Ao6L4I/8AhbaP/wDHa5p4zB05OM6sU10cop/c5JntYfhviTF0I1qGBrzhJXUo0a0otd1KNGUWtHqm1puWP%2BEH/wCChf8A0dB8Gf8Aww%2Brf/NRR/wg/wDwUL/6Og%2BDP/hh9W/%2Baiq//DX/APwTg/6Oi%2BCP/hbaP/8AHa9O0DRfhZ4r0Ky8U%2BFtJ8P6lpmpWkd1p2o6fBBNBdQSKHjljkQFXRlIZWUkEEEHBq6WJw9dtU5xlbtJP8mznx2TZzlcIzxuFq0lJ2TqU6lNN72TnTgm7a2Tbtra2p5z/wAIP/wUL/6Og%2BDP/hh9W/8Amoo/4Qf/AIKF/wDR0HwZ/wDDD6t/81FeefD7/go1%2Bxf4v8D2fjDxD8PfE%2Bgz6p441rwtomjXPwe1ue81a9064v45FtIodPZ7omHT552WJXMIBjk2SKyjsviF%2B1R%2By14FsvHtpeaJFp%2BseAvCGteIby28WeBNW0mzu7PTF/0ue3upNOcXtvEzRCSWyS6KiaNgj70V9jzTR/4Qf/goX/0dB8Gf/DD6t/8ANRR/wg//AAUL/wCjoPgz/wCGH1b/AOaiqth%2B1Z%2BxhqHxnk/Z%2BhvLf/hKLfxBHoN1H/wg1%2BLCHVX06PUo7FtQa0Fos72kqTJGZQzg4UFgVGz8a/ir8FfhJ%2Bzzrv7Q%2Bj%2BEdG8Uadpdg0mm2%2BhrbSDVbppRBBaxTAFA0lwyQ7idqsxLdDQBQ/4Qf/goX/0dB8Gf/DD6t/8ANRR/wg//AAUL/wCjoPgz/wCGH1b/AOain/s4fEC2%2BLl54y8D/FH4FeG/CvjDwH4gh0zX9K0fUV1WxkWextr23uba6ktLZ5Y3iuVU74I2WWKVcMoV38k%2BJn7aPiH4DeGfifL8cv2Q/BGneIPAHwsHjuy03QvHQvrO6sjPPAILy6k0uBrCbfA3Kw3EbKshR38phQB6x/wg/wDwUL/6Og%2BDP/hh9W/%2Baij/AIQf/goX/wBHQfBn/wAMPq3/AM1FeS/FD9uXw58L/gN8P/jFfeBf2fL1fiB8RH8M2uuWvxrT/hE7GJdN1G%2B%2B1S62dH%2B8W09oPKFtjzJkHmdRXU/tG/tYeDf2evD3wzjPwJ8N%2BJ/EfjvXfD1rq2m%2BH9Xjex0bT9R1TT9Mm1RbxrUG5giudStkiHlRPc7wQIlWVogDsf8AhB/%2BChf/AEdB8Gf/AAw%2Brf8AzUUf8IP/AMFC/wDo6D4M/wDhh9W/%2BaiuR8dftd/C7wh%2B1ov7NmnfAe21XS7Hwnq%2Bp%2BJfF1osWLG/sra2uzpcNsISbmc2t1DM53xiMXFuAJDIwiyPgT%2B1lq/xys9Q8MaX%2By94At/G918N9G8deC/DsHjxLm01PR9TkmjhN1eLpoNlNG0DeYqQ3EeHTypZvm2AHov/AAg//BQv/o6D4M/%2BGH1b/wCaij/hB/8AgoX/ANHQfBn/AMMPq3/zUVwkn7Tet6x%2BwH4U/bw8Hfs2/DqLT9U%2BGUPjbxbpXizxrNp8WiWTact9IkVzBpFybsopdctFBkKGwM7RjaD%2B2deah%2B0P4C/Zu8W/s8/Cbwf4i8T/AA18MeKtd0jxl8UVstSt5tUuL%2BG503TLUaU51ae0%2BwSFjvtw5ljBEYJYAHqn/CD/APBQv/o6D4M/%2BGH1b/5qKP8AhB/%2BChf/AEdB8Gf/AAw%2Brf8AzUV5b4D/AG5/CHxB/bA1P9k7RfgB4Ma/stX1vTVs08Vxtr9idPh8xdQ1LSvsObDTLpii292J5vM%2B02p8seaQl34T/tu/DDxPo/xSvviN8KvAhf4Wmwhvrz4XeKE8UadqV/ePNFFo1vctZWbHVRPFFE9kY9ym%2Bs/mJm2qAei/8IP/AMFC/wDo6D4M/wDhh9W/%2Baij/hB/%2BChf/R0HwZ/8MPq3/wA1FeJyf8FF/BUXwc%2BGPinW/gf8MfCnjL4j2%2Bt3L6J8QPiTb6Romkw6VfR2N1v1Y2Ehmka4uLVIoktd0hmY/KsTNXaWH7VOjan%2B2vN%2Bx4nwt%2BENhc2Oi6VqF42s/ElLfWb5buGeWT%2BzdMGmN9uSHyCGczxAhskLjBAO4/4Qf/goX/0dB8Gf/DD6t/8ANRR/wg//AAUL/wCjoPgz/wCGH1b/AOaiuD/Zh/anj/ai8TfEvw74P%2BEXwajufAviLxPoVlocHxQ%2B06095pWs3mlwPqdimk50q3ujZtMJA9yyJImI5ckjmbv9u2TwJ4T%2BJWr/ABs/Zl%2BHGhXngj4g6X4K0efTviGJ9I1XVru0t7ubz7%2B70q0%2BxW1pDco883lS7RDcBVeSLy2APYv%2BEH/4KF/9HQfBn/ww%2Brf/ADUVQ8D%2BOP2rPB37Vnhz4I/G74j/AA98TaN4m%2BHviHXIZvCvw8vtFurS602%2B0S3RWe41e%2BSWN01SUlQiMGiQhsZB6P4a6xpPxH/Z9t/ixJ4c8DW99e6Vc3dtd/D/AMRLrWm4VpPJltdQFtbGdWVUfd5SYYsvzBdxy/HH/KQv4X/9kZ8ef%2BnbwhQB7NRRRQAUUUUAFFFFABXzj8JvFX7d/wAddH17x34X%2BN/wk0DS7f4heKtD0vSr/wCD%2BqX9xFa6Xr1/pkLS3CeIoFlkeOzV2ZYo13OQFAAr6Orxn9g//kiGuf8AZZviP/6mut0AH/CD/wDBQv8A6Og%2BDP8A4YfVv/moo/4Qf/goX/0dB8Gf/DD6t/8ANRXs1FAHjP8Awg//AAUL/wCjoPgz/wCGH1b/AOaij/hB/wDgoX/0dB8Gf/DD6t/81FezUUAeM/8ACD/8FC/%2BjoPgz/4YfVv/AJqKP%2BEH/wCChf8A0dB8Gf8Aww%2Brf/NRXs1FAHjP/CD/APBQv/o6D4M/%2BGH1b/5qKP8AhB/%2BChf/AEdB8Gf/AAw%2Brf8AzUV7NRQB4z/wg/8AwUL/AOjoPgz/AOGH1b/5qKP%2BEH/4KF/9HQfBn/ww%2Brf/ADUV7NRQB4z/AMIP/wAFC/8Ao6D4M/8Ahh9W/wDmoo/4Qf8A4KF/9HQfBn/ww%2Brf/NRXs1FAHjP/AAg//BQv/o6D4M/%2BGH1b/wCaij/hB/8AgoX/ANHQfBn/AMMPq3/zUV7NRQB4z/wg/wDwUL/6Og%2BDP/hh9W/%2Baij/AIQf/goX/wBHQfBn/wAMPq3/AM1FezUUAeM/8IP/AMFC/wDo6D4M/wDhh9W/%2Baij/hB/%2BChf/R0HwZ/8MPq3/wA1FezUUAeM/wDCD/8ABQv/AKOg%2BDP/AIYfVv8A5qKP%2BEH/AOChf/R0HwZ/8MPq3/zUV7NRQB4z/wAIP/wUL/6Og%2BDP/hh9W/8Amoo/4Qf/AIKF/wDR0HwZ/wDDD6t/81FezVX1DVtK0lBJqup29srfda4mVAfzNDaW4m0ldnkP/CD/APBQv/o6D4M/%2BGH1b/5qKP8AhB/%2BChf/AEdB8Gf/AAw%2Brf8AzUV6W3xL%2BHCS%2BQ/xA0QOeiHVYc/luq3B4s8LXSeZbeJdPkX%2B9HeIR%2BhqFUpvZr71/mSqtN7SX3r/ADPKf%2BEH/wCChf8A0dB8Gf8Aww%2Brf/NRR/wg/wDwUL/6Og%2BDP/hh9W/%2BaivVbvxh4SsIjPf%2BKdOgjHV5r6NR%2BZNcv4i/ad/Zr8IQtceLP2hfA2lxp959R8WWcAH1LyClOtRpq8pJerS/NoieIw9JXnNL1aX5tHJf8IP/AMFC/wDo6D4M/wDhh9W/%2Baij/hB/%2BChf/R0HwZ/8MPq3/wA1FQx/8FJP2AZdVOjL%2B2V8N/OH8beLrURf9/S%2Bz/x6u00b9pv9m3xHbrd%2BHv2hPA9/E/3ZbLxZZyqfoVkIrGGNwVR2hVi/SUX/AO3GNPMcurO1OtB%2Bk4v8pHI/8IP/AMFC/wDo6D4M/wDhh9W/%2Baij/hB/%2BChf/R0HwZ/8MPq3/wA1Fd9dfHD4K2Nv9rvfi/4Xhi/56y%2BILZV/MvisO6/a8/ZOsnaK9/ag%2BHcLL95ZfGtgpH1zLWksTho/FOK/7ej/AJmksXhIfFUiv%2B3o/wDyRzv/AAg//BQv/o6D4M/%2BGH1b/wCaij/hB/8AgoX/ANHQfBn/AMMPq3/zUVoaj%2B3d%2BxDpEZk1L9sT4XQgDo3j/Ttx%2Bg87J/CuU1P/AIKq/wDBOrSZGiuv2vvBjlepttRMw/AxqwP4VhPMsup/FWgv%2B34//JGU8zy2nLlnXgn5zgv/AG42/wDhB/8AgoX/ANHQfBn/AMMPq3/zUUf8IP8A8FC/%2BjoPgz/4YfVv/moridT/AOCyn/BM3Sf%2BPr9q/R3/AOvbSr%2Bb/wBF27Vh6p/wXT/4JeabA0kH7SEt5IvSC08G6uWb6FrVV/WsJZ5ksN8TT/8AA4/5mdTOMoo258RTV/78P0k/yPUv%2BEH/AOChf/R0HwZ/8MPq3/zUUf8ACD/8FC/%2BjoPgz/4YfVv/AJqK8En/AOC/v7FlxP5HhD4f/FTxGScIdE8Fq2/6CWdD%2BlRX3/Bbe31Fc/Dz/gnd%2B0FrGR%2B78/wWIQ3/AH6easP9Y8j%2BzXT9FKX5QZtHGUZtKmpyv/LTqy/GNJr/AMmPoD/hB/8AgoX/ANHQfBn/AMMPq3/zUVb/AGVviN8afGGsfFDwJ8dNf8L6tqngH4hRaHZ6r4T8NXOk291ay6Do%2Bpqz29xe3jLIsmoyoWEu0rGh2qc5%2BWNS/wCCuf7dmvEwfDX/AII3fE9g3%2Bru9eN7br/3z9gAP/fder/8ErviR8Y/i5p3xv8AiH8fvhQ3gfxbqPxmQ6r4WZmJsQnhTw7HCCW5y8KRSc/3%2B1dGDzfBY%2Bs6dHmbSvdwnFffKMVfyOxU8Yoc9TD1IR/mnBwTfZczu3/27bzWx9V0UUV6YgooooAKKKKACiiigAooooAKKKKACiiigAooooAKKKKACiiigDz39q60%2BAd7%2Bzv4rt/2oJPC6%2BBDpudfPjWeCPS9okUxC4a4Ii2mYRgBzgttHOcV84fsr/tJfsOzf8Eb/h5rvxt%2BKngfX/A3hv4A6DN45sDqVvqMSwWlhaw3EE1vGzmQrcKIGhKkmU%2BUVLHaftGigD5k/wCCU4%2BHGo/ALxD44%2BE2t%2BDIdA8UePLvVtN8D%2BAdds7/AEzwPDJa2iR6OrWTvbxT7I1vLiGI%2BWlzfz7C6FZH5j4t%2BK/inb/8FkPgHo3jfwf4f03Rbr4cfEi18MX%2BleJp7y61GPf4bmka6t5LKBLRlMKbVjmuA25ssm0bvsKvjH9s7VzpH/BYz9i3c22O78P/ABPtpDn%2B9YaOVH/fSrXLjJ%2Bzoc3nH8ZRX6nu8OYb63mnsu9Os/8AwGhWl/7afZ1FFFdR4QUUUUAFFFFABRRRQAUUUUAFFFFABRRRQB5nqX7Mn7Nvxo0fQfFPxi/Z78D%2BLNTt/D9rawaj4l8J2d/PHAql1iWSeNmCBndgoOAXY4yTVL/hgf8AYV/6Ms%2BEv/hudM/%2BMVyfxe/4KQfsX/sfS%2BHPhp%2B0X8Zf%2BEd1u%2B8KWep2tl/wjuo3e%2B1ffEsm%2B1t5EGXhlG0sG%2BXOMEE8h/w/N/4JZf8AR0X/AJZOuf8AyFXi4jF8O068o150lNPXm9ne/ndXv6mi8Q8RlS%2BqRzidJU9ORYmpBR62UVXio77KK321PW/%2BGB/2Ff8Aoyz4S/8AhudM/wDjFenaBoGheFNCsvC3hbRbTTdM020jtdO07T7ZYYLWCNQkcUcaAKiKoCqqgAAAAYFfK3/D83/gll/0dF/5ZOuf/IVfT3gHx14V%2BKHgTRfiX4F1T7doniLSLbU9HvfIeL7Ra3ESyxSbJFV03I6nayhhnBAPFdGBxGT1pyWDlTbS15OW9vPlS0v3FLi6rxJ%2B6nmMsTya2dedXlvpe0qtS19rpK%2B1%2Bh4T8MP2F/FfgDx54U1rU/jPpuoaD4H%2BKHirxf4a0uHwhJBdhdd/tZ57S4uTeukpil1VikqQxfu4QjIWYyDyPWv%2BCMMuveKfHviS8%2BO3h2K48ZeAvH/hf%2B2rX4Xomt3MfiaRXFxquom%2BL6o9ltEcKBbdPLG3amAw92sP2/PhHq%2BnWM2k%2BFPEc19daL4t1K70mX7Bby6Wnhy9Ww1GO7knu0ggYXbpAjNL5bEli6xq7rwng3/gp94H%2BO03w41H4CQWctjrvxn1HwN43gv76x1KXTzb%2BDdX8Qoba50q%2BuLOV2NpYHek8yBJpo2CSqfK9Ig66T9hgP4h1XXx8UMHU/jrpPxHMQ0T/V/YtI0/TfsGfP8Am3/YPM87A2%2Bbt8ttu5u8%2BNfwO1D9oD9nnXfgl4/8YxW9/rVg0aeIND0swCyuklE1rdRQSyy5aGVIX2s7K7RnOA2B88eLf%2BCq0r/BDwp41%2BEXwp1/xHe6pB8PZPEfimXw/Bb6NoreJLvTlSC5gGpNcx3DWt75qpAbqKBpoPNmZSS30h8Yfjx4f%2BEnwC8efH260bUrmx8BeH9Y1S%2BsrjT5rSW4GnQyyyrGJ0UsreSwSVQ0bghkZlIJAOd%2BAv7P/wAUPhTq/iLx341%2BLWh%2BIfFXjjxbFq3jTUbLwfNYWklrBpkVhb2VjbtfTNabPs8EpklluSzNcDaolTyeL/Zx/ZL/AGp/gfovji/8WftMfD/xZ4x8a3Z1G78Z3PwivYJ5r4OBCLmM67IstnBABbw2kJtxGoDBy7SM%2B3%2By18bPj94h%2BKnib4DftKjwjc%2BItG8FeHfFdrqXgvSrmytBa6rJqUBsmjubm4d5befS5szh0WVJoyIoyGWua8ZftE/tUfDL48a/8I7658DeNJZPhf4i8XaPpXhfwpf2974eNpNDHpkN%2BzX04vReGSaNDGlq7PZTeWjqrmIA2/A37LX7Q3ww8O%2BLdX8EfHzwMPG3j/x8/ifxbq2q/Cu4m0csdLtdNWGz06LV4pbc%2BVZW7NJJdTs7tOWGJFEfn3iz/gjV8A/E/wAFvCfw4g%2BIXjXTtd8NWvhOxufFGj%2BNdZ01NRsdE1pNUWB7DTr%2B2tULM12kMgQvZm5WSI7oUrO0/wDbf/aav/2Q7/4h6Dr2ia98TNP8UeFrLxH4btP2ePFNpd%2BFLPUbyzjvJbjQJL99SvvJt5bqeOWJokkEBKhgjVt%2BIf2xvj14w0Lwh4X/AGafiD8OPEuv33w/8UeLNd8T6r4K1Oz0%2B4/sa8tbI6VHpzagLnT7l7i7aGV55pWtms5Q8DswjQA6u0/4JqfBfw3%2B1T4Z/ak8A%2BKvGOkXWiah4h1LUdAk8f69dWGoX%2BrPHJNOttLqBtrdfMWR3hSHy5TIuVHlJiD4B/sJ%2BJ/gFrXjX4r%2BFPFHwu034geKNGt9N0%2B98J/B1tH0CxWKaWd55tMh1MzXdxNLMTNKbxCwhgVQmxjJxPw//wCCm8fxr%2BPmkeFfCvjPQPBvhYQ%2BFFv4PEngPVtTuNTvdc0%2B21C3tBqVtPDY6QzRXtrBAbkStdXDSIkYMYD3f2dP%2BClOg/FLxD4q%2BIXxI%2BLXhfQPBOnWHiO80fw5L4A1e3vmsdJv/sst6uszTfYtSKohea0tLdpLd7mKJpGaM%2BYAdH4C/YL%2BIGnfsGeDf2Ffij8d9G1vTvCx8Padf6xovgeXThrGgaXNaO2nTQS6hc7Xuo7UwTTCTaY53CwqcGuw/ae/Zq%2BKP7Sdzb%2BCbj4ueHNI%2BH8t/pN7rWkjwLJca3NNY36Xq/ZtSN%2BsVqGeKIAmzleP52RwzKycH8Bf2jf2wPj58NviZqmuzfDv4Ya54J%2BJzWDP4o8PXeowaToLaFp2rJHfRx6jbB76Magsc0qTxwKYnKqwUFuO%2BI3/AAUn%2BNekfsg%2BA/if4F%2BHfh%2BXx94j0211zXrfULa6OmWHh/8AtGK0OpiLzEmQXvmw/ZIZJA4E7u3mi0mVgDvvD37BXj/w98XLLxvB%2B0Bp0uieHPHvinxr4O06XwQTqdtrGtwahFKl7f8A23F7ZQ/2nceXbLBA22G0RpWFupNiL/gn3D8UvGHiP4j/ALXnxLHirXNcGgLat8OI9W8F2%2Bm/2Q%2BoyWk8bWmqy3bXJfU7jfK1ztKpAojXy8tlaX%2B3XqHiv9tzXvgFa/EDw34c8PeE/GVr4UuLPVvAOrXlxr2py6Tb6jsi1iKeLT9MkIu0jitZ0mnnNvKygK8Zrzm1/wCClH7S2lfBO0%2BNniDwj4Jvrf4j/Aa/%2BKXwv07T7C6t5NHsbe50pDaai0l241CYW%2BuWEw%2Bzi1MkkU8KJlo3oA6vwp/wSpf4T/D3wbo3wd%2BN1uvibwhpvi3SE8QfEDw/eeJ4LjS/EN1Bc3kK291qSyRSqbO0CP57R/LPuib7Q4rs9S/Yd8cX/h/4cfBUfGzSB8MPhtfeFb3TNLl8FySeI7q40FraW1MmrtfeUFkltIzLtsw7xPLFvAkJrlPhF%2B1f%2B0l8YfgV48%2BIA%2BLnwz8Hr8OPGd5Za14x8bfCzWdNgl0qDSrO9ae50K81S3vdHkWS5kQ/apyXhgS5SMx3MeIvir%2B2p%2B014H/Z%2B%2BEP7RsvhbSdDm8caP4fk1/4c6r8OdYvJYb%2B%2BltVuIJdciuYrTQ0RbkKkmoQYLxlTliUUA9U8Mfs1fFG8/aa0z9or4w/Fzw5q48MaJrGleEdJ8L%2BBZNJeK31G4tZZTfXEt/dG8ZRZwgCNbeMuXkaMnYI%2Bbk/YBhP7NWjfCM/EeyuvGOifEc/EGDxrqfhjz7e48Stq0upyXMtj9oUtAzzywiEXCtHEUVJVaNGHLD9vL4saB8R7fx/4z0zw0PhRq/xP8WeBNO0%2Bx0q5/tyzudBsNWuZtQmuWuTBNFLLoWoRLbrboyCW3cyv86jpf8Agnv%2B1/4l/aw0C58S%2BNfiB4XlvdQ8O6Vr2n%2BD9H8CavpFzo9lerMyMbvUZimt27bRGl/aQwwO8EpUEMAgB23wX%2BA1z%2Bzv%2Bz94h8Har4uh1zVNV1PX/EGt6jZ6V9gtXvtRuri9nFva%2BZL9nhDzMFQySNgbnd3ZmNPxx/ykL%2BF//ZGfHn/p28IV6l45/wCRJ1j/ALBVx/6LavLfHH/KQv4X/wDZGfHn/p28IUAezUUUUAFFFc78V/iv4B%2BCPgK9%2BJnxN1xtP0eweCOaaKzmuZZJZpkgggiggR5Z5pZpY4o4o0aSSSRERWZgCAdFRXndl%2B1b8BL74F3X7SKeOmh8IWMk8N9e3mkXdvc21zDcm0ktJLKWJbpLoXKmD7K0QmMuIwhchTlS/tt/s/p4Bi%2BI1rd%2BML2yk1ebS5tO0z4Ya/d6rZXcSCSSK602Gxa9tCsZRyZ4UGySNs4kQsAes14z%2Bwf/AMkQ1z/ss3xH/wDU11uvUfAvjjwj8TfBWkfEf4f%2BIbXV9C1/TINR0bVbGUPDeWs0ayRTIw6qyMrA%2Bhry79g//kiGuf8AZZviP/6mut0AezUUUUAFFFFABRRRQAUUUUAFFcv8RPjf8F/hFbm7%2BK/xd8MeGYgu4v4g163sxj1/euteD%2BMP%2BCyH/BPXwxqX/CP6H8cH8V6oSfK0zwXoF5qckuP7rwxGI/8AfdceIzDAYR2rVYxfnJJ/de/4HBis1yzAu2Irwg%2BzlFP7r3/A%2BoKK%2BSW/4K3%2BGdXHl/Dz9hb9pHxI7cQy6f8ACx0gJ7bpJJl2j3xTV/ac/wCCqvxXbd8If%2BCfXh3wTZNzDqnxT8eI7SD/AGrSyHmxH2JNc39tYCX8Jym/7sJy/wDbUvxOP/WHLJ6UXKo%2B0KdSX48kV/5MfXFFfJLT/wDBczVF8iOw/Zd0tX4ad5fEE0kYP8SgfKSOwPFQz/sR/t5fFKB7j9pL/gp74g0zT3Um40b4VeG7bQxAn8QW%2BO6YjHdl4pf2nWnpSw1RvzUYL75Sf5MP7XxNV2oYOrJ/3lGmvvlN/gn6H038Qfi58KPhLYJqvxV%2BJ3h7wzayf6u58Q61BZRt9GmdQa8f8X/8FVv%2BCdPggO2s/tfeDJtn3v7I1A6hn6fZVkz%2BFfPer/CT/gg9%2Bypqk2ufGr4heEfGHiT/AJiF9418Sy%2BKdRlI/wCetshmAPX/AJYgmtrwj%2B3V%2BxJZsifscf8ABOXxt4yP/Lpf%2BA/grFZWQ9C08qReWvvtrzquc4iM%2BWVWjB/y3nVl90F%2BnzPs8v8ADvxfzjDrE0Ms9lSe06kaih/4MqvC0n8pPyudo3/BaD9k3xDlPgn4K%2BKfxKkbiCLwN8Nr6czH0Xz1hpD%2B2p/wUN%2BJw8r4Ff8ABMLV9Lt5f9XrPxP8Z2mliH0L2ahpm%2BitxTk/ac/4KpfETH/Csv8AgnPoHhG0I/cX/wAQ/iRA5Yf7VtaL5kf0JNKfBf8AwWr8eDydf%2BNfwH8BQy8ed4V8OajqlzCPXF6RGzD8qz%2BtY%2Bv9uq1/07oKC/8AAqkr/gdv/ELeIY/8jTP8Fh%2B6jXoykvlRhi5X8lK/zGJ8If8Agsl8UD9s8Y/tffC34XK3KWfgPwC2tFB2DNqTL8w7leM9OKxfG37KP7RHhO0GoftCf8FqvE2kQMuWnh0jSPD6EdyCWIFbY/4JmfGL4ifvf2l/%2BClXxj8T7%2Bbiw8JXkHhqxn9VeC2V8r7BhW94I/4I9f8ABO7wXeHV7j9ni08Q6i7brjUfF2qXeqSTt6stxK0efooo/s/G1/8Al1L1qYif/pNLT8UP/UXwtwX/ACMM7xOKl1VClWs/%2B38RWw8fmqPyPlvx1H/wTU8NyPD8a/8Agtp8ZfFiD/X2Om/FSa9tJPUeXp1tJ%2BjVzWnaZ/wQj1WQ3fg79mb4t/Fu%2BlH/AB/2OjeI76a49MedNCv6Cv008C/s/fAf4XxrD8NPgn4S8PKmNi6H4ctbTH/fqNa66hcPVJu81SX/AHDlU/GrUf5Ass8EsM/cyXEYhrrXxUI3/wC3adGq18pn5Yp8GP2RfE0XlfCv/ggL8V72Nv8AVv4rMuiFvQ5mu3IFVJ/%2BCeniLxo%2BfDP/AAQh8I%2BG1b/V3Xif9oCeVcepitJgy/TrX6s0Vb4Wws/4kl/27Sox/wDbJP8AEp43w4o/7twpgvJ1ZYms/wAalGL%2BcT8qLT/giv8AtB63N9si/ZY/Zc8MRH7sMuu%2BLdRnX/e3XPlH8K6bw9/wQ/8AjjHMrz%2BL/gH4f/29O%2BDMer7fouoyMrfjX6Y0U4cI5LF3cZP5pf8ApMEXDiXLcM74TIsspduXL6EmvnVlWv8ANM%2BAZP8Aghzq/ijSRoXxM/a5tLyyP37Pw18FPD2jxf8AAUiicL%2BVQaT/AMG3X7DUEn2rX/iF8R9RlY5dRqthbxH6JFZDb%2BdfoLRXR/qvkDd50FJ/3nJ/nInG8Y5xj6Xsp08PGPaGDwMF/wCS4P8AU%2BI9L/4N8/8Agm7p6BbvwX4oviOrXXiucE/9%2B9ldFo3/AAQq/wCCYGksJJv2dZr1h0N54v1Uj8luVB/EV9dUVvHh7IobYWn/AOAr9bnz31maTUYwV97UqMfyoI%2Bd/Df/AASZ/wCCcXhRw%2Bl/si%2BE5SP%2BglBLej8rh3rr7L9gr9hrT0Edn%2Bxr8K029D/wr7TSfxJhya9ZorrhlmW01aNCC/7cj/8AInPG0L8iSv2UY/8ApMY3%2BdzzvTf2Qv2TdGkEuj/sv/Du0YdGtvBNhGR/3zEK7Hw94L8HeEYjB4T8J6ZpcZ6pp1hHAD%2BCAVp0V0QoUKXwQS9El%2BSRXPO1r6BRRRWpIV4z%2By//AMlv/aO/7LNY/wDqFeF69mrxn9l//kt/7R3/AGWax/8AUK8L0AezUUUUAFFFFABRRRQAUUUUAFFFFABRRRQAUUUUAFFFFABRRRQAUUUUAFFFFABXwZ/wUt1T%2Bwv%2BCq/7EGqbsbtU8Y2uf%2Bu40OLH/j1fedfnX/wWOvJdI/4KD/sS6%2BnCWfjzUTcN/difVPDcbH/x%2BvMziXJls5duV/8Ak9M%2B48N6CxPGmFov7arx%2B/C4v/JH6KUUUV6Z8OFFFFABRRRQAUUUUAFFFFABRRRQAUUUUAZXgb/kSdH/AOwXb/8Aota1ayh4M0NMrA19CmSRFb6tcxovsqrIFUewAFL/AMIfpP8Az96r/wCDy7/%2BO0AalFZf/CH6T/z96r/4PLv/AOO0f8IfpP8Az96r/wCDy7/%2BO0AeH%2BIP%2BCaf7PniXxH8ZvEuoav4mEvxt062s9ct01GHydEESktJpqGEiBppyLmYS%2BaksyqWUr8hf4K/4J3fDnwt4uj%2BIXiD4xePvFPiA/E6Tx3eax4gvdP8y71NvCs/hfy2S1soYktxYTlljiSPEyI2dm6Nvbf%2BEP0n/n71X/weXf8A8do/4Q/Sf%2BfvVf8AweXf/wAdoA%2Bcv%2BHUnwYs/C%2BgeAfDnxn%2BJGkeHdIsfCEOqaDp2p6eIPEE3hprU6Zd3jPYtKJttlbJL9neCOVIlDJ8q4%2BgdY%2BHWkeLfA%2Bu/Dr4hX1z4j0nxFDfW2pWuqRwqGsroOr2Y8iOMGJY3MalsyFQN7u2WNz/AIQ/Sf8An71X/wAHl3/8do/4Q/Sf%2BfvVf/B5d/8Ax2gDzP4Hfse6X8C5NS1nTvjn478Qa/qkOi2N14o8TT6bPfHSNKkle00keXZRxfZh9ouwzmM3LG8mcz%2BYVkXO%2BEv7E1x8HvHfj/x/oP7VfxLvrr4i6he3%2Bsx6tB4flNvdTL5cEkM66StxttIgkVtDLLJDGiANG/OfXf8AhD9J/wCfvVf/AAeXf/x2j/hD9J/5%2B9V/8Hl3/wDHaAPKvDn7HOoeF18T%2BI9P/aq%2BJT%2BNvFradHqvxFni0FtTFnY%2Bd9mso4P7K/s9IFNzctj7JvLXDsXztK89rX/BNf4XX3grSvDWgfGP4h6DqtlD4ig1bxjo%2Bp2I1XXYNeulvNYiumms5IVFzcxxS7reKB4GiQW7QKNte7f8IfpP/P3qv/g8u/8A47R/wh%2Bk/wDP3qv/AIPLv/47QB49r3/BPv4N6r42s/EGjeJ/EuheH4r7w9fap4B0We0TR9Xu9CkgfSp7jzLZ7pWgNrZjbDcRJItpCsqyKCDBo3/BOb4B23iybUvGdzqvi/wwg1saL8NvFttp934f0j%2B17kXOoCKAWiyzrJJuwl1LOsSuyRLGhCj2j/hD9J/5%2B9V/8Hl3/wDHaP8AhD9J/wCfvVf/AAeXf/x2gD5u1v8A4JD/ALKkXw98a/DH4O/2h8L9J%2BIPjvT/ABN4ptfh1ouiWcV4LO0gt4tKeGbTpYZNNLQCd7aSNw8s0%2B5jHNJG3U/HX/gm5%2By/%2B1N8NrfwX%2B0/4K034ha9bWENlH8RfE/hLRJPECwR3X2lYknjsEihTcWQpFCilXfjczMfaP8AhD9J/wCfvVf/AAeXf/x2j/hD9J/5%2B9V/8Hl3/wDHaAPJdQ/YN%2BFF38WE%2BIuneK/EemaM3ijTfEt98PdLeyh0O91rT7SC0sr51%2Bym5RoorSzAiiuEgJtImaJiGLczp3/BLn4GWvhjUfBuo/EPxzqOmr4dGg%2BCLa71O0X/AIQbTVv4NQit9KaK1RgI7m0sXVro3LYsLdCxRNh%2BgP8AhD9J/wCfvVf/AAeXf/x2j/hD9J/5%2B9V/8Hl3/wDHaAPn3xp/wTO8KePPC8ui67%2B1B8Um1PUfiFa%2BMvE3iPOgvceIdQtLSG1s47y2k0prFra3S2tnjgjto0823jlbfICx7H4s/sfXfxv0Gy8E/Er9p/4j33ho6Ta2Hijw1GmiQW3ihYpTI8l68WmLPE02Qkq2cttGyKFCLls%2Bo/8ACH6T/wA/eq/%2BDy7/APjtH/CH6T/z96r/AODy7/8AjtAHk2nfsH/Cmy%2BM0nxWvPFviW/0xdf1PX9P%2BH9/PaPoWn6zqNpLZ32oRILYXJlmhuLxWSSd4Qb24ZY1aQkXf2cP2MvBP7N2vN4j0v4j%2BLvFFzbeFrLwx4fPiu7tJBoeiWju8Fhb/ZraAugLjdNcGa4k8tN8rbRXpn/CH6T/AM/eq/8Ag8u//jtH/CH6T/z96r/4PLv/AOO0AJ45/wCRJ1j/ALBdx/6LavLvHH/KQv4X/wDZGfHn/p28IV6ifBmhvhZ2vpkyCYrjVrmRG9mVpCrD2IIry7xx/wApC/hf/wBkZ8ef%2BnbwhQB7NRRRQAV5B%2B2v8N/H3xD%2BE%2BkX3wy8MtruseE/H/h3xPD4dS7hgfVotP1O3uJ7aOSd0iWYwpIYvNdIzKsYd0Ul19fooA%2BT/CvwJ8d%2BJ/2dvih4e%2BMn7P3jO2u/Hfje88cafoHhzX9GXUtLuEv4JNOt4Z2vfsy6lEbC1vSWc2glk2edKA2eF8PfDf8Ab4%2BBPwT8fax8M/hl8QPEHjL43fF4aprGo6lr/hibxB4O0ZdE07THvpEN1aaXPfsulgwwWzG3hNzDvEq27pL91UUAed/C34VWXhv9mDw38Gfhra%2BJfhla6X4TstL0a3Eun3eq6DFDCkccbPJ9ttJpkVArOfPRjk5bO6uP/wCCdOk3%2Bg/s3X2iar4nvtbubP4t/EOG41jU44Eub518Z60DNKtvFFCHcjcRHGiZJ2qowB7pXjP7B/8AyRDXP%2ByzfEf/ANTXW6APZqKKKACiiigAoJCgsxwB1Jr59/ae/wCCjHwb/Z98Ux/BzwbpOp/Ef4oXvy6Z8OPBUf2m934yGuXUFLOMZBZpPmCncEYAmvNh%2ByL%2B21%2B24f7T/bz%2BMn/CB%2BCrj5h8HPhffGMzxn/lnqWpDLTZHDxx5jPVShry62Zw9q6OGi6s1ulpGP8Aim/dXouaX91HjV84h7aWHwcHWqLRqNlGL/vzfux9FzT/ALqOk%2BMn/BTHSLzx5c/s/fsN/Di4%2BM3xFhbZfJo1wE0PQsnHmX%2Bof6tcHPyISSVKFkbArFX9hv8AbW/aWYX/AO3F%2B2tfaXpMx3S/Dv4LRtpNiB1Mct9IDcXCHoUYduG719LfBn4G/CL9nnwLa/DT4J/D3TPDeiWg/d2OmW4QO2ADJIxy0shwMu5Zm7k15b%2B0B/wUw/ZF/Z71z/hBdU%2BIEvinxhJIYrXwP4Ds21bVZpv%2BeXlQ5WJ/9mVkrkxGHpqn7XNa6t/Km4Q9LXUpv1evSB6OS8FcRcX4v6vGnUxNR6%2ByoqapxXeVrNpdZ1akIeSRm/Dv/gkb/wAE6fhtcC/039l7QtWuy2%2BW78VST6u8r92YXkki5PsoHtXu3hTwL8PvhppDad4H8HaN4fsI1y0GlafFaQqoHUrGqqABXywPit/wVc/akIT4RfBTw58BPDM/3PEXxFlGqa68Z6PFp8X7uB/WO49PvVPF/wAElvDnxPlXUf20/wBqf4m/GGUsGm0fUddfStFLdcpY2ZXy%2BfST0pYepTgrZdg7L%2BZqNKP4rnf/AICj7/DeHPC3Da/4Vsww%2BGkt6WGgsVW9G6PLQi/KWJnZ7nb/ABl/4Kk/sLfBHUv%2BEb13486brWuNJ5UPh7wdG%2BsXkkv/ADz2WgcI/s7LXEH/AIKFftX/ABYHk/stf8EzfiFewy8Q638Tb238NWyjtKI5S7yp3wpBI6V9AfBn9mT9nn9nfTv7M%2BB/wX8N%2BF0KbJJdI0mKKaYf9NJQPMlPu7E13NdX1bN6/wDFrqC7U46/%2BBTu/uijr/trw9yvTAZVPFSX28XXaT8/YYVU428pV5eb3PkVP2dv%2BCqHx5YXPx1/bP8ADvww02Q5fw58H/DpmnK9g1/enzI3A6lAVJ9sVLF/wRt/Zp8TyLcftAfFP4s/FWTcGkXx78RruaJmzn7luYcL6DPSvrWij%2BxMvlrWi6j7zlKX4NqP/kon4ocYUPdy2pDBR6LC0aVC3/b8YSrN%2Bbrt%2BZ5n8I/2Mv2TvgMsbfCH9nXwfoU8QG2/s9ChN0cdM3DKZW/FjXplFFejSo0aEOSlFRXZJJfgkfGZhmeZZtiHiMdXnWqPeVScpy%2B%2BcpP8beQUUUVqcIUUUUAFFFFABRRRQAUUUUAFFFFABRRRQAUUUUAFFFFABRRRQAV4z%2By//wAlv/aO/wCyzWP/AKhXhevZq8Z/Zf8A%2BS3/ALR3/ZZrH/1CvC9AHs1FFFABRRRQAUUUUAFFFFABRRRQAUUUUAFFFFABRRRQAUUUUAFFFFABRXnv7V1p8A739nfxXb/tQSeF18CHTc6%2BfGs8Eel7RIpiFw1wRFtMwjADnBbaOc4r5E8C/GT4e/EX/ghT4E0b4TfFXSddksfgj4Si8XWnhTXI7q8t9Ht00631xSts7SI0dqt5E4ADo4K8MMUAfftfnL/wXL/4l/xx%2BAni/p/wj0Oq6jv/ALu3xF4PTP8A5Er6B/4Jun4XGb4xf8M2HQ/%2BFQ/8LOi/4Vt/wiflf2J5P9g6T9u/s3yP3P2X%2B0PtefJ%2BT7R9qxzur5h/4Lk3Hxdvru7vPFfgnw9YaVoXwp1698J6jpXiee8u75U8W%2BBvMa5t5LKFLQqCMCOa4DZbJXA3eVnv/ImxD7Qb%2B6z/AEPv/Clr/iJeTwe08RTh/wCDHKn/AO5D9N6KjtLqG%2BtIr23bMc0auh9QRkVJXq7nwLTTswooooEFFFFABRRRQAUUUUAFFFFABRRRQAUUUUAFFFFABRRRQAUUUUAFFFFABRRRQAUUUUAFFFFABRRRQAUUUUAFFFFABXjPjj/lIX8L/wDsjPjz/wBO3hCvZq8Z8cf8pC/hf/2Rnx5/6dvCFAHs1FFFABRRRQAUUUUAFeM/sH/8kQ1z/ss3xH/9TXW69mrxn9g//kiGuf8AZZviP/6mut0AezUUUUARXt7Z6bZzajqN3Fb29vE0k888gRI0UZZmY8AAAkk8ACvi7xh%2B0n8e/wDgo74pv/gp%2BwZrlz4U%2BGVjctaeNfju0DK92QcSWeiKcGR8ZBueAucqV%2BRpNX/goH478W/tM/FXRf8AgmF8DtcmtLrxRaDU/i/4gsW%2BbQfDKsN8Geiz3RIjVT/Cw3DbLuH1T8PvAHg74VeB9J%2BG/wAPtAt9L0TRLCOz0vT7VNqQQooVVHr05J5JJJJJJrxasquZ4idCnJxpQ0m1o5S6wT6JK3O1rd8qa95nz9aVbOcXPDU5uNCnpOUdJTlu6cZfZjFW55L3rvkTj7zXDfsvfsbfs9/sfeFH8NfBHwJDZT3eG1jXrxvP1LVZc5Mlzcv88hLEtt4RSx2qoOKf%2B1H%2B178DP2P/AAOnjX4zeKTA93J5Oi6FYR%2BfqOsXHAEFrbg7pWJKjPCruG5lBzXm/wC1f%2B3jqngnx9H%2Byp%2ByN4Mi%2BIPxm1KHcNISQ/2d4ahOP9N1SZTiJFDBhFkO2VHy703Tfstf8E%2BNJ%2BGHjhv2kv2lfHE3xQ%2BMd9GPtPi7V4h9m0gHP%2BjaZb42WsS5IDABjlsbA5Sl9Yaf1PLIJcujlb3IeVl8U/7qen25LZ/rmTcG5Lw9lNHMeIb0aElzUcNTtGvXj0lqmqFBv/l/Ui5T19hTqP8AeLz1PhR%2B3N/wUXYah%2B0NqmpfAz4RXB3Q/Dzw/eY8Sa9B2GoXQH%2BiRsOsCDdgsjrkB6%2Bjf2f/ANkr9m39lnQ/7A%2BAPwc0Tw1G0YSe6s7XddXIH/PW4kLTS/8AA3Nei0V1YbLMPh6ntp3nU/nlrL0XSK8opL13OXPOOM4zfCf2fh0sLglth6N4Uv8AFU1568%2B9SvKpJ9FBWiiiiivRPjQooooAKKKKACiiigAooooAKKKKACiiigAooooAKKKKACiiigAooooAKKKKACiiigAooooAK8Z/Zf8A%2BS3/ALR3/ZZrH/1CvC9ezV4z%2By//AMlv/aO/7LNY/wDqFeF6APZqKKKACiiigAooooAKKKKACiiigAooooAKKKKACiiigAooooAKKKKACiiigAr4P/4LR6N/b2l3ljs3eX%2Bzh49uMf8AXHXPBc2f/HK%2B8K%2BO/wDgpzo3/CQeIdT0sJuZ/wBkv4sPGvq6XHhZ1/VRXDmcPaZZXj3hP/0mR9TwNifqfG%2BV1/5cTh3/AOV6X%2BZ9N/AzWv8AhJPgn4O8Rb932/wtp9zu9d9tG2f1rqa8p/YS1n/hIf2JPg/rTPua4%2BGOgtIf9v8As%2BAN/wCPA16tW2En7TCU594xf3xi/wBTzeIMN9Sz/GYf%2BStWj/4DVqx/9tCiiiug8gKKKKACiiigAooooAKKKKACiiigAooooAKKKKACiiigAooooAKKKKACiiigAooooAKKKKACiiigAooooAKKKKACvGfHH/KQv4X/APZGfHn/AKdvCFezV4z44/5SF/C//sjPjz/07eEKAPZqKKKACiivn7/gpcdMH7Ndr/wmnl/8IV/wsLwv/wALI%2B0f8e//AAj39s2n237Vnj7H5f8Ax87v3f2bz/M/d76APoGivgvwRafC/wAffsBfFr4X/D/4y%2BCvC3gSPx3qWreAm1bWo7XRD4Rh1iKR4nZG/c6HdTwahZiaMGEWsx8oNGEU%2BTfDqX4YXel6Zqv7TugfC3Sf2Ybz9obWJNF03S72O58AQWw8H2qWwjnuIILefTzq6auySvDHA9%2BytGu425IB%2BpteM/sH/wDJENc/7LN8R/8A1NdbrM/Yhu/jFZf8E9vh5eWugjVPE6eCrY6Pp/jPVriwae3x/oa3lx9nuJ4pPs3k72aGSTfneu7dUv8AwTpuPEt3%2BzdfXXjLSbGw1eT4t/ENtTsdM1F7u2t5z4z1rzI4p3hhaZA2QHaKMsACUXOAAe6V5J%2B2j%2B1p4T/Y7%2BC1x8RtX06TV9bv7lNN8G%2BF7TJudc1Wb5YLWJVyxy3LEAkKCQCcKfT/ABF4g0bwn4fvvFXiPUY7TT9Ms5bu/u5jhIYY0Lu7HsAoJP0r47/Yz8GeJ/27Pjiv/BSz446PLbeHLFZ7H4CeD70A/wBnWG4pLrEyZI%2B03BX5f7qgEFgImHm5hia0XHDYf%2BLO9n0jFfFN%2Bl7JdZNLa55GaYuvBwwmF/jVL2e6hFfFUf8AhvaK%2B1NxWykem/8ABPb9lXxZ8APh7q/xJ%2BOV/FqnxZ%2BJWpf258RdXUhgk7A%2BTYREZAht0bYqgldxfb8u0DC/bs/ah%2BJMXizSf2Hv2QbiOb4u%2BOLYvcaoPmh8HaPnbNqtwR91sEiJepbB5OxZO/8A24v2rtL/AGQfgRefEKHSjq/iXUrqPSPA3hqIFpdY1i4O23t1VfmYbvnbHOxGxyQDhfsE/sg6l%2Bzl4N1L4i/F/Wv%2BEh%2BLfxAnXU/iN4omIZnuCMrZQkcLbQA7EVcA4JAA2qvFOnyqOV4RuKSvOV9Yxd%2Bv/Pyo7u/Rc0/5T9R4LyXKeEsgjxDmFNVIQk4YWjPVV68bOdSrf4qFGUlOrf8AjVpQo/D7W3U/sk/se/CH9jr4eHwZ8NtPludS1CQXPifxTqb%2BbqOu3hyXubmZssxLMxC52ruOBySfVaKK9qhQo4ajGlSioxWiS/r/AIL3d2fKZpmmY53mFTHY%2BrKrWqO8pSd23/klZJJJRSUYqMUkiiiitTgCiiigAooooAKKKKACiiigAooooAKKKKACiiigAooooAKKKKACiiigAooooAKKKKACiiigAooooAK8Z/Zf/wCS3/tHf9lmsf8A1CvC9ezV4z%2By/wD8lv8A2jv%2ByzWP/qFeF6APZqKKKACiiigAooooAKKKKACiiigAooooAKKKKACiiigAooooAKKKKACiiigAr5o/bB0b/hI/2itJ8PbN32/9mj4n2%2B3133fhRcfrX0vXiPxP06HV/wBvX4caTcf6u6%2BCPj%2BF/o2qeEVP86irD2lKUO6a%2B9NfqdWBxDweOo4hfYnCX/gMoy/9tMv/AIJTa1/b3/BOn4Q32/Pl%2BDoLbP8A1xZ4cf8AjlfQVfKf/BEnUZr7/gmV8Nre64nsf7WtJ1z90x6teKB/3yFr6srgyaftMnw8u9OH/pK/yPrPErDrCeIuc0V9nFYhf%2BVqj/8Abgooor0j4kKKKKACiiigAooooAKKKKACiiigAooooAKKKKACiiigAooooAKKKKACiiigAooooAKKKKACiiigAooooAKKKKACvGfHH/KQv4X/APZGfHn/AKdvCFezV4z44/5SF/C//sjPjz/07eEKAPZqKKKACiiigAooooAK8Z/YP/5Ihrn/AGWb4j/%2BprrdezV4z%2Bwf/wAkQ1z/ALLN8R//AFNdboA84/4K1eNfEer/AAY8OfsffDjUGh8VfHTxTB4XtXj5e10zKyajdEd40gGx/wDZmNfSfg7wp4S%2BE3w90vwT4dgh07QvDejw2VlG7hUtrW3iCICTgAKiDJPpXyt8Df8AjLD/AIKifED9oGb/AEjwt8DtL/4QXwg55jfWpx5mqXC%2BkkakW7equtdD/wAFXPih4r074EaX%2BzF8Kb3y/G/xu16LwjoZXJa2tJsfb7tgOfLjtyysw5XzlbtXz0MVGnHE5lJXXwQXdQdkl/jqN/ch8B5FW4x4rVOElFVqipKb2hRpczq1X/djy1qr7qmu6OP/AGXLK8/4KFftYXf7e3i20lb4a%2BAZ7nRPgbplyhCX04by73XSrd2ZfLiJHAXkK8QJ%2B0q534R/DDwp8FPhd4e%2BEXgaz%2Bz6R4a0e307T4yBnyoowgZiOrHG5j3JJ710Vell2ElhMP8AvHepJ8033k9/ktIxXSKXdn1XGPEFHP8AN/8AZIunhKEVSw9P%2BSjBvlv3nUbdWrLeVWpJ7RikUUUV3nygUUUUAFFFFABRRRQAUUUUAFFFFABRRRQAUUUUAFFFFABRRRQAUUUUAFFFFABRRRQAUUUUAFFFFABRRRQAV4z%2By/8A8lv/AGjv%2ByzWP/qFeF69mrxn9l//AJLf%2B0d/2Wax/wDUK8L0AezUUUUAFFFFABRRRQAUUUUAFFFFABRRRQAUUUUAFFFFABRRRQAUUUUAeRft9fELxp8KP2KPin8SPh5rMmmazovgbUbqy1eGMM%2BmlYG3XihgVJgXdMNwK5j5BGRXkXg7xlffAjw1%2B1F4M0L4z%2BLLnwn8NfDcGraF4n1zWLrxPqOhXMugNd3USTXs0k135YSC8SCSRub3apWNo1X61vbKz1Kzl07UbSK4t7iJo54Jow6SIwwysp4IIJBB4INcj4A/Zy/Z6%2BFGkWegfC34EeDPDVhp7XTWFloHhe0s4bY3IUXBjSGNVQyhEEmAN4Rd2cCgD5r/AOCYGpfGvQviX46%2BFXxv16/N/b/D/wAF%2BILXRm%2BKGoeMrSNb5dVjkv01LUQs8M1zJZsHsUU20K2sUkMkv2iQr6Bf%2BNPEniH/AIKbeC/DurfCPxDoVnpPwe8cJYa9qtzpz2mtBtW8JZe2W2u5Z0CbRn7RFAfnG0N82PXPhP8AAj4H/AXSrvQvgZ8GvCnguxv7n7TfWfhPw7badFcTbQvmSJbogd9oA3EE4AFcJ44/5SF/C/8A7Iz48/8ATt4QoA8x/wCCMf8AoH7JOr%2BEBx/wj3xR8S6dt/u7b93x/wCRK%2BtK%2BS/%2BCTf/ABLdO/aC8Htx/Y/7TniuKFfSFjbOh/HJr60ryci0yiiuya%2B6U1%2Bh%2BgeKuviJmVT%2BepGf/gylh6n/ALkYUUUV6x%2BfhRRRQAUUUUAFFFFABRRRQAUUUUAFFFFABRRRQAUUUUAFFFFABRRRQAUUUUAFFFFABRRRQAUUUUAFFFFABRRRQAV4z44/5SF/C/8A7Iz48/8ATt4Qr2avGfHH/KQv4X/9kZ8ef%2BnbwhQB7NRRRQAUUUUAFFFFABXgP7KPiu38Cfsp%2BOPG91jytG%2BJ3xQvpN3TbD4w12Q5/Ba9%2Br4q8deNP%2BEA/wCCSfx88RCXy3Pij4sWcT5wVkufF%2BuWyEe%2B6UY9658XW%2Br4SpV/ljJ/cm/0OXHV/quBq1/5Iyl90ZP9Ds/%2BCNXgxvCn/BO3wFq%2BoIz6r4oW91/W72TmS9ubu7mkE0h/iYxeUufRBXO/s/H/AIa//wCClHj39pu4/wBI8IfBW2k8CeAnPMU2ruN%2Bq3af7SBhb7gcMjqe1dtH4zT9jP8A4JUWHi5mWC68C/BW0%2BzB%2BN1/Hp0aRKfd7goPq1bP/BNH4Jj4BfsOfDrwPd2pj1O58PxatrzSZMsl/e/6VOZGPLOrS7MnsgHQCvCw9DmeDwT%2BGnCNSXqkowT/AO33KXrFH3vA9H/VfwxxOZrStWjTwNJ9lOlGtiprzdNQo3/6fTu9dfdaKKK%2BlPjAooooAKKKKACiiigAooooAKKKKACiiigAooooAKKKKACiiigAooooAKKKKACiiigAooooAKKKKACiiigAooooAK8Z/Zf/AOS3/tHf9lmsf/UK8L17NXjP7L//ACW/9o7/ALLNY/8AqFeF6APZqKKKACiiigAooooAKKKKACiiigAooooAKKKKACiiigAooooAKKKKACiiigArxnxx/wApC/hf/wBkZ8ef%2BnbwhXs1fOfxn%2BIFr4T/AOCo/wAAvCd44H/CU/CX4j2VspxkzRXnhS6GP%2B2cEvH%2BFTOcYK8vL8Xb9SJzjTjeW2i%2B92X4tHL/APBOfGkftKftVeEOnk/GNdR2f9fdmj5/HZX1pXyX%2Bxx/xJv%2BCmf7W/hk8JLdeC9RgH97zdJk8w/99ACvrSvLyXTA8vadRfdUn/mfofib7/Farf8APzD4Of8A4FgsN/8AIhRRRXrH5%2BFFFFABRRRQAUUUUAFFFFABRRRQAUUUUAFFFFABRRRQAUUUUAFFFFABRRRQAUUUUAFFFFABRRRQAUUUUAFFFFABXjPjj/lIX8L/APsjPjz/ANO3hCvZq8Z8cf8AKQv4X/8AZGfHn/p28IUAezUUUUAFeQ/tr/Ejx98PPhPpFl8MvEraFrHizx/4d8MQ%2BIktIZ30mLUNTt7ee5jjnR4mmELyCLzEeMStGXR1BRvXq534sfCfwD8b/AV78M/ibobaho9%2B8Ek0MV7NbSxywzJPBPDPA6SwTRTRRyxyxOskckaOjKyggA%2BZNb/aR/aA8JfsRfFu/g%2BI39reOfh98QLvwhoPiu70y0S71tmv7WK02QRwraHUXjvY7WMeUlu94qFo0jZkXy0ftVftrX%2Bhw/CWx8S/Ey48U23xl1bRtQ8N6bpng9fiFDpEHhy21KFZjOn/AAjrYmu4ZnmibabW6tI1c3JlQ/Xlr%2Bxd%2BzlafCm9%2BCX/AAheoT%2BGNSt5Ev8ATr3xVqdwbiaS9e%2Be9eWW4aVr43Tmc3xb7V5gVvNyi4ypf%2BCfn7LMnhmDw2nhLxFDNb%2BIZ9cXxHa/ETXIdefUJrVbSWeTWEvRqEpe2jigYPOymKGKMjbGgUAs/syfHrUvFf7EPgP9oX4p6s%2Buajf%2BAtN1LxJd%2BEPDN9ctc3j28f2g29jDA10T5pceUsW9cEFBggfHH7S3iq38e/8ABH3xD4d8OpqFuPiV%2B0R4k0nT49R0yexulFz8RdTmCyW9wiTQSbIiGjkRXXkMoIIr9Dvh/wCAfBvwq8DaP8NPh34dttI0HQNNhsNH0uzTbFa20SBI41HXAUAc5J6kk1%2BffxM/4q3QvgB8Hl%2Bb%2B1v24vG2sTxD/lpBpvi/xBNIpHdf3gz9BXlZ5rlNWH8yUf8AwKUY/wDtzPE4j1yOvD%2BdKH/gcoQ/KTPYP%2BCs8Mfjr4ffCz9jLR1wPix8UdJ0rUbWM4xo1o4urtwB1CCKE49DX13HHHFGsUSBVUAKqjAAHYV8j6p/xfT/AILLaZY/67S/gZ8Kprtj1EGs6xIIwuO26yUNnrxX1zU5d%2B%2BxmJxHTmUF6U1Z/wDk0pfcfrvGH/CZw5kuTrRxoyxM1/fxc3KN/NYejRXpJdLBRRRXrn56FFFFABRRRQAUUUUAFFFFABRRRQAUUUUAFFFFABRRRQAUUUUAFFFFABRRRQAUUUUAFFFFABRRRQAUUUUAFFFFABXjP7L/APyW/wDaO/7LNY/%2BoV4Xr2avGf2X/wDkt/7R3/ZZrH/1CvC9AHs1FFFABRRRQAUUUUAFFFFABRRRQAUUUUAFFFFABRRRQAUUUUAFFFFABRXkX7fXxC8afCj9ij4p/Ej4eazJpms6L4G1G6stXhjDPppWBt14oYFSYF3TDcCuY%2BQRkV5T8OvGPjn4Eab%2B0z4M%2BE/ifxF410/4a6Fa6t4JTxV4kvNeuo9Ul0E3cmnG7u5ZbiZC6W1wI3kYr/aBC7UMaqAfWdfn/wD8FV/Glz8Lv%2BCl37FfxOi3JBY614n0/UJx0gtr%2BfQLGR2PZQJ8H616d/wTO8faxcz6j8OfiDZ%2BJZfFV38PfDHjK71rV/i3feKrfVLPUxfJDcBLgJDpVw0tpcNJaWcYtQDF5LyKmI/Dv%2BCy8fjT4qeKLzS4fhH4i0C48BfBjxbr/h3xNqdxp0lrqjWfiDwbcSTWq213LOgSKOQN9oigP7wbQ2Gx5ucc6yurKG8VzL/t1qX/ALazyM/9osmrzp/FGPMv%2B3HGf48jXzPb/gr/AMST/gsT8bNM6f238L/Deo4/veSz2%2Bf1xX1pXxTq/jyz8Lf8FKfgb%2B1BYsF8O/H34SS%2BG5ZM5jgu4wmqWjZ/vSLIIlHfB%2Btfa1Y5POLjWgulST%2BU%2BWcX81K5%2Brceyji4ZRmNN3p18DhrPu6KqUJr1jKnFeji%2BqCiiivYPgAooooAKKKKACiiigAooooAKKKKACiiigAooooAKKKKACiiigAooooAKKKKACiiigAooooAKKKKACiiigAooooAK8Z8cf8AKQv4X/8AZGfHn/p28IV7NXjPjj/lIX8L/wDsjPjz/wBO3hCgD2aiiigAooooAKKKKACvzj%2BD3/Fbft//AAQ8Hj5o/CPjj44%2BIriLt/pHi7V7ONj9GBx71%2Bjlfl9%2ByF4r8v8Abf8Aj38VfN/d/C3wN8RLTdniGafx/r%2BobvZtiflXj5zNKjSi9nUhf0i5Tf8A6QeVmeHqY6tg8FT%2BKtiKMV/4Hf8ANRPoj/glMP8AhaU/xq/bIuf3n/C0Piterol1183RdN/0Oy574xMvpxX1zXzf/wAEh/Cn/CGf8E2/hLpHlbPO8ONfYx1%2B1XM1zn8fOz%2BNfSFaZLBwymi5byipP1neb/GX5H6f4nYiniPEDMo0v4dKrKjDyp4dRw9Nf%2BAUV83IKKKK9Q%2BFCiiigAooooAKKKKACiiigAooooAKKKKACiiigAooooAKKKKACiiigAooooAKKKKACiiigAooooAKKKKACiiigArxn9l//kt/7R3/AGWax/8AUK8L17NXjP7L/wDyW/8AaO/7LNY/%2BoV4XoA9mooooAKKKKACiiigAooooAKKKKACiiigAooooAKKKKACiiigAooooAivbKz1Kzl07UbSK4t7iJo54Jow6SIwwysp4IIJBB4INcp8Of2efgD8HtPsNJ%2BEfwO8H%2BFrXS5bmTTLbw54ZtbGO0e4Ci4aJYY1EZlCJvK4L7F3ZwK7CigDlvhf8Dfgp8ELbULL4L/B/wALeEIdWvDd6rF4X8P22nreXBGDNKIEUSPj%2BJsn3ryH9pXwDZfFb9rPwt8LtS2/Z/En7PHxJ0ufeMjZcX/hOJs%2B2HNfQ9eM%2BOP%2BUhfwv/7Iz48/9O3hCpnCNSDjLZqz%2Ben6k1IRqQcJK6aafo00/wAGz4rWfxV8UP8Aghb8PfjR4ftm/wCE0%2BAeq2usWULHD282hX8ltJGxHIUWas5HTCrn2/SL4feN9B%2BJngLRPiR4WufO0zxBpFtqWnS/34J4lljP4qwr5N/4J6%2BFNEh8T/tT/saeKrQTabYfFfULs2DcBNJ121EscIH90osmP9410H/BIDxXrcX7LN5%2Bzz40vDL4h%2BDXjLVPBeqM/DOltOWt5AP7hhkRFPQiPivl8mnKjWoqX/LynyP/AB0G4/e4fkfWcOzlnfgvRhN3q5ZX5X39liL038o4nDJ%2BTq%2BZ9VUUUV9UfKhRRRQAUUUUAFFFFABRRRQAUUUUAFFFFABRRRQAUUUUAFFFFABRRRQAUUUUAFFFFABRRRQAUUUUAFFFFABRRRQAV4z44/5SF/C//sjPjz/07eEK9mrxnxx/ykL%2BF/8A2Rnx5/6dvCFAHs1FFFABRRXn/wC0v8cbn4A/DWLxZovhFfEGtar4h0vQfDehyaj9jjvdR1C9itIFln8uQwQq0vmSyCORlijcqkjBUYA9Aor5%2BvP25L7QP2TPHn7Qviz4Ri28QfDfV7/SPFfhSz10z2tte2twsTSi%2BNuh%2Bw%2BVJFdtctArR27M7QhkaOvO7X/grV4buPg7Z%2BPJND%2BHMWoap8Q7zwvo2tS/F6NPBV/Ha2KXlxqkXiBrEb7NN/2Qstoz/bVaAKVUygA%2Bxa/In4BzyeEPgv8A8FKfjBK5H234g%2BLPDtpKT/qyNS1iNlU9vmvlP1xX6weAde1LxV4F0bxPrNvpcV3qOlW91dRaJqxv7JJJI1dhb3RjiNxFknZL5ab1w2xc4H5XeMvDd34a/wCCWv7VVrZApffEj9srxfaWUhHLBvGS220eoxayjHua8DiJNYL2i%2Bwqj%2BfspxX4yPoeBssjm3ibw/Qn8P1ylJ%2BSTTb%2BSTfyP0j/AGQvCn/CC/sn/DHwWYtjaT8PtGtHXH8UdjCrZ98g16JUOnWFrpWnwaXZR7IbaFYoUH8KqAAPyFTV7VGmqNGNNfZSX3JL9Dy8zxksxzKvi5b1Zzm/Wc5zf/pYUUUVqcQUUUUAFFFFABRRRQAUUUUAFFFFABRRRQAUUUUAFFFFABRRRQAUUUUAFFFFABRRRQAUUUUAFFFFABRRRQAUUUUAFeM/sv8A/Jb/ANo7/ss1j/6hXhevZq8Z/Zf/AOS3/tHf9lmsf/UK8L0AezUUUUAFFFFABRRRQAUUUUAFFFFABRRRQAUUUUAFFFFABRRRQAUUUUAFFFFABXjPjj/lIX8L/wDsjPjz/wBO3hCvZq8Z8cf8pC/hf/2Rnx5/6dvCFAHker6kP2Xv%2BCvI8R%2BJovs/hn9oXwXa6XY6mDiMeItLyI4Jeyl7ZgqEnLOwUA4OK%2Bsaw37DX/BTW/8AF3iqAW/w6/aRi0%2ByTVw2INL8VWcTRRRS9kFzEeG/ikPPCMR7B%2B39%2By9P%2B1j%2BzXq3gLw3efYfFulTRa34D1dH2SWGtWpMltIr/wAG45iZuyyseoFcJ8N9Q%2BHn/BW7/gnm/h34o6cdP1XUrWTSvFNskO258PeI7QhXkRTzG6TBZVUnJjkVW4ZhXzFbD1qWJnQp/GpOtSvs3tUg/J3fopp/ZPS8Pc8wPDfEmKyrNE3gcdCUZ2V5RhOUJSlBdZ4etGniIL7UXOH2rr6lor5o/wCCdP7TPjbx7oGt/stftIXccHxg%2BFNwul%2BKIpJPm1mzAH2XVos8yRzRlCzf3zuIUSKK%2Bl697B4qljcPGtDZ9HumtGn2ad015eaOniLIcdwznNXLsVZyg1aUdYThJKVOpB/ahUg4zhLqpa2akkUUUV0niBRRRQAUUUUAFFFFABRRRQAUUUUAFFFFABRRRQAUUUUAFFFFABRRRQAUUUUAFFFFABRRRQAUUUUAFFFFABXjPjj/AJSF/C//ALIz48/9O3hCvZq8Z8cf8pC/hf8A9kZ8ef8Ap28IUAezUUUUAFefftL/AAOuvj98NYvCei%2BL18P61pXiHS9e8N65Jp32yOz1HT72K7gaW38yMzws0XlSxiSNmikcK8bFXX0GigD5wl/YW8car%2Bz/AOLfg74i%2BO1hNqvjPxF/wlGs%2BI7Pwc8Svrw1SK%2BRvsz3rq2mhLa1tDZMxd4InD3LGQsMmL/gnn48h1xPjYvxu8LyfFhPihdeNY/EM/w4kbQoprjQIdBltY9LGpCZEazt4pDJ9t803ClyxjYw19S0UAeZ/Bv9lr4c/DH9lvQf2UPFWnWXjHw7pWgR6ZqFv4g0mCW21JR8z77VlaJYy5JWHBVFCqOFFfEHxL8I%2BFNC/ZW%2BDHwA8B%2BGNO0jSdX/AG6td0%2BHR9Jso7e2t9Pt/GviBmSOKMBURFjjAUAAAADAAr9K6/OW0/4qj9oz9mj4aj5lk/aQ%2BNOuzL2X7B4j1mRGPpy5A968nO9culD%2BZwj/AOBVIL/M/QPC/wDd8aUcT/z4p4mt/wCCsJiZp/JuL9Uj9GqKKK9Y/PwooooAKKKKACiiigAooooAKKKKACiiigAooooAKKKKACiiigAooooAKKKKACiiigAooooAKKKKACiiigAooooAKKKKACvGf2X/APkt/wC0d/2Wax/9QrwvXs1eM/sv/wDJb/2jv%2ByzWP8A6hXhegD2aiiigAooooAKKKKACiiigAooooAKKKKACiiigAooooAKKKKACiiigDyL9vr4heNPhR%2BxR8U/iR8PNZk0zWdF8DajdWWrwxhn00rA268UMCpMC7phuBXMfIIyK86%2BBvjnUv2fta/aE8KeHb/x58RfC3wztNO1fQNNn1q%2B8S61LdS6MLu50m2nuZJrm6kfZbzxws7sG1AKu2Mxov07e2VnqVnLp2o2kVxb3ETRzwTRh0kRhhlZTwQQSCDwQa5T4c/s8/AH4PafYaT8I/gd4P8AC1rpctzJplt4c8M2tjHZvcBBcNEsMaiMyhE3lcF9i7s4FAHzL/wSj%2BNvj34o%2BPvjtonxP8aePdY1mz8baXqE0Hi7wjrulWekG80LT5pdP0%2BLVrWAwW0U7TLHCFWRo9k8ik3HmSeh3/jTxJ4h/wCCm3gvw7q3wj8Q6FZ6T8HvHCWGvarc6c9prQbVvCWXtltruWdAm0Z%2B0RQH5xtDfNj3jSvCvhfQtW1PXtE8N2Fnfa3cx3Gs3trZpHLfzJCkKSTOoBldYo44wzEkJGqjhQB5R44/5SF/C/8A7Iz48/8ATt4QoA9mr4p%2BOGn/ABA/4JqftH%2BJv2yvAnhWfXvgz8Q7qC4%2BLugaXAzXfhu/UbDrcEY4kicHM6gZySxONpX7WqO8s7TULSWwv7WOeCeNo5oZkDJIjDBVgeCCCQQetcWNwf1umuWXLOLvGXZ7bdU1pJdV2aTXn5jgPr1KPJLkqQfNCS15ZWtqusWnaUeqfRpNfNv7SP7K3gD9tTw54a/as/Zd%2BKlv4c%2BI%2Bl2K3nw%2B%2BJ2guHjuoCCRaXYUEXFq%2BWVkYEpubggvG8f7KX/BQix8ceLW/Zj/AGtNEtvhx8atLYQXfhy%2Bl2Wevf3bvTJmO2eOTBIjDFxyBuClq4jVv2Zv2pf%2BCe3irVviH%2BwNpNp41%2BGOqXzahrvwM1K5ME2nStzLLo1wciPd1%2BzsMcYVXJUL0Wm/E3/gnp/wVl8CyfCv4h6LbHxJp7ul14M8VQ/2b4m8PXSj5zEpIlRlIGXiLIcYbPK14calWGL5oWpYh/FCV/Z1bdYy/m7Ne8lpOEkkz7Xh7j/K8xy%2Blw5xjSmlC6o1YWdWjrdqjKdo18PJvmlhpyjODblSdOTl7T6vor42tPAf/BTT9h2M2Pwq1qz/AGiPhzZn/RdC8UaiLHxZp8A6Rx3hHlXgUZ5kG9uFVVGBXY/CX/grH%2ByF4%2B10fD/4leJtQ%2BFfjKJgl74Q%2BKOntpFzC54wJZf3DgnO3Em48fKM4r1Keb4ZSVPEp0Z9p6J/4Z/BL5ST/untYzw6zqdCWLySUcwwy1c8Pec4r/p7h2vrFF9%2BalOCe1Vqzf0xRUVhf2Oq2UWpaZew3NvPGHguIJA6SKRkMrDgg%2BoqWvVTTPgWnFtNWaCiiigQUUUUAFFFFABRRRQAUUUUAFFFFABRRRQAUUUUAFFFFABRRRQAUUUUAFFFFABRRRQAUUUUAFeM%2BOP%2BUhfwv/7Iz48/9O3hCvZq8Z8cf8pC/hf/ANkZ8ef%2BnbwhQB7NRRRQAUUUUAFFFFABX5v/ALNV/aa3/wAFJvCOmX0wWLwZB8YNdckE%2BX9r%2BIWsWIOBzkkBRjkniv0gr80P%2BCdX/FXf8FFfjb4h%2B/8A8Ijq%2BuaFu/ufaviTrF7t/HbmvJzX3vq9P%2BarD/yXml/7aj9A4A/crN8X/wA%2BsBibetX2FBf%2BnJL5n6Nf8JhpP/Ppqn/gju//AI1S/wDCYaT/AM%2Bmq/8Agju//jVfO3j7/gsj/wAE3vhf471r4aeOf2jfsOt%2BHdWudM1iy/4RDWJfs91bytFLHvjtGR9row3KSpxkEjmsn/h%2BX/wS0/6Oh/8ALJ1v/wCQqqWeZLCTjLE001/fj/mZ0fC3xMxFGNWlkmLlGSTTWHqtNNJppqFmmmmn1TT6n0//AMJhpP8Az6ar/wCCO7/%2BNUf8JhpP/Ppqv/gju/8A41Xzt4B/4LI/8E3vih470X4aeBv2jft2t%2BItWttM0ey/4RDWIvtF1cSrFFHvktFRNzuo3MQozkkDmu%2B/b%2B%2BMHxM/Z9/Ym%2BKfxx%2BDdpps3ifwl4H1DVdHXV5mS3WWCFpN77Y5N21QzBNuHZQhZAxdevC43B42Llh6kZpb8rTt62Pn884Z4k4YrQpZxgquGlNNxVWnOm5JOzaU0m0no2uuh6X/AMJhpP8Az6ar/wCCO7/%2BNUf8JhpP/Ppqv/gju/8A41Xz3qf7bnxt8K/EPxz4L%2BIXwK8CaFp/wy%2BHlp4m8c%2BJ7v4qXRsbd7uLVGt7a2xo4lnUPp8YlldIiiXBaOOZ0EUnM/Db/gpVq/xV1TwzoerfCfV/C%2BtxfGiXwd4h0hZby2hkQ%2BD9Q1%2BGfbrGj2l68LpDEm37PaSCVAyyyQqVuOk8M%2Bqv%2BEw0n/n01X/wR3f/AMao/wCEw0n/AJ9NV/8ABHd//Gq%2Bef2Sv2%2BfiT%2B0Pp%2BiXHjn9mD/AIR%2B78WfCbRfiD4T0vw941h1We606%2BYI8E5uILKK3uIS8TFQ8iOj5DhlMddT%2B1X4s%2BKupfFr4X/s8fC34r6h4Ebxtdaxdat4r0bTbG6vYrewshIttAt/b3FurSTTQszPE58qCVV2swkQA9d/4TDSf%2BfTVf8AwR3f/wAao/4TDSf%2BfTVf/BHd/wDxqvnKD9oT9pH4n/8ABMjwh8f/AIfWlz/wnOu6R4dm8Q3fhXQ1vbi3tJb%2B0i1jUNOspFkE8qWZvLm3gKy7mWNdk5xG/A%2BFf2l/iD41/Zl%2BIXjfxn%2B1V8S/BUPws%2BI1/wCHtO8RH4f6RD4i8YeZaWNxpsMum3mmMguZJL9LZLaC2t5pnWNSsTsyUAfZf/CYaT/z6ar/AOCO7/8AjVH/AAmGk/8APpqv/gju/wD41Xw5%2B0D%2B1X%2B3b8CLDQ/iL8XbTxTo13pXgTwVezeF/BXgeHUfD%2Bv61c3Zi8RWd/qLW0zWAhUxrbgXFrkurIbtiYV73w1%2B0N8VfgN%2B0Z4x1L9tX4hfEfQPCd5rHiKb4ei%2B0vw2/hW60mxs2vsRyWMLatHdR2ltdz7bp0WRYZNu8qAAD6l/4TDSf%2BfTVP8AwR3f/wAaq/YX9pqdol9YziSKQZVgCO%2BCMHkEHIIPIIr5B/4Jjft1aj%2B2D8Vvi5aaz%2B0D4O8TQ2s2jat4Y8KeF9Y028PhnTru0LfY5JbNmaeVCIxPI7yKLlpljZYwij6v8H/8gmb/ALCl9/6Vy0AatFFFABRRRQAUUUUAFFFFABRRRQAUUUUAFFFFABRRRQAUUUUAFFFFABRRRQAV4z%2By/wD8lv8A2jv%2ByzWP/qFeF69mrxn9l/8A5Lf%2B0d/2Wax/9QrwvQB7NRRRQAUUUUAFFFFABRRRQAUUUUAFFFFABRRRQAUUUUAFFFFABRRRQAUUUUAFeM%2BOP%2BUhfwv/AOyM%2BPP/AE7eEK9mrxnxx/ykL%2BF//ZGfHn/p28IUAezUUUUAFePftLfsFfsqftabdR%2BMnwos7jWoQv2LxTpjNZarasv3GS6hKyHaQCFYsgP8New0VjXw9DFU3TrRUovo0mvx/rzMMThcNjKLpV4KcX0aTX4/no%2BzPj%2BL9mX/AIKb/s0L5X7Mv7Xmj/E3w7bn/RfCnxssHa9jjH8C6pa4klfHCmQKo44xmuc%2BKX7XWrav4fPgr/gpD/wSX8Xy6fFlZtV0DRrTxdpMX/TfzI8PbA9QQC68DOa%2B46K8yeUOMHGhWlGP8srVIelp3aXpI4cLgMflNeNfKsbVoTi7xtJyUX/d5mpx/wC3aqPzB8AaX/wSc1i/e%2B/Yt/4KQ%2BLPgPqjzEtoS%2BLrnT9PWcnlZrLVlCyfN/CJAuenavc/Ckf/AAVm8Kaauq/CP9pf4IfHjRI%2BlzrOnPpV9OnYI%2Bnu1uG92OK%2BnPiT%2Bz58BvjJG0Xxb%2BCvhTxOGXBOv%2BHra7YfQyoxH1HSvCvFP/BGT/gnZ4g1E67ovwMl8Malz5eo%2BEvEd/p7xZ/upFMIx/3xXmf2Nj8P/AUV/wBe51KX/kr9rT/8lR92vE7xKmuXNoYTM4/9RNFOp/4N5VV/8ry9djMH7fn7Znw4Hl/tAf8ABLL4gRpF/rb74a65Z%2BI1lH99IYijqD/dJzU1l/wWl/Yf0%2B5TTvizqfjT4d3jttFn458A6haurf3SYo5FB%2BrY96iH/BK7xD4T%2Bb4Nf8FFv2g/Dqr/AKmxv/GqanZxegWGaIcfVjUV5%2ByF/wAFP9CtnsvDX/BTzTfEVkw2jTPGfwe091YejzRPvf8AEU%2BfiShspS9VSn%2BMZUpfgH%2BunCuJ/wCRjwtOm%2BssJjWl8oV1Vj8uby0PV/BP/BQ79hX4iBB4U/a4%2BH0skmPLtrnxRbW0zfSOZ0f9K9U8P%2BLPC3i20%2B3%2BFfEun6nARkTafeJMn5oSK%2BCPG37Bv7euvF5PFfwA/Yu8d5z5l1rHgO%2Bsb5/92SGPCk/WvLPEH/BND4xQ3X9pX3/BIr4aXl4nK3ngD45aho7A%2BqLNLsX8Vo/tjOqX8TDX/wC3ai/L2iF/avhPiPiWaYV/3sLh8Ql86NanJr/t2/kfq1RX5K/8Mz/teeC%2BdG/ZH/ap8EiP7qeAv2pbC/jHsEaBiw9s0o8W/wDBQzwR/wAgrV/219P2dPtfgHSvE%2BP%2B%2BpI9/wDWj/WapD%2BJhZr0v%2BtOIez8Mq38LiB0/Kvl%2BPp/e4Qrr7kfrTRX5LD9uP8A4KT%2BDx/p3xb%2BNUoT%2BDxv%2ByFBZYHoxs7lz%2BNL/wAPhP28PCp/4mXi/wCGsyr98%2BK/hF4rsnx/26o4B/Sj/XDLY/xITj/26n%2BqD%2ByuEan8DiXL3/jqYij/AOnsFG3zP1oor8mov%2BDgr40aFIIPEdr8F9Ql7x2MfiayLfQ3NkQPxNbOm/8ABxr4qjYJe/sv%2BD9TB6y2HxditB9dt1aA/hVR4z4fe9Rr/t1/o2VHhvCVv93zjLanpmOEX/pyVJ/gj9TKK/NjTP8Ag4r8JMA3iD9l9Lf%2B99i%2BK%2Bj3GPpkpmtWH/g4%2B/ZdsxnxH8EfGcOPvf2bqej3f5YvFzW64s4ef/MQl6qS/wDbTSHBubVnahWwtT/BjsBL8sbE/RKivgbRP%2BDjL9hbWgCfAHxRts95fDVo%2BP8Av1ePXTad/wAF7v2BL0A3V144sgepufBk5x/37LVtDiXh%2Bfw4mH3/AOaRUuBOK4uyw6f%2BGthp/wDpGMmfadFfIlr/AMF0P%2BCacgzqXxt1TTx3N54I1Xj/AL4tmrW0/wD4LVf8Ew9Sx9m/apsVz0%2B0eHdUi/8AQ7UVvHPckltiaf8A4HH/ADF/qHxs1eOXVn/hg5L74ykj6lor50sP%2BCtn/BODUcfZ/wBrfwuuf%2Be7TRf%2Bhxitmx/4KZf8E%2B9Qx9n/AGxfh8uf%2Be/iSCL/ANDYVtHNcrltXh/4HH/5IiXA3G0Vd5Xif/BFZ/lTZ7lRXkll%2B33%2BwvqGBaftmfCtiein4gacrfkZs1rWf7X/AOyXqOP7P/ai%2BHU%2Benk%2BNrBs/lLWscdgpbVYv/t6P/yRxVOF%2BJ6P8TAV4%2BtCuvzoo9Forj7T9ob4A6hj7B8cvB8%2Benk%2BJrVv5SVp2nxP%2BGl/j7D8Q9Cmz08rV4W/k1aqvRltNP5r/M4amWZnR/iUKkfWE1%2BcEbtFVbTXNFv8fYdYtZs9PKuFb%2BRq1WiaexxyjKDtJW9QooopkhRRRQAV4z44/wCUhfwv/wCyM%2BPP/Tt4Qr2avGfHH/KQv4X/APZGfHn/AKdvCFAHs1FFFABXO/Ff4r%2BAfgj4CvfiZ8TdcbT9HsHgjmmis5rmWSWaZIIIIoIEeWeaWaWOKOKNGkkkkREVmYA9FXkH7a/w38ffEP4T6RffDLwy2u6x4T8f%2BHfE8Ph1LuGB9Wi0/U7e4nto5J3SJZjCkhi810jMqxh3RSXUA3LL9qz4C3/wKu/2kk8cvF4Q09riO/vbzSLuC5triC4a1ltZLKSJbpLpbhTB9maITebiMIWIU5g/ba/Zoi%2BB/ir9orVPH91pfhbwPcS23i6TW/Deo2F9pVyiRSfZptPuLdLxZ3S4t2jh8nzJhcQmNX81N3hGvfAH9ojxr%2ByD8XfA938B72z134l%2BNrjxWPDV7rWmb7ewk1O2V9NjuYrp44NVawtGnSdSbeC6uY2W4YxFxweof8E/f2sPHfwN8b6d4Bvx4HsJ/G2u%2BIPC3w9%2BLNv/AMJdq2qGfw/ZWFs%2Bo6nBra%2BZdR3iahJbvcXd6sUc1kWINpDHCAfffhfxLonjTwzp3jHw1e/adN1awhvNPufLZPNglQPG%2B1wGXKsDggEZ5ANfnp/wSF8Ps3x//bE8dupIvP2mLvTY3Pb7N4j1FyB6c3AJr7M%2BCnw0%2BKuk/sleEvhP468fy6F4usvBlhp%2Bpa94T022jexuY4ERjBFefbYNy7dvz%2BcjEFhwQB8yf8EfPAWoeCvhJ8d7jWvEF7rN7fftieMhLrWpRwJc34g8Qrb%2BdKLeOKIOzxyOwjjjQM52oq4UcGLp%2B0xWHf8ALKT/APJJL9T63h/GrB5BnEb61aNKn9%2BKpTf/AKbR90UV8xeP/wDgpr/wgXjvW/Av/Dvn9p7Wv7F1e5sP7Y0D4T/abC/8mVo/PtpftI82F9u9HwNyspwM1kf8PYf%2Bsan7Wn/hm/8A7qrKWdZZGTi6mq/uz/8AlZ%2Bcy4hyaEnGVXVafDU6af8APo%2BtKxfiP8PPBnxc%2BH2ufCr4jaDFqvh/xLpFzpeuaZOzKl1aXETRTREoQwDIzDKkEZyCDzXz54B/4Ka/8J7470XwL/w75/ae0X%2B2tXtrD%2B2Nf%2BE/2awsPOlWPz7mX7SfKhTdvd8HaqscHFezftJ%2BMPid8PPgF4v%2BIPwZ8OWms%2BJ9B0C51LR9FvYXdNSkgQym1AR0IeVUaNG3YV3ViGAKnrw2Mw2Mi5UZXS30kv8A0qMf1O3B4/B5hFyw8uZLR6SXn9qMfwuY0H7Gv7PC%2BFfFPg7U/CGpavZ%2BNfDdvoPiqXxF4r1PU7rUrCD7T5Mclzd3Mk%2B9Ptc%2BJQ4lG5fn%2BRNud4H/AGCv2Wvh7qS654f8BalNqQ8XDxRLq2teMdW1K8uNXGkTaMLua4vLqWWdhp88tviRmXaVONyIy%2BG%2BI/8Ago/8TfiR4WufGP7LjaHqth4j8dzaR8KJYvCS6o3iDTrDSFutVvZGudb0q2hjiu/PgDtcLtFm4CStIPL4nwb%2B3V8Rvi54j0T48WX2m107x58Mv2d9Vj8KNr979h0qfxF4u122v5IPs08W5zF5KMxyk62sKzJLEvlHpOw%2Bw/DH7J3wI8E2OiWHg7wne6UvhzwNaeDtEm07xHqEM1potq8bwWqypOHO0xR5kLGRgCGdgzA6Pxv/AGevhT%2B0Tomn6H8UtH1GYaRqJvtIv9E8RX2kX1jcGGWBnhvLCaG4i3QzTROEkAdJGVgVJFfJvwT/AGqf2oPjd%2B1J8IPGGp%2BKvCP9ieO/hb4/1vw58PdKur3T2tZLO/0aC2g1aUzXCXUsfmlGuEtojbSPcIsUmcn279t/VvEk%2BmfCj4by%2BKtV8O6R47%2BK9hofjPUvDeu3Gn3UNmdPv7pIIb23aKe38%2B9tbO18yNo5GW4KqVLigD0KT9nf4WJ4DHww0ax1jRdAi8OWGhWWmeGfFeo6VHp9jZkm3S0%2Bx3ERs3UHaZYCkroiIzssaKvF%2BJf%2BCev7Kvivwp4T8Haj4S8SW9t4J1671zw7d6R8R9esL6LVLpZVuL%2Ba8tr2O5u7mQTzBp55JJD50nzfO2eB%2BEWo/tC/FP8A4Jt%2BN9D%2BE/xJu5/GlnqXjvw54B8Waxqpa4uLfT9e1TT9MuJLyUOWlNrbQD7W4cu2J237jnzH4b/EbRbDwr8bPCn7Rr/GPwn4C8BeM9CHhnRJvjBqN94qm1S70uLdoa6jpmpTXNzLLcTW80Vml7KxN7CCVVhDGAfV3iD9kv4KeLvEHhjxH4utPE2rSeELewi0ey1Xx/rNzYu9lJ5trcXVpJdtb391HLiUXV1HLP5iI5kLIrCXRP2VvgxofxhPx3XTde1DxKk13LYT69411bUrXTHuuJ2srO7upLawLqShNvFH8jMgwrFT8V/tPaJ%2B3h8Fv2SNN%2BKXxH1zx1qN54N%2BB%2Bs3iSeGfiimnS%2BG/EySG4srrWX%2B0wf25DDbiG2cbbwTSwSk2s32kMOo%2BIvif9rz4b/tWeEvHvifQvF8lx41%2BL/hzTtDktPiCF8O23h640eBdS0l9E%2B1ZkvoZo9RvjObV2EUayfa1VPs4APtLw98MfA/hTxv4i%2BI%2BgaH5GteK2tDr959plf7UbaLyYPkZiibUOPkC56nJ5q14P8A%2BQTN/wBhW%2B/9K5a1Ky/B/wDyCZv%2Bwrff%2BlctAGpRRRQAUUUUAFFFFABRRRQAUUUUAFFFFABRRRQAUUUUAFFFFABRRRQAUUUUAFeM/sv/APJb/wBo7/ss1j/6hXhevZq8Z/Zf/wCS3/tHf9lmsf8A1CvC9AHs1FFFABRRRQAUUUUAFFFFABRRRQAUUUUAFFFFABRRRQAUUUUAFFFFABRRRQAV4z44/wCUhfwv/wCyM%2BPP/Tt4Qr2avnD9o/V/jXo/7eHwnn%2BB3w/8LeItSb4R%2BO1u7TxX4wudFgjg/tTwkS6S2%2Bn3rO%2B7aNhjUYJO/ICkA%2Bj6K8Z/4Tj/AIKF/wDRr/wZ/wDD8at/8y9H/Ccf8FC/%2BjX/AIM/%2BH41b/5l6APZqK8Z/wCE4/4KF/8ARr/wZ/8AD8at/wDMvR/wnH/BQv8A6Nf%2BDP8A4fjVv/mXoA9mor5x0n9o79u3WPjPr/wOt/2UPhIuqeHfC%2Bka7eXL/HXVPIkg1G51K3hRCPDG4uraXOWBUAB48FiWC9R/wnH/AAUL/wCjX/gz/wCH41b/AOZegD2aivGf%2BE4/4KF/9Gv/AAZ/8Pxq3/zL0f8ACcf8FC/%2BjX/gz/4fjVv/AJl6APZqK8Z/4Tj/AIKF/wDRr/wZ/wDD8at/8y9cv4B/aO/bt%2BInivxv4Q0f9lD4SQ3HgPxRFoWqyXPx11QJPPJpWn6mHi2%2BGCSnk6jCpLBTvRxjADMAfR1FeM/8Jx/wUL/6Nf8Agz/4fjVv/mXo/wCE4/4KF/8ARr/wZ/8AD8at/wDMvQB7NRXjP/Ccf8FC/wDo1/4M/wDh%2BNW/%2BZej/hOP%2BChf/Rr/AMGf/D8at/8AMvQB7NRXzj8Iv2jv27fjL4Uu/F/hz9lD4SW1vZ%2BKNb0KSO9%2BOuqK5n0vVbrTJ3G3www2NNaSMhzkoykhTlR1H/Ccf8FC/wDo1/4M/wDh%2BNW/%2BZegD2Oe3t7qMw3MCSIequoIP4GsfUPhn8ONWz/avw/0S5z1%2B0aVC%2BfzWvNP%2BE4/4KF/9Gv/AAZ/8Pxq3/zL0f8ACcf8FC/%2BjX/gz/4fjVv/AJl6mUYy3VyZQhP4kn6pM7C%2B/Zq/Zy1PP9pfAHwTcZ6%2Bf4Vs3z%2BcdZF7%2BxR%2BxpqQI1H9kn4Y3Gevn%2BAtOfP5w1jf8Jx/wUL/AOjX/gz/AOH41b/5l65f4I/tHft2/Hj4MeEPjj4V/ZQ%2BElrpfjPwvp%2Bu6bbah8ddUWeGC7to7iNJAnhhlDhZAGCswyDgkc1jLCYSW9OL/wC3Y/8AyJzywOBn8VKD9Yxf/tp1d5/wTw/YKvs%2Bd%2Bxh8Llz/wA8fAthH/6BEKy7v/gmF/wT1vf9d%2Bx34CXP/PLQIo//AEECtH/hOP8AgoX/ANGv/Bn/AMPxq3/zL0f8Jx/wUL/6Nf8Agz/4fjVv/mXrJ5bl0t6MP/AI/wDyJjLKMplvh6f/AIBD/wCQOduv%2BCTH/BOK7/1v7IvhMf8AXKCVP/QXFZ9z/wAEc/8AgmhdZ839k7Qxn/nnqF6n/oM4rsv%2BE4/4KF/9Gv8AwZ/8Pxq3/wAy9cv8bv2jv27fgP8ABjxf8cfFX7KHwkutL8GeF9Q13UrbT/jrqjTzQWltJcSJGH8MKpcrGQoZlGSMkDms3lGUy3w8P/AI/wCRi8hyOW%2BFp/8AguH/AMiY1x/wRP8A%2BCYF1/rP2VrIf9c/Euqp/wCg3QqlN/wQy/4JbTHI/ZiMZ9Y/GmtD/wBvMV6d/wAJx/wUL/6Nf%2BDP/h%2BNW/8AmXo/4Tj/AIKF/wDRr/wZ/wDD8at/8y9Q8jyV74an/wCAR/yM3w5w83/udL/wXH/I8kn/AOCD3/BMGb7nwCvYv9zxnqp/9CuTVOf/AIIF/wDBM2X/AFfwh1mL/c8X3/8AWU17P/wnH/BQv/o1/wCDP/h%2BNW/%2BZej/AITj/goX/wBGv/Bn/wAPxq3/AMy9Q%2BH8if8AzC0//AUbRyPJ6fwUIr0TX5SR4dN/wb9f8E2JPufD7xHH/ueLLn%2BpNVZf%2BDez/gnHJ9zwz4tj/wBzxVJ/VTXqfxd/aO/bt%2BDXhS08X%2BI/2UPhJc2954o0TQo47L466ozifVNVtdMgc7vDCjYs13GznOQisQGOFPUf8Jx/wUL/AOjX/gz/AOH41b/5l6h8OZA/%2BYWH/gKN45dg4fDFr0nUX5VUfPkv/Bu9/wAE7ZPu2XjZP93xR/jEai/4h3P2Bojmy134jW3p5HimIY/O3NfRH/Ccf8FC/wDo1/4M/wDh%2BNW/%2BZej/hOP%2BChf/Rr/AMGf/D8at/8AMvU/6s8P/wDQLD7v%2BCbLDxjtKf8A4Nrf/Lz55j/4N8f2Nrf/AI8fi58XrbHTyPGFuMf%2BSlWIf%2BCCH7M1r/x4/tKfHW3x08jx3brj/wAk69%2B/4Tj/AIKF/wDRr/wZ/wDD8at/8y9cv4%2B/aO/bt%2BHfivwR4Q1j9lD4STXHjzxRLoWlSW3x11QpBPHpWoamXl3eGAQnk6dMoKhjvdBjBLK1w3kK2w8fx/8AkiZYWnLeU/8AwbW/%2BXnm1v8A8EOPgxZf8eH7ZX7Rdvjp5PxHgXH/AJJ1ftf%2BCM/gux/48P2/P2oIMdPK%2BKka/wArSvYv%2BE4/4KF/9Gv/AAZ/8Pxq3/zL0f8ACcf8FC/%2BjX/gz/4fjVv/AJl6tcP5NHaivvn/APJnPPKcDU%2BNSf8A3Erf/LzylP8AgkeLZcWP/BSj9qyH02/Fz/C2FVPgT%2ByXqX7Ln/BQ3wcb/wDag%2BKfxIXXfgz4x8sfEzxUdTOm%2BTq3hbP2clV8vzPNG/8AveVH/dr2H/hOP%2BChf/Rr/wAGf/D8at/8y9UPA/gf9qzxj%2B1Z4c%2BN3xu%2BHHw98M6N4Z%2BHviHQ4YfCvxDvtauru61K%2B0S4RmS40ixSKNE0uUFg7sWlQBcZI3oZTl%2BGqqpShaS/vTf4ObX4Cw%2BUZdhaqq0oWkuvNN/%2BlVJL8Ge60UUV6J6QUUUUAFFFFABXzl%2BxD4Y03wt%2Bzx4svbHzCL39obx/qd87DOD/AMJ5qm9uB0VIx%2BC19G18lfsleLP2ztP%2BHviiz%2BGPwD%2BGGr6Enxp%2BIv8AZ%2Bo698XdR027mX/hM9ZLGS2i0C5SIhtwAEz5AByCdoTSbT7FxqVIwlBPSVr%2Bdndfc9T6g/4TnwT/ANDhpf8A4MI//iqX/hOfBP8A0OGlf%2BDCP/4qvLf%2BE4/4KF/9Gv8AwZ/8Pxq3/wAy9H/Ccf8ABQv/AKNf%2BDP/AIfjVv8A5l6ZB6l/wnPgn/ocNK/8GEf/AMVR/wAJz4J/6HDSv/BhH/8AFV5b/wAJx/wUL/6Nf%2BDP/h%2BNW/8AmXo/4Tj/AIKF/wDRr/wZ/wDD8at/8y9AGpffAz9ijVPhxpPwd1P4O/C248I6Be/bNC8Kz%2BHtNfTdNud0jedBbFPKhk3Syneig5kc5%2BY50NP%2BHH7KOk2trZaV4D%2BHttDZWmk2llDb6XYotvBpc8lxpkSAKAiWk8sstuowIJJHeMKzEnzP4I/tHft2/Hj4MeEPjj4V/ZQ%2BElrpfjPwvp%2Bu6bbah8ddUWeGC7to7iNJAnhhlDhZAGCswyDgkc11H/Ccf8FC/wDo1/4M/wDh%2BNW/%2BZegDVsfgf8AsVaX4p1vxzpnwg%2BF1vrfiWC6h8R6xB4f01LrVY7rH2lLmUJvnWXavmByQ%2BBuziug8b6V8APiZ4Iufhl8SNN8HeIPDd5CkV34e1yG0u7GeNGVkR4JQ0bKrKpAK4BUEdBXFf8ACcf8FC/%2BjX/gz/4fjVv/AJl6P%2BE4/wCChf8A0a/8Gf8Aw/Grf/MvQB1Q8E/swjw9b%2BER4R8BjSbTw3P4etdL%2BwWX2eHSJxGs2nJHt2rayCGIPAB5bCJAVO0Y5/Uf2cf2DtX%2BGFj8EdW%2BA/wjuvBeman/AGjpvhG48L6W%2Bl2l5hx9pitWjMUcuJZB5iqG/ePz8xzxvxu/aO/bt%2BA/wY8X/HHxV%2Byh8JLrS/BnhfUNd1K20/466o080FpbSXEiRh/DCqXKxkKGZRkjJA5rqP8AhOP%2BChf/AEa/8Gf/AA/Grf8AzL0AaDfAP9h94PC1q/wW%2BFJj8DSPJ4JjPhzTNvh93kWVmsR5f%2BiEyKrkxbcsobqAa17fwD%2By1afFef482vgvwBF45urQWtz4zj06xXVpYAioImuwvnMm1EXaWxhQMYArmP8AhOP%2BChf/AEa/8Gf/AA/Grf8AzL0f8Jx/wUL/AOjX/gz/AOH41b/5l6APUf8AhOfBP/Q4aX/4MI//AIqjwYd%2BhmdQdk19dyxEjG5HuZGVvoVII9jXl3/Ccf8ABQv/AKNf%2BDP/AIfjVv8A5l65f4u/tHft2/BrwpaeL/Ef7KHwkube88UaJoUcdl8ddUZxPqmq2umQOd3hhRsWa7jZznIRWIDHCkA%2BjqK8Z/4Tj/goX/0a/wDBn/w/Grf/ADL0f8Jx/wAFC/8Ao1/4M/8Ah%2BNW/wDmXoA9morxn/hOP%2BChf/Rr/wAGf/D8at/8y9H/AAnH/BQv/o1/4M/%2BH41b/wCZegD2aivnHx9%2B0d%2B3b8O/FfgjwhrH7KHwkmuPHniiXQtKktvjrqhSCePStQ1MvLu8MAhPJ06ZQVDHe6DGCWXqP%2BE4/wCChf8A0a/8Gf8Aw/Grf/MvQB7NRXjP/Ccf8FC/%2BjX/AIM/%2BH41b/5l6P8AhOP%2BChf/AEa/8Gf/AA/Grf8AzL0AezUV4z/wnH/BQv8A6Nf%2BDP8A4fjVv/mXrl9W/aO/bt0f4z6B8Drj9lD4SNqniLwvq%2Bu2dynx11TyI4NOudNt5kcnwxuDs2qQFQFIISTJUhQwB9HUV4z/AMJx/wAFC/8Ao1/4M/8Ah%2BNW/wDmXo/4Tj/goX/0a/8ABn/w/Grf/MvQB7NRXjP/AAnH/BQv/o1/4M/%2BH41b/wCZej/hOP8AgoX/ANGv/Bn/AMPxq3/zL0AezUV846T%2B0d%2B3brHxn1/4HW/7KHwkXVPDvhfSNdvLl/jrqnkSQajc6lbwohHhjcXVtLnLAqAA8eCxLBeo/wCE4/4KF/8ARr/wZ/8AD8at/wDMvQB7NRXjP/Ccf8FC/wDo1/4M/wDh%2BNW/%2BZej/hOP%2BChf/Rr/AMGf/D8at/8AMvQB7NRXjP8AwnH/AAUL/wCjX/gz/wCH41b/AOZeuX8A/tHft2/ETxX438IaP%2Byh8JIbjwH4oi0LVZLn466oEnnk0rT9TDxbfDBJTydRhUlgp3o4xgBmAPo6ivGf%2BE4/4KF/9Gv/AAZ/8Pxq3/zL0f8ACcf8FC/%2BjX/gz/4fjVv/AJl6APZq8Z/Zf/5Lf%2B0d/wBlmsf/AFCvC9H/AAnH/BQv/o1/4M/%2BH41b/wCZerf7K3w5%2BNPg/WPih47%2BOmgeF9J1Tx98Qotcs9K8J%2BJbnVre1tYtB0fTFV7i4srNmkaTTpXKiLaFkQbmOcAHrdFFFABRRRQAUUUUAFFFFABRRRQAUUUUAFFFFABRRRQAUUUUAFFFFABRRRQAV8r/ALT37Wnxc%2BGHxj8Wa14B8O%2BD5PDHwf8AD/h%2B98anWtIuJtV1S31e/lS5gsLiO4jSy8i2s47jMkU4uZCkZEPl%2BafqivGfjP8AsQ/Dj43fFI/EzXPHPirS4tRtdItfF/hrRrq1TTvFMGl3sl7YxXyy28kwWOaaXP2eWAyxyGKYyxhUAB7NRRRQAUUUUAfMfhz9pX4mQ/t/%2BKPg/wDEbWPD3hPw2viC00TwZFqPwi1lLrxjANAg1HEHiNrtdOaWO7udQAtBC8nl2kwCgs0i/TleV%2BLP2WoPH/xk0j4p%2BPfjf411fSvD2ux61oHgC4OmRaNY6hHbvBHOGhskvZdnmSSKk11JGJH3bPkQL6pQAUUUUAeL/wDBQX4u/HD9n79kfxp8evgFe%2BFI9Y8E6Fd65dQeMNFub62u7S1tpZnt0S2urZkldkRRIXKoCxKPwK8/8eftafFzwX8ePFup%2BFPDvhCL4eeEPjH4R%2BH3jKzm0i4Ot6rquuwaKkeoQ3aXCwxxwf25pMZikt5XkSGfEse1BXsP7WP7ONl%2B1p8CNe/Z91r4q%2BKfCOk%2BJ7KWx1y/8ILp32u5spYnimtt1/aXUaI6vyyIsgKja6854uD9gHwdP8RbP4i%2BKvjj4%2B11jrOk654m0bUJdKisfE%2BuaYkaWOrXsdtYRMtxEILTC2zQQMbG2LxMY8kA97ooooAK8X/bJ%2BLvxw%2BCVr4B8Y/Cy98Kf2NqHxM8OeHvF9j4g0W5ubq5tdV1mx00GzlhuoUtpI1uZZN8iTqSiLs5Jr2ivKv2rv2W3/aq8N6F4Xn%2BPvjfwNb6F4ksNdRvBcOjs93e2N5BeWbSnUtPvBtiuLeNwsYQNysm9TtAB5x%2Bzz%2B0r8TNb/aq8W/BH4oav4e8J6dD4p1u38E%2BEpPhFrOmXOvW0LpKb%2B31q4u/sGoOxkmllitoC/JdiuGJ%2BnK8l0n9lEP8ZNF%2BMvxH/aA8d%2BNZvC93eXfhPQvEI0mGw0e6ubeS1kuIlsNPtpZX%2BzzTwr58kqos77QCQR61QAUUUUAeH/t3fFz48fs/fBrV/jr8KPGPgWx0/wALaLc3l7ovizwze39z4hvcotnplnJbXsH2ea4lIt0byrpmlniCwsflbz/4I/tffGfXPiX4K/tbwZ4S0j4aeN/if4o%2BG3hXw1p2lzR6vol/oEOrb557kXDW80EjeH9TRYY7eIxq1sfMkywHp/7Sv7IMH7SXjzwR8QJv2gfHfhC58A3dze6LY%2BGItGns5L2VBGt5NBqenXiPPDH5iwyAKYxPKR8zZFXwH%2Bw18PfAfxlt/i7D8RfF2pQadrup69onhDUrmy/snStb1GN49Q1SBIrVJ/PnE92WV5nhRr65McUfmcAHtdFFFABXy/8Atc/Hj9pf4LfETT/CmlQ%2BAPGuj%2BOYdattF%2BHMXg%2B%2Bk1hLW00O6u5L%2B4nF68V1bC6it7aSEWsQP2%2BFBMZGRJPqCvDpv2JriP8AaP8AFf7TWiftV/EvTtX8W6bDp1zpcMHh%2Be00%2BzhgaOG2s2udJlubeJZXe62LNtedy7hwdtADP2EP2g/G/wAe/h7eXXxX8faNfeLtOFm2v%2BG7L4Xav4RvNAee2WUQXNlq91PcOC2/y7gBI5FQ7Q20mvdK83%2BB37N2nfBnxP4k%2BIesfFLxT448VeK4rG31jxP4uawW5e0sxN9ltUi0%2B1tbaOKNrm5cbYQzNcSFmbIx6RQAUUUUAfHP/BQT9uP4qfsYeOf7T1zRdA8Y%2BEX0bUdbt/Csvw51Oylt003Rr7Ukk/4SKa6fTJ7v7Xpo2WKwJdCOZZQNsLSN69%2BzR8Xfjnq3xU8b/s9ftHXPhTUPE/hHSdD1qPWvBWkXNhY3NjqgvI0iMFzc3LrLFcaddqX83EiGJtkZJUVvjr%2Bwl4I/ac1q6tfj/wDFvxr4o8F3MlxIvwyvJNNh0WKSaxmsmbfb2Ud9IBHcTMElunQO%2B7b8iBen/Z8/Zm0j4B3mveIrv4oeLPHHiPxIbOPVvFXjW4s3vpba0iMVraj7HbW8KxRB5WGI97PPK7s7OTQB6VRRRQAV8R/tT/tlftZ/Bv41eIPhR4O8N%2BHPGup2Gi3Gu%2BGAnwP8QRyaKBqOmWqGFvtzjxNILHVLjzv7L8p4WhKyiMTCOvtyvD9e/Yt1PxL49PxO1r9rn4oza3p8F5F4NvCmgAeFVupoZJ/skY0nZOzRwLb7r1bpliZwpV3ZyAdV%2Byx8WH%2BMnwjg8WXvxM0bxVfw6jdWWqX2jeDL7w6La4ilZWtZtN1C4nurOeMYV45nD5%2BbaoYCvRq4b4B/AXw98APDOp6NpXinW/EGo6/r1xrfiTxJ4jmga91W/mCI08ot4oYExHFDEqQxRxqkSAKMEnuaACiiigAooooAKKKKACiiigCj4o8Q2HhLw1qPivVQ5tdMsZru5ES5by40LtgdzhTXzn%2BxN%2B0n8a/H/inR/Bnxs8PeDLMeOvhbZfEbwzD4M0q4tBpkd5cE3en3ZmuJRdzRvc2z/bEEAnaWYmCPaC/0td2lrf2stje26TQzRtHNFKoZXUjBUg8EEcYryH9mb9ivwF%2BzBqr6voHxB8W%2BJZbbwxY%2BGfDo8WXtrMNA0KzeR7fTbU29vCWjUyfNLOZriQRxeZM/lrgA9iooooAK4X9qDx58RfhZ%2BzR8RPid8H/Ci694t8OeBdX1TwtobWM10NR1G3s5Zba2MMDLLMJJURPLjYO27CkEg13VZ3i3RL/xL4Y1Dw/pfivUdCub20kht9a0hYGurF2UgTRC4iliLqeQJI3TI%2BZWGQQDy79in4tT/FD4Z31lq3xC8P6zqfh3VV0680zRPhhqfg59DQW0EkVncaVqlzPcwuEcSK7eWjxSxbEwN7%2BxV558B/2dtJ%2BB154l8R3PxE8SeMfEni/UYbzxF4p8VvZi7ujDbpbwRCOxtra2iijjQBVjhTJZ2YszMx9DoAKKKKAPlz9qj9rH4ofs4fF7xxZfErRvCXiL4X2H7O/i/wAe22hW%2BiXCaq7aINLWe2uLmS5e3minW%2BnAQWyFQiZd8sK7f9mf4v8Ax81T4ueMv2df2ln8JXnijwx4Y8PeJY9V8FaTc2NlJZas%2BpW62xhubm5cyw3GkXYMokCyI8TeXGdy1B8Y/wBhXw78dPjq3xl8efHbxzLps3grU/CN98PYYNF/sS70bUltvt9pIX01r0idrSB2cXQdShCMiMyHpP2d/wBl3Q/2fb7WvEc/xQ8W%2BN/EOv2thZX/AIn8bXNpJemwsUkWzsx9ktrePyojPcOCUMjvcyu7uzZoA9PooooAK%2BRPjX%2B0v%2B1t4M139oDwJb%2BFfBniy98BeH/CniT4bWOk/D/U7%2BdY9R1XUoQl5axXjy6jPAumxzqbYW5LkhV%2BVWr67rwuX9ijxDF8dPG3x/0L9tD4raVq3jfSLHTLmxsrPww1ppttZXFzPZpbCXRXk/dG8ulBmeUus5EnmFUKgHV/sqfFub4y/CkeJtR%2BJ2jeKdRtdVubHVrrR/BF/wCGzZ3ETfNaz6ZqNxPdWk6KV3JMwYhlbaqsK9JrhPgH8A9A%2BAOhazY6f4t1zxHqvibxBLrnifxN4klt2vdVv5IYYPNkFtDDBGFgt7eFUiijRUhQBc5J7ugAooooA%2BNv2lv2u/2lv2ePjNB8NtZT4Z%2BNb7W4IJvCMOneFr20l8F3mpeIdM8PaRNqcr30wuop21ecFols5HFjdLGGXzDF7j%2Byr8X/AIkfEYeP/h98Yjok/ir4aePG8NazqvhrTprOw1PzNL07Vre4ht5p55LfNrqlujxtNLiSOTDEEY4W2/4Jq%2BEmuviG/iH9pf4nazb/ABJ1465rFvqR0LzLPUoriGfT7m2uotLS6U2D29uLSN5pIolhQMj859Y%2BAfwF0P4B%2BHtW02y8X654k1bxFr02teJ/FHiV7Y3%2Br30kcUPnTC1gggXZBBbwIkUUaLHBGoXgkgHdUUUUAMuftP2aT7Hs87YfK83O3djjOOcZr4g%2BK37XP7afw0%2BImufDa3tvAfjPXvDF74at9W8deCPgrr%2BrR%2BHLfVmvHvbCXSrPUp7u5mjhsrG6JinT93dQtLAgMTSfb13DJcWstvDdSQPJGyrPEFLxkjAZdwK5HUZBHqDXz38GP2AvEHwE%2BG1x8NPh3%2B3V8Yoo7rVn1ObWbyy8Jz6hLdyvLJczzTPoR%2B0yTvLukknEj5jTYUAwQD1n4CfEOy%2BK3wd8P/EKw%2BIGjeKk1PTxI%2Bv%2BH9JmsLS7kBKyFLWeaaW2KurI0MkjvGysrHcpA6%2BuS%2BBfwX8Jfs%2B/C/TvhT4Kub%2B4srCW6uJr7VbkTXV9d3VzLdXV1M4VQ0s1xPNK%2B1VXdIdqquFHW0AFUfE8PiS58N6hb%2BDdTsbLV5LKVdLvNTsHuraC4KERySwxyxNNGrYLIskZYAgOpO4XqzfGOg3/AIo8LX/h3S/FupaDc3lq8UGtaOIDdWLkcTRC4iliLqeQJI3Q4%2BZWGRQB8PfDf9uz9rX4wfFPW/gl8LNN%2BHyeM9NtddvpPGfiv4Xa1oa6ppmkWuiypYy6JeXyahp8r3fiHYk08zx%2BVDJcJC6zoD9jfAL4tab8fPgT4K%2BOujabLZ2fjXwlpuvWlnM%2B54Iry1juFjYgDJUSAE%2BorxbV/wDgmR4H1rXL74i3f7SnxTT4gasl5a618Sba90iHVr/TLq2tbabTCiaaLOG2KWVow8i2ilWSBZVlDlmP0H4L8H%2BGvh54O0nwB4M0mLT9H0PTINP0mwhzstraGNY4o1zzhUVVH0oA06KKKAOX%2BNOo%2BONG%2BFuta38OfENjperWFmbqG%2B1Dwfe%2BIESOMh5QNOsZ4Lm8kaJXVIoZA5dlwrn5G%2BLfhL/wUR%2BP3iTxpoep%2BN7jwj4E8GalPOviDxxefAzxFNbaxfw6/daQiXMq30aeGZ5LW0tf3GqNJLA8qxvnYEr7b%2BJngzXfHvhKbw54b%2BKWv%2BDbySWN4tf8MxWL3cG1gSqrf21zAwYAqQ8TcE4wcEeK3X/BObwpqHg%2B4%2BG2rftIfE278Ma5qE1/480Ca40cReMLue8a6uJr6VdNFxF5pZYWjs5bWIQxJGqKN24A%2BiaKKKACiiigAooooAKKKKACiiigAooooAKKKKACiiigAooooAKKKKACiiigAooooAKKKKACiiigAooooAKKKKACiiigAooooAKKKKACiiigAooooAKKKKACiiigAooooAKKKKACiiigAooooAKKKKACiiigAooooAKKKKACiiigAooooAKKKKACiiigAooooAKKKKACiiigAooooAKKKKACiiigAooooAKKKKACiiigAooooAKKKKACiiigAooooAKKKKACiiigAooooAKKKKACiiigAooooAKKKKACiiigAooooAKKKKACiiigAooooAKKKKAP/9k%3D\">"
            ]
          },
          "metadata": {
            "tags": []
          }
        }
      ]
    },
    {
      "cell_type": "markdown",
      "metadata": {
        "id": "rfwVO2CNBKz8",
        "colab_type": "text"
      },
      "source": [
        "# Submit a linear model"
      ]
    },
    {
      "cell_type": "code",
      "metadata": {
        "id": "YornDPYaBKz-",
        "colab_type": "code",
        "colab": {}
      },
      "source": [
        "## GRADED PART, DO NOT CHANGE!\n",
        "# Testing shapes \n",
        "grader.set_answer(\"9XaAS\", grading_utils.get_tensors_shapes_string([W, b, input_X, input_y, logits, probas, classes]))\n",
        "# Validation loss\n",
        "grader.set_answer(\"vmogZ\", s.run(loss, {input_X: X_val_flat, input_y: y_val_oh}))\n",
        "# Validation accuracy\n",
        "grader.set_answer(\"RMv95\", accuracy_score(y_val, s.run(classes, {input_X: X_val_flat})))"
      ],
      "execution_count": 0,
      "outputs": []
    },
    {
      "cell_type": "code",
      "metadata": {
        "id": "PPSeU4qYBK0G",
        "colab_type": "code",
        "outputId": "e97a9dc0-baf2-4338-99cf-0f610835c00e",
        "colab": {
          "base_uri": "https://localhost:8080/",
          "height": 34
        }
      },
      "source": [
        "# you can make submission with answers so far to check yourself at this stage\n",
        "grader.submit(COURSERA_EMAIL, COURSERA_TOKEN)"
      ],
      "execution_count": 0,
      "outputs": [
        {
          "output_type": "stream",
          "text": [
            "Submitted to Coursera platform. See results on assignment page!\n"
          ],
          "name": "stdout"
        }
      ]
    },
    {
      "cell_type": "markdown",
      "metadata": {
        "id": "Ks5HH76uBK0M",
        "colab_type": "text"
      },
      "source": [
        "# MLP with hidden layers"
      ]
    },
    {
      "cell_type": "markdown",
      "metadata": {
        "id": "b5SBpBJMBK0O",
        "colab_type": "text"
      },
      "source": [
        "Previously we've coded a dense layer with matrix multiplication by hand. \n",
        "But this is not convenient, you have to create a lot of variables and your code becomes a mess. \n",
        "In TensorFlow there's an easier way to make a dense layer:\n",
        "```python\n",
        "hidden1 = tf.layers.dense(inputs, 256, activation=tf.nn.sigmoid)\n",
        "```\n",
        "\n",
        "That will create all the necessary variables automatically.\n",
        "Here you can also choose an activation function (remember that we need it for a hidden layer!).\n",
        "\n",
        "Now define the MLP with 2 hidden layers and restart training with the cell above.\n",
        "\n",
        "You're aiming for ~0.97 validation accuracy here."
      ]
    },
    {
      "cell_type": "code",
      "metadata": {
        "id": "IAoKACp-Zb7V",
        "colab_type": "code",
        "outputId": "7a81f2d9-b659-4295-c904-25847a9a1f5e",
        "colab": {
          "base_uri": "https://localhost:8080/",
          "height": 34
        }
      },
      "source": [
        "hidden1 = tf.layers.dense(input_X, 256, activation=tf.nn.sigmoid)\n",
        "hidden2 = tf.layers.dense(hidden1, 256, activation=tf.nn.sigmoid)\n",
        "hidden2.shape"
      ],
      "execution_count": 0,
      "outputs": [
        {
          "output_type": "execute_result",
          "data": {
            "text/plain": [
              "TensorShape([Dimension(None), Dimension(256)])"
            ]
          },
          "metadata": {
            "tags": []
          },
          "execution_count": 16
        }
      ]
    },
    {
      "cell_type": "code",
      "metadata": {
        "id": "6lR1L1nDBK0Q",
        "colab_type": "code",
        "outputId": "9dedfa31-6e95-41c3-a015-47982b838110",
        "colab": {
          "base_uri": "https://localhost:8080/",
          "height": 309
        }
      },
      "source": [
        "# write the code here to get a new `step` operation and then run the cell with training loop above.\n",
        "# name your variables in the same way (e.g. logits, probas, classes, etc) for safety.\n",
        "### YOUR CODE HERE ###\n",
        "hidden1 = tf.layers.dense(input_X, 256, activation=tf.nn.sigmoid)\n",
        "hidden2 = tf.layers.dense(hidden1, 256, activation=tf.nn.sigmoid)\n",
        "# Compute predictions\n",
        "logits = tf.layers.dense(hidden2, 10)\n",
        "probas = tf.nn.softmax(logits)\n",
        "classes = tf.argmax(probas,1) ### apply tf.argmax to find a class index with highest probability\n",
        "\n",
        "# Loss should be a scalar number: average loss over all the objects with tf.reduce_mean().\n",
        "# Use tf.nn.softmax_cross_entropy_with_logits on top of one-hot encoded input_y and logits.\n",
        "# It is identical to calculating cross-entropy on top of probas, but is more numerically friendly (read the docs).\n",
        "loss = tf.reduce_mean(tf.nn.softmax_cross_entropy_with_logits_v2(labels=input_y, logits=logits)) ### cross-entropy loss\n",
        "\n",
        "# Use a default tf.train.AdamOptimizer to get an SGD step\n",
        "step = tf.train.AdamOptimizer().minimize(loss) ### optimizer step that minimizes the loss\n",
        "\n",
        "s.run(tf.global_variables_initializer())\n",
        "\n",
        "BATCH_SIZE = 512\n",
        "EPOCHS = 40\n",
        "\n",
        "# for logging the progress right here in Jupyter (for those who don't have TensorBoard)\n",
        "simpleTrainingCurves = matplotlib_utils.SimpleTrainingCurves(\"cross-entropy\", \"accuracy\")\n",
        "\n",
        "for epoch in range(EPOCHS):  # we finish an epoch when we've looked at all training samples\n",
        "    \n",
        "    batch_losses = []\n",
        "    for batch_start in range(0, X_train_flat.shape[0], BATCH_SIZE):  # data is already shuffled\n",
        "        _, batch_loss = s.run([step, loss], {input_X: X_train_flat[batch_start:batch_start+BATCH_SIZE], \n",
        "                                             input_y: y_train_oh[batch_start:batch_start+BATCH_SIZE]})\n",
        "        # collect batch losses, this is almost free as we need a forward pass for backprop anyway\n",
        "        batch_losses.append(batch_loss)\n",
        "\n",
        "    train_loss = np.mean(batch_losses)\n",
        "    val_loss = s.run(loss, {input_X: X_val_flat, input_y: y_val_oh})  # this part is usually small\n",
        "    train_accuracy = accuracy_score(y_train, s.run(classes, {input_X: X_train_flat}))  # this is slow and usually skipped\n",
        "    valid_accuracy = accuracy_score(y_val, s.run(classes, {input_X: X_val_flat}))  \n",
        "    simpleTrainingCurves.add(train_loss, val_loss, train_accuracy, valid_accuracy)"
      ],
      "execution_count": 0,
      "outputs": [
        {
          "output_type": "display_data",
          "data": {
            "text/html": [
              "<img src=\"data:image/jpeg;base64,/9j/4AAQSkZJRgABAQEASABIAAD/2wBDAAIBAQEBAQIBAQECAgICAgQDAgICAgUEBAMEBgUGBgYFBgYGBwkIBgcJBwYGCAsICQoKCgoKBggLDAsKDAkKCgr/2wBDAQICAgICAgUDAwUKBwYHCgoKCgoKCgoKCgoKCgoKCgoKCgoKCgoKCgoKCgoKCgoKCgoKCgoKCgoKCgoKCgoKCgr/wAARCAEgA2ADASIAAhEBAxEB/8QAHwAAAQUBAQEBAQEAAAAAAAAAAAECAwQFBgcICQoL/8QAtRAAAgEDAwIEAwUFBAQAAAF9AQIDAAQRBRIhMUEGE1FhByJxFDKBkaEII0KxwRVS0fAkM2JyggkKFhcYGRolJicoKSo0NTY3ODk6Q0RFRkdISUpTVFVWV1hZWmNkZWZnaGlqc3R1dnd4eXqDhIWGh4iJipKTlJWWl5iZmqKjpKWmp6ipqrKztLW2t7i5usLDxMXGx8jJytLT1NXW19jZ2uHi4%2BTl5ufo6erx8vP09fb3%2BPn6/8QAHwEAAwEBAQEBAQEBAQAAAAAAAAECAwQFBgcICQoL/8QAtREAAgECBAQDBAcFBAQAAQJ3AAECAxEEBSExBhJBUQdhcRMiMoEIFEKRobHBCSMzUvAVYnLRChYkNOEl8RcYGRomJygpKjU2Nzg5OkNERUZHSElKU1RVVldYWVpjZGVmZ2hpanN0dXZ3eHl6goOEhYaHiImKkpOUlZaXmJmaoqOkpaanqKmqsrO0tba3uLm6wsPExcbHyMnK0tPU1dbX2Nna4uPk5ebn6Onq8vP09fb3%2BPn6/9oADAMBAAIRAxEAPwD9/KKKKACiiigAooooAKKKKACiiigAooooAKKKKACiiigAooooAKKKKACiiigAooooAKKKKACiiigAooooAKKKKACiiigAooooAKKKKACiiigAooooAKKKKACiiigAooooAKKKKACiiigAooooAKKKKACiiigAooooAKKKKACiiigAooooAKKKKACiiigAooooAKKKKACiiigAooooAKKKKACiiigAooooAKKKKACiiigAooooAKKKKACiiigAooooAKKKKACiiigAooooAKKKKACiiigAooooAKKKKACiiigAooooAKKKKACiiigAooooAKKKKACiiigAooooAKKKKACiiigAooooAKKKKACvPfjt%2B1J8FP2b5NGsfil4g1Maj4ilnTQNB8OeF9R1zVNR8lVed4bHTbee5kjiVkMkixlI96biu5c%2BhV4N%2B0P8D/j5/wANJ%2BDv2tv2bLLwfrWueH/B2seFNX8KeOdcutLtLywv7mwuxcQXtraXj288U2noCpt3WVJSCUKK1ABpf/BTL9izWLvxPb2nxXv0h8FWsk/jLUrvwXrEFjoIS0iu9l5dy2iwWsrQzRskMjrJIWKorMrKL2n/APBQ/wDZK1HwBrXxFTx/q9vB4f1ay0vVdE1DwNrNrrkV5ebfscC6PNaLqEr3AYGER27eaAxTcFYjy2b9gH4y%2BMf2a/jn8NfGHinwppHin4o/FS38daHc6U1xeWFpeW0OiywQ3IkihkkiN3pRRwoyYHGDuJVaPi79i/8AaV%2BLmr/Ef45fG34S/CjWvFnjWx8KaPp/gKy%2BI2s2Wm6fY6Hcaldw3qa7b6al5DqDXOqTOksVoPJSKNFZiWcgHsviH9vv9mzwv4a8OeI9XvvG3meK0v5NE8P2vwm8SXGuSRWUscV3NJpMWntf28MLzQq8s0CIpmiy37xM%2Bmaz8RPBHhv4e3XxX8T%2BJbbSvDljo76rf6vqrfZYbSySIzPPMZdvlKsYLNvxtAOcYNfGHin9hH9s/WPgX4X8Nay3hfxV470a58RHRfGV/wDHbxNpGr%2BCLW%2BuUktLO11q1sJLzXIYkjhEy3qw/aTbReYCFGPUfjR/wTotfj1%2Bzb4n%2BHHxD%2BOfjW78d%2BMPhfH4Z17xS3jbWho818tpDE2oJoS3y2FuzzQLK3kRRSEPIBIrSM5AOkg/4KUfsZf8K58V/FbWPite6Jo3giysr7xQ/ifwdq%2Bk3NlZXkxhtb37LeWsVxJaSyK6pcxxtC3luQ%2BEYjj/AI3f8FZP2d/hn8ENU%2BMfgPRfFXiqbQfiD4X8L674Y/4QXXbHU7A6zqVrax3T2cmnNdeV5Fw88DeT5d48aW8MhknjB8r1T/gmJ8ZPHfwq8faR4i8DeG9G8Y%2BI9D0fR7DxDqv7RfjPxut3aWusW%2BoTRyf27AfsEZ8likUSzHe%2BGkxknv8A9qH9gz40/GD4g/F/4g%2BBfEPheOTxfB8LbzwlZ6tfXMSvf%2BE/EdzrUsN40dvJ5ENwGt4VljEzrl2MfyKrgHqFh/wUE/Zb1H4m2XwZh8T%2BJo/Fd5oun6xLoF38N9egudO0%2B9adILu/SSyU6dDut5VeS68pYiFEhQum6j4a/wCCmH7FPi3wZ4s%2BIWkfGC4TR/Bfgi68Zaxe6h4S1W0Fx4et0Z5tWsVntUbVLNVQ4nsxPGxZArEugbB0P9kP4ofEP4mfG74g/G9fD2gxfGj4O%2BHfCF1Y%2BE9duNRl0u4tE11Ltlnns7XzYwNViMT7FZikm6OPA3fN37Y37Kn7UOj/ALDHxS%2BJv7TF34AtIfhD%2BxT8QfBHhePwFqF5cNrzXukWxn1G6W5toBYqE0i3CWcbXAVppCZ22oKAPrPw9/wUl/Yy8TaHrHiPT/i1dQWehppU1/JqnhLVbJmtNSu1s7HUIUuLVGubCWdgovoQ9qoDO0qorMPT9E%2BLvw88R/FLX/gvofiH7T4k8LaXp%2Boa/YR2k22zgvmuBa7pinlF3%2ByzHy1cyKoRmVVkjLfJOofsz%2BIPFegeKfjb/wAFIvF/wz8J%2BBbf9nu5%2BHUlx4f8QTLay6beyQyXmq3k17BbpYOTBbCG2QzCAmT/AEiQsuOw/wCCPngP4u2f7I9r8f8A9pDUDf8AxJ%2BL15H4n8V6g9nJbtJCLSCy01fKl%2BeH/iX2lpI0TYKSzTZAYtkA%2BqqKKKACiiigAooooAKKKKACiiigAooooAKKKKACiiigAooooAKKKKACiiigAooooAKKKKACiiigAooooAKKKKACiiigAooooAK8R0j/AIKMfse6ld69Z6n8Urzw83hzw5c%2BINQk8a%2BEdV0GObSbd0jnv7WTUrWBb63R5IlaW2MqAyxjOXXPtN7FczWcsNndCCZ4mWKYx7/LYjhtp64POO9fmJq//BHL9uX4v6t4X1z43fHHQ31vw14P1Cz1DxRqHxW8TeJx4h1v7ZpV9a6idLvoobLSbaS50xfPsLIBRHJtWWQKgUA%2B2X/b/wD2YbX4aN8WNY8QeKtK0ttcg0axs9c%2BGWv2GqanfzIZIYLLTbixS9v2kQM6/Z4ZAyo7AkIxHReA/wBqz4H/ABH1%2By8J%2BHPEOqQ6vf8AhSfxJDpGteFdS0y7TTYbv7JLLLDeW8UkDrP8hhkVZe%2BzbzXk3xO%2BDn7bvxib4e/G3XPBvwq0P4h/Cjx1NrHh/wAM2vjjUr/Rdcs7jSbvTLmO4vn0qGaxmKXskkbpa3AjMQU%2BYJGxV%2BJPwG/bg1/4y%2BHf2mvA%2BjfCu08WX3ww1XwX4x0LUvFepSWGkLcX8N1a39lcJpwk1AxCN1kt5YrQSlxiWLHIB3Gk/wDBRv8AZA8R694F8LeFfiNqus6n8SfBuleLfBunaJ4H1m9nvND1F9lrqMiQWjNa2%2B7HmSTiNbcMpm8oMCdj4a/tufs3fFf4jXPwn8M%2BL9Ws9ft9LudThsvE/gzVtEW/sbeRI57uyl1G1gjv4I3liDy2zSIvmISQGUnyj9hT9hL4sfsw6/8ADjWfHniDw1dnwd%2Byl4R%2BGN%2B%2BkXM8rNq2lvM1zNF5kEe61bemxmKu235o0wK8a%2BGn/BKv9sbxP8UfC/ib9qb4w2eqRaf4A8V%2BF/GniaD4v%2BJNavPEUur2KW39p2umX0Men6EcqWNpaKUXKgTOI1WgD6l8J/8ABRf9kfxrosfirQfHeuf2Hcarpen6f4lvfh/rdrpWoy6lex2VlJaX09mlteQS3M0UYuIJHhBlQs4VgT6X4W%2BLvw88a/EDxT8LvC/iH7XrnguSzj8T2iWkwWxkuoPtEEZlZBG7tCVkKIzMiyRlgokTd8w%2BOPAnxF8K/wDBPbxp8CP%2BChnif4VeCPAWg/DSLQLb4meHfFt2GadI0trXUntLqzgTTZlmFvJDBHcXTGcoiOTtDdr/AMEr/h98WPDf7ImlfFX9oqwS3%2BJ3xYvpfHXxEhW3aL7Pf36xmG02N8yfZbGOys9pyQLXBoA%2BjaKKKACiiigAooooAKKKKACiiigAooooAKKKKACiiigAooooAKKKKACiiigAooooAKKKKACiiigAooooAKKKKACiiigAooooAKKKKACvF/j14/8A2i/%2BGi/AvwI%2BAvjPwV4fTX/BXiXXtX1Pxf4Lu9aJOnXeh28MMMdvqVj5Yb%2B1JWZmZ8%2BWgAXkn2ivC/iLrS2f/BSr4Q6LIoxe/BP4hsjd90ereDTj8mY/hSbS3LhCVR2j2b%2B7Vl7/AIQf/goX/wBHQfBn/wAMPq3/AM1FH/CD/wDBQv8A6Og%2BDP8A4YfVv/mor2aimQeM/wDCD/8ABQv/AKOg%2BDP/AIYfVv8A5qKP%2BEH/AOChf/R0HwZ/8MPq3/zUV7NRQB4z/wAIP/wUL/6Og%2BDP/hh9W/8Amoo/4Qf/AIKF/wDR0HwZ/wDDD6t/81FezUUAeM/8IP8A8FC/%2BjoPgz/4YfVv/moo/wCEH/4KF/8AR0HwZ/8ADD6t/wDNRXs1FAHjP/CD/wDBQv8A6Og%2BDP8A4YfVv/moo/4Qf/goX/0dB8Gf/DD6t/8ANRXs1FAHjP8Awg//AAUL/wCjoPgz/wCGH1b/AOaij/hB/wDgoX/0dB8Gf/DD6t/81FezUUAeM/8ACD/8FC/%2BjoPgz/4YfVv/AJqKP%2BEH/wCChf8A0dB8Gf8Aww%2Brf/NRXs1effEDx/8AAz4aDU/GHx98ceFPD%2BnnWotPstS8YapbWkHmG0jlWCOS5ZV3kCV9oOSFY44OJnOFOLlNpJdW7L73ZG2Hw%2BIxdeNGhCU5ydlGKcpN9lGKlJvR6JN6bHNf8IP/AMFC/wDo6D4M/wDhh9W/%2Baij/hB/%2BChf/R0HwZ/8MPq3/wA1FV/%2BGv8A/gnB/wBHRfBH/wALbR//AI7R/wANf/8ABOD/AKOi%2BCP/AIW2j/8Ax2ub6/gP%2Bf0P/A4f/JHtf6pcWf8AQuxH/hPX/wDlBY/4Qf8A4KF/9HQfBn/ww%2Brf/NRR/wAIP/wUL/6Og%2BDP/hh9W/8AmorsPhp4k/Zy%2BNGhS%2BKfg7r/AIJ8WaZb3bWs%2Bo%2BGrqzv4I51VXaJpICyhwroxUnIDqcYIryf4g/ts/snfCH41/ET4RfFjwPqGh2nw08Dad4p8Q%2BLZPh/f3GlRWVyL5mLXMFo8UflpZE5Z/3jO0ce54ZVXphOFSKlBpp9U7r71dHi4jD4jCV5Ua8JQnF2cZJxkn2cZKMk9Vo0nrsdR/wg/wDwUL/6Og%2BDP/hh9W/%2Baij/AIQf/goX/wBHQfBn/wAMPq3/AM1FRN%2B03%2ByhbTeG49Y8J69pUPiu4ht9Iv8AXPg/rdhaLNNevZW8dzc3FgkNk81woSJbh4ml82FkDLNEz8zrv7dP7FPgK0J%2BJM1jb3bXvitYbXw34H1bWCLPw/qp03UbqUW%2Bm74UglaITMy%2BUhdiks0SidqMTq/%2BEH/4KF/9HQfBn/ww%2Brf/ADUUf8IP/wAFC/8Ao6D4M/8Ahh9W/wDmorvtAj%2BDHiu4ntPC8fhjUZraGCa5hsVt5XhjnTzIXdVyVEifMpONy8jIrw/9n79qrRPjR8UtG8L65%2Bzdomh%2BGPHOm67qHwz8SQ6ql3Pq1vpV7DazG7tTaRixaZJ47mBUluN0IfzDC6iMgHZf8IP/AMFC/wDo6D4M/wDhh9W/%2Baij/hB/%2BChf/R0HwZ/8MPq3/wA1Fcb4s/aq0Tw18eNR8D2/7N2h3PgTw98RNF8B%2BJ/Graqkd5aa/qtpZ3FokWn/AGQrPa51LTYXnNyjLJdECJxE7Vt/CH4r%2BLfiTr/xg8Bax%2Byz4S0vxJ8NdTjtdC0%2B28Trcwa6J9PS8tGmnNhH9iZ/MRHUJOI8khpMYoA1/wDhB/8AgoX/ANHQfBn/AMMPq3/zUUf8IP8A8FC/%2BjoPgz/4YfVv/morz3w3%2B1neeLf2fvh5450X9lbwofiD8SPH2p%2BENH8GzeJ9umQX%2BnvqrXUsupjTjILdbfR7uUOLMuzGOPYC%2B4YfxE/b48N%2BBPgd4R%2BPrfs//D1LDXL%2B40jU/C2s%2BOo7PxDLrlrqEmn3mk6NZLp0iazcpcQzIiia3MpVcBQ2VAPXv%2BEH/wCChf8A0dB8Gf8Aww%2Brf/NRR/wg/wDwUL/6Og%2BDP/hh9W/%2BaiuO%2BFX7UXh34qftjfEH9luw%2BGfwmtI/h/rQ0%2B6in%2BISHxNeodJsL8XkeiDTsC1336weabrGYnbGcJT/AAr8dPiDceMfGfwg%2BIv7LPw20Dxn4a8D2Piqxhi%2BIJudHeyubi6gC3982kxyWEimzmY4t50ZVYo7bHCgHXf8IP8A8FC/%2BjoPgz/4YfVv/moo/wCEH/4KF/8AR0HwZ/8ADD6t/wDNRXjr/t3vq37IGuftWfDz9lzwB4ntvCvjGbSdck0bx8suiX1lEYxJqOk6mumH%2B0ow8qwhTBCPOinQuoi3Nrftaftx%2BA/2X/2g9H%2BBB%2BBXhDUZ9S03R7y3j1fxLFpmp68b/U5bD7JoNkbOX%2B2Lu3MQmuIfNg8pLm2JY%2BblQD0z/hB/%2BChf/R0HwZ/8MPq3/wA1FH/CD/8ABQv/AKOg%2BDP/AIYfVv8A5qK5vVPi58T9A/bA8P8A7M%2Brfsp/DmbS/E2j69rGn%2BINL8dTTXtrpunfZ40uLqyfRo44TNcXlpDsW5k2mSRlMgibPNfDT9r0fEbT/izpNp8Hfgodb%2BE9rYXOs6vp3xY%2B1eE4RK919rtrzWf7IVrG8s4rOSa4ga1fy0ntSzqJiYwD0n/hB/8AgoX/ANHQfBn/AMMPq3/zUUf8IP8A8FC/%2BjoPgz/4YfVv/morxTSv%2BChWm%2BNPh74W8RfDT9l7wRqmqa9ofjDXJ5Lzx1Fa6FNpXhy9t7S6vNO1Qae/9oR3Bu4JbZjBBHJDvkkeEKN3T%2BLP21Ph9ovir4R3Ph74U/DzVfC3xlXRH8IwL4vWLxZdwaj5R%2B1waGbArPa2yTJNcSi7HlQpNIV/dhXAPRP%2BEH/4KF/9HQfBn/ww%2Brf/ADUUf8IP/wAFC/8Ao6D4M/8Ahh9W/wDmorx3Uv8AgoDoeh%2BHPEXxG1n9k/RI/Ch8H%2BNNd%2BHGqRa%2Bj3HiH/hG2ZZ4bqD7EBp32lUaa3dJLnMKMZFicCJtbQP2xrbxH8D/AAn8RfDnwc%2BDXiTXfH3j6Dwt4StPBXxUXVNDFxJZy3bG%2B1UaSjWrolvOhiS2nYyeQgJabCAHpn/CD/8ABQv/AKOg%2BDP/AIYfVv8A5qKoeB/HH7Vng79qzw58Efjd8R/h74m0bxN8PfEOuQzeFfh5faLdWl1pt9oluis9xq98ksbpqkpKhEYNEhDYyDf%2BBPxT%2BH/7RH7OU3xp8MeCtK0m9t7nW9MvYtNmjuEs9U0q%2ButPu1guURPOiW6s5fLmCp5kex9q7toPHH/KQv4X/wDZGfHn/p28IUAezUUUUAFcz8V/jT8HPgP4XXxv8cfiz4Z8GaK93Hapq/ivXrfTrVp3zsiEtw6IXba2Fzk4OBxXTV87f8FX3Fx/wT4%2BKvhqx8A%2BJPEusa/4K1TSfDmleFPBl/rl5LqFxYzxwhYbGCaSIEkqZmVY134Z13DIB7l48%2BIHgP4WeEb74gfE7xtpHhzQdMiEmpa3r2pRWdpaIWChpZpWVIxuYDLEDJA71z%2BvftNfs3eFvDPhzxp4n/aD8D6do3jGaKLwjq1/4ss4bbW5JADGlnK8gS5ZgQVEZYsCMZryH9qvxvB8U/A/w6%2BK3g/4f%2BOdV0HwX8UNC8SeKtFk%2BHOsQajLp3lXKRyx6fPapc3MltcS2108EcbzJ9mzs3hVPzFqXwy%2BInhHwR4i8WeMf2avHGuaJ8Svh98WNJ8C%2BFrDwReXd1pk2ueJpb%2Bysry2SItpa39tJBIz3IihtzbmO4eEqqkA/TKvnH4TeKv27/jro%2BveO/C/xv8AhJoGl2/xC8VaHpelX/wf1S/uIrXS9ev9MhaW4TxFAssjx2auzLFGu5yAoAFev6J4a%2BKmkfA7S/COmeMtMh8YWfh21tX13WdMl1G1N6kSLJNJCk9vJMrMGOBLGTnOa8l/YctvEsH7KV7p3jTV7K/1RvjT44t9YvNLsHs7a6kbx5qyTNHA80zwxvlsRtLIVVsF26kA6P8A4Qf/AIKF/wDR0HwZ/wDDD6t/81FH/CD/APBQv/o6D4M/%2BGH1b/5qKfr/AO1B/wAE/fCmu3vhbxT%2B0R8HNN1PTbuS11HTtQ8XaVDPazxsUkikjeUMjqwKsrAEEEEZFVP%2BGv8A/gnB/wBHRfBH/wALbR//AI7XK8dgU7OrD/wOP/yR70OFeKakFOGX4hppNNUK7TT1TTVBpppppptNNNNpplj/AIQf/goX/wBHQfBn/wAMPq3/AM1FH/CD/wDBQv8A6Og%2BDP8A4YfVv/mop%2BgftQf8E/fFeu2Xhbwt%2B0R8HNS1PUruO107TtP8W6VNPdTyMEjijjSUs7sxCqqgkkgAZNXv2q/iX8Kv2UP2b/Gv7SXin4XLq2n%2BCvD1xqt1pukaIJri5WJc7EWONiMnGXI2ouXcqqsw1pV6FdN05qVuzT/Js8/HZXmeVzjDG4epScldKpCdNtbXSnCDavpdJq%2Bl76Gd/wAIP/wUL/6Og%2BDP/hh9W/8Amoo/4Qf/AIKF/wDR0HwZ/wDDD6t/81FUNJ/az/Y/1zxvL8NdL8Na/L4htvDi69qGi/8ACmtdW60%2BweO7eKW6jbTw1q0v2G5WKOYJJM8YjjV3dFZ2mftOfsweJpPDv/CK6ZYIdZ8dTeFb2w8S%2BEtR0fUbG%2Bj0a61cwtZXNgJklNrbrMq3C28bwyeYsrMYo5tThLv/AAg//BQv/o6D4M/%2BGH1b/wCaij/hB/8AgoX/ANHQfBn/AMMPq3/zUVQ%2BCn7X/wCwv%2B0Fo03iP4beJtL/ALOi8P6frqX/AIi8I3eiwXOl3zMtrewSajbQLc28jqUEsRdQ%2BEJDECrv7RvxEb4V6/4P%2BGnwg%2BAHhrxd4z8bXt4mlaXrWqrpFjBa2dq1xc3M90lndOgH7mJVWFy0lxHnYgd1AHf8IP8A8FC/%2BjoPgz/4YfVv/moo/wCEH/4KF/8AR0HwZ/8ADD6t/wDNRXPa/wDtSfC2D9i3w1%2B1/wCE/gpZXg8Xjw7b6N4d1QwWfkX%2BsX9pp8EF3ciORbeOK5vEWaVVk2rHIUWQ7VbirX9txfEV9ZfCzwT%2BzN4CvPiUni7xBoHiLRr7xyttoWnT6Pa293c7NUGmvJOzQXlo6Rm0jb5pvM8oQOaAPVv%2BEH/4KF/9HQfBn/ww%2Brf/ADUUf8IP/wAFC/8Ao6D4M/8Ahh9W/wDmorwLXv8Agqh8FH1z4aDwF8CvC19pfxJ8HeFPEWiQa74lg07WtZh1y8a2W20WwFpMur3FmFEt2gnhEKSxHcwfI9bPxf8AiDo/7ZGi/sy%2BL/2Xvh1Foeu6FrmvQeKNH8by3V5Y6XYS20Mc93ZS6PDHC88t5AgjW6fG2Yq0giJIB0X/AAg//BQv/o6D4M/%2BGH1b/wCaij/hB/8AgoX/ANHQfBn/AMMPq3/zUVh/sgftJeAf2ufEHxBg0b4FWGjaL4T120tvDesXDRSt4i065sorq31IRCFfs8cySb4lLSFoWikYozmNPbfBg2aGYFJ2Q313FECc7US5kVV%2BgUAD2FAHl3/CD/8ABQv/AKOg%2BDP/AIYfVv8A5qKP%2BEH/AOChf/R0HwZ/8MPq3/zUV7NRQB4z/wAIP/wUL/6Og%2BDP/hh9W/8Amoo/4Qf/AIKF/wDR0HwZ/wDDD6t/81FezUUAeM/8IP8A8FC/%2BjoPgz/4YfVv/moo/wCEH/4KF/8AR0HwZ/8ADD6t/wDNRXs1FAHjP/CD/wDBQv8A6Og%2BDP8A4YfVv/moo/4Qf/goX/0dB8Gf/DD6t/8ANRXs1FAHjP8Awg//AAUL/wCjoPgz/wCGH1b/AOaij/hB/wDgoX/0dB8Gf/DD6t/81FezUUAeM/8ACD/8FC/%2BjoPgz/4YfVv/AJqKP%2BEH/wCChf8A0dB8Gf8Aww%2Brf/NRXs1FAHjP/CD/APBQv/o6D4M/%2BGH1b/5qKP8AhB/%2BChf/AEdB8Gf/AAw%2Brf8AzUV7NRQB4z/wg/8AwUL/AOjoPgz/AOGH1b/5qKP%2BEH/4KF/9HQfBn/ww%2Brf/ADUV7NRQB4z/AMIP/wAFC/8Ao6D4M/8Ahh9W/wDmoo/4Qf8A4KF/9HQfBn/ww%2Brf/NRXceN/j/8AAf4Zs6/Ef42eEfD5j/1g1vxJa2hX6%2BbIuK8s8R/8FVv%2BCdXhWR4tT/a98GylD8x02/N4D9Dbq4P4VyVsfgcO7VasY%2Bsor83%2Bh7%2BXcKcVZvFSwOX16qfWFGrJffGm1%2BJt/wDCD/8ABQv/AKOg%2BDP/AIYfVv8A5qKP%2BEH/AOChf/R0HwZ/8MPq3/zUV5td/wDBbT/gnI05svC/xm1TxDdL/wAuug%2BCdVnc/Qm2VT%2BdRf8AD3n4a6p/yIn7Hv7RPicH/VvoXwomdX9wZJU4rl/t3J%2BleL9G5f8ApKkfQLwq8SLXqZVWpr/p5GNL/wBPVKJ6d/wg/wDwUL/6Og%2BDP/hh9W/%2Baij/AIQf/goX/wBHQfBn/wAMPq3/AM1FeYj/AIKWfGzVefCn/BLf48zA/c/tfRrawz9d8rYo/wCG3/8AgoTrPHg3/gkd4klz90658UtK0/Hud6tS/trL38Lk/SnUf/tg/wDiGPF0f4saFP8Ax4vBw/PFM9O/4Qf/AIKF/wDR0HwZ/wDDD6t/81FW/wBlb4jfGnxhrHxQ8CfHTX/C%2Brap4B%2BIUWh2eq%2BE/DVzpNvdWsug6Pqas9vcXt4yyLJqMqFhLtKxodqnOfJv%2BGhv%2BCumq82H/BOzwVpO7oNU%2BLdvOV%2Bvkx8/hXQ/8E7NW%2BMuu658edV/aB8I6PoXi%2BX4zQf2tpOg37XVpBjwj4bEWyVgC2YRGzejMw7V04bH0sVPlhCa0veUJRX3ytr5Hj53wnjshwqr18Rh53fLy0sTRrTWjd3Gk5WjpZyva7S6n0nRRRXafLhRRRQAUUUUAFFFFABRRRQAUUUUAFFFFABRRRQAUUUUAFFFFAHMfGjQ/FviP4W63pHgX4lal4P1WSzL2niPSLK0uLmyKMHYxx3kM0DMyqyfvI3A35wSBXnn7NHiz4lfH3/gnz8M/iF4k%2BLV3onirxd8KNA1bWfGdhp9j58N3cafbz3NykM0LWqMWaQgNEYl3fcIG2vT/iN8P/D/AMVPBOofD7xVc6vDp2qQiK7k0HxDe6VdhQwbEd3YyxXEJJABMcikglTkEg%2BZ6d%2BwD%2BzJpv7Otz%2BybFoni2f4fXfhg%2BHZfDt98UPEFyq6WSv%2BipNLfNNGgVRENjgiLMQIjJQgFX9gj4jfEj4pfC3X/Ffi/wAfah4w8ON4zu4vhp431jTbW0vfEegLBbhL6WOzhggZWu/tqwyxQxpPax20wU%2BbvbzH4rfGPw5r/wDwWN%2BA/gPSLDxBBd6b8NfiPZahLqvhPUbC1nZ5fDUy/Zbm5gjgvlH2c7mtnlVPl3Fdy5%2Blfg98GvBnwL8Jt4K8B3viOawNyZ1HibxnqeuTRnYkexJ9SuJ5Y4gsa4iVhGp3EKCzE/MH7YernS/%2BCxv7GUJbCXvhn4oW7HP/AE4aM4H5oK5sZP2dHm84/jKK/U9zh3D/AFvM/Zf9O6z/APAaFaX/ALafZNFFFdJ4YUUUUAFFFFABRRRQAUUUUAFFFFABXE%2BK/hF8J/jRBq/hb4xfDDw74s0y38QRXUGneJtFgv4I51soUWVY50ZQ4V3UMBkB2GcE121eT/Hf9q34BfsfeGtR%2BJf7Rfj3/hHdEvvFcOmWt7/Zd1d77p9PSVY9lrFI4ykMp3FQvy4zkgHHETw9OhKVdpQS15rWt530t6jWPllT%2BtxrOk6evOpODj0upKUXHfdSW%2B%2Bon/DA/wCwr/0ZZ8Jf/Dc6Z/8AGKP%2BGB/2Ff8Aoyz4S/8AhudM/wDjFeSf8Pzf%2BCWX/R0X/lk65/8AIVH/AA/N/wCCWX/R0X/lk65/8hV4v17hX/n5Q/8AKf8Akaf8RSxP/Q9n/wCFlX/5oPpL4afCL4T/AAX0KXwt8Hfhh4d8J6ZcXbXU%2BneGtFgsIJJ2VUaVo4EVS5VEUsRkhFGcAV4r%2B0r%2Bwv4r%2BPHi74lan4f%2BM%2Bm6Fo/xV%2BF9h4Q8S6de%2BEJL64hayl1OS2u7adb2FUGdTkEkTxSbxEm14yWJ9J/Zo/at%2BAX7YPgS7%2BJf7Onj3/hItEsdXk0y6vf7LurTZdJFFK0ey6ijc4SaI7gpX5sZyCBj/Er9sv4YfCvxZ4l8C%2BJdB159Y8OS%2BGI49PtbWBpNW/t%2B/fTtPa03TKHBu4ponLmPZ5LsfkAY%2B1h54epQjKg04NactrW8raW9DN4%2BWav63Ks6rqa87k5uXS7k5Sctt3J7b6HlX7X3/BMeX9qz49W/xlufil4ds4oZfDE1vHr/AMO01jUtHk0fVjqBGk3r3cY01LvIiuNsLu4UEOMBRseHf%2BCdi6Druq62fi%2BJv7T0H4mab5f/AAj23yv%2BEu8RQ6zvz9oOfsnleRt48/dvzFjYea%2BPX/BWP4d%2BDvDfx78DfDTSreP4l/CP4S%2BLfF%2Bk6ZretaTqFpqB0WH5zNDpepTXVsnnS2uYbpbSZ0mOwZSTy%2B81b9vDQfD/AMR/Enwp034deK/GviXT/iBc%2BH9L8M%2BE9Gs4Low22iaZql1cmW81BIZYYl1GEGVmgdnnjhSB2USS7CPVPgz8PvEfws8CaR8O9T8U2WqWGg%2BH9O0zTZINJe2mP2e2WGSSVjPIr72QMqqqbAdpMn3q8c%2BDv7Cvjn4P%2BNbPxBZfHTTNQ0zwVoXiLTfhFo114MdRoQ1a7iuWbUJFvgdTFuIIreJYxZnyPMDs8jCZey/Yg/aR1T9p79mX4efF3xZo5s9c8W%2BAdN8RajFY6JeW9hGbpCdkUkwZQwKtmEyNKgKlwAyk%2Bd%2BCf2xvjZr3x50GXVtN8LD4beMfjF4k%2BG2g6fb6bcrrVnf6PaapK%2Boz3TXJhlhln0S/iFutujIstu5lf51ABueKP2G/EHiP46X/AI3X4yW0HgfxB8QtE8eeKfBn/CMFru88QaVaWdvayQ3/ANqC29qTpumzPAbeR2ktSRMolcVf%2BEv7OH7S/wAN/jZ8W/i5qn7QXgXUofiNsuNG0y3%2BF17bto15b2sVpZSTSnWpBeRJDEPNiVLdpXJZJIB8lcp%2B01%2B2N8bfhX8U/GL/AA80zws3g34TaL4b1Px3bazptzNqOsR6pfXEU0djNHcxx2jW1rb%2BeGkiuBPJKIsQhTIfN9T/AOCpvxX8C/GXx1a%2BPfCmjy%2BFvCEXj2ebRrfwpqNnMlt4dilmimt9dmnbT9YnuY4g0ljaxCez811m5tZdwB6D8O/2CPj54L%2BC/hXwfqP7TXhG68Y/D74m6l4y8DeKLP4XXVvYwS6gNTS8tb2wfWZHu42i1i%2BRTHcwFMwt8zRkvb8U/sEfFbV/2Zj%2ByHoX7Rmi2ng7X9Iv7f4hXt58P5LjWdSvdRvbi81G/sLldRjh06WWW6mePdb3PkPsZSSorjPHP7Y/7cPwz8M%2BKfh/4g8P%2BD9Z8f6PZ/D/AF2LUfBnw01vVrSz0bxBrNzp98G0m1vpLy9lsE0%2B9m8yGWMSo0TeVHtda7H4hftUfGrS/wBnb4ZfHz4SfFL4d%2BK9P1L4oeG/DPjm8k8B6lY/bYtT8VWGgzxWlrLqJl0u6tjdTiRLo3DLNbFGiUlgoB2/jT9mr4q/Ez9oHwn8UPHfxf8ADTeGvAPie51/wloGj%2BA5bbUheS6ZdaeFu9RfUJVnhEd7MxSK2t2crEGfarB%2BZ/Zu/ZO/at%2BA3hXxm%2BuftPeAfE3jXxhqA1O88c3HwivYLi5v/MUZvIjrria2jt1FtDbQNbLCirtYnduyvHP7deoWn7bN9%2BzlpvxA8N%2BFtD8K6noGm%2BIJ9e8A6tqkmq3%2BqBZIbVNQtp4bPRt6S28MEl35pubiZ40jzFiR37M/7UHx9%2BL/AMUPH/wr%2BJXjrwx4W8SWureL7bwL4P1X4Ma7p05sdO12ewsNXF9eaglvrts1sLKeZbJYhm%2BjHmwhl3AEfxC/YG%2BNvjH9mz4i/CHSf2lPDFj4p%2BLHjY6/4z8R3PwzuJtMiU2dra/Z9P01NWie1ythauZJLqfdIbl2UtODHY%2BNv7BHxV%2BOeu6pq3iT9ojQraHxx4M0Hw98TLe3%2BH0rNcppl7c3az6M8mpMdIeR7uUHzftuwpE6ESIXfgtV/b5/aS%2BFvgf4iar8S/EXgHXGsPjNpfw2%2BHviLw/8PNWtra5v5IIH1G5msI9Rvbi9FvLJcW8dvbvHLPcWTwgr5qyL0fxs/an/AGk9E/YcP7TfwG%2BOvwv1/WdPW6002eo/CDWII9f8QSakNO0/S0tJdahudJm%2B2vFZzRzmeRZWY7U2%2BWQD27S/gBqOm/tBeOP2i38cxz6v4k8JaZ4e8NwTaTmPQLS0a7mP/LX9%2B01zdvLIR5e5YYIznyw543wt%2BzR%2B05oHjTxh8cbz9o7wTN8Q/E%2BiaLotve23wsuoNDtbDT7i9nHmWH9sNcXFxIb%2BdTKbxAirEFQbX8zjr39unxOv7Yt1%2BzhqPxI8JeHLLwhqvh/Q/FE%2Bo/DzWL4a3q%2BpWsNysEF/DcpZ6Ksi3NvFbC7M73M7vGi5jHmch4M/4KdeOvHXhD4mfFjwjc6Bq66H4V8W6l8PvhdB4A1q31LWDo901usqay8ptNRyYwZ7Wytnltmuo4y7PGfMAO18Uf8ABOzxX4k%2BBqfCa%2B%2BJXw91PUNS8X6z4k8Q654p%2BDseqR2l/qM7ytcaJay34TSpYTI5iklN58x3yCRi5bp/Fv7GXjbXNI8D/Bbw78XNC0b4SeAtR8L3mj%2BGbfwXNJrif2FPa3FrAuqtf%2BUkTyWcSyYszIYmlQSDeGXxA/8ABWLVNM8JeJPCVh8Tvh5458S2vjjw3oHhzx94H8K6lcaBdLrFvPOHGn293dXN5Nbixv4/s9tcM1xMsMQaB3cR9v8AHP8Aaj/aa0X9ii2/aV/Z7%2BOvws8Q6wrPo9vZ6l8I9Xii1/xFPqi6XY6cls%2BtQ3GlOL2SO1nin8%2BWOQSEhShjoA6P4c/sG%2BPPht4xj1nTPjvpV3pHhKw8Tx/CfRL7wQ7DQp9auhcPJqEi3w/tOO3wYIY41tD5EjrI8khWZXv%2Bw98RNX8L/Ee98efEH4Y%2BKfFnxN1fTLnX18R/Bx7vwubexgSCGI6O%2BqmSWUqu4zyXjNuWPChI1QWvjT8U/wBrX4d/tOfCj4Z%2BFfiB8OtS0f4geJGt9S8PzfD2/XUbHSbLTZLnUr8Xw1jywPPSGGMG1IRtQgVt%2B1nab4S/Fb9qa8/bf8R/s/ePfHPw/wDEXhPw58P7fXNVuvDvgO%2B0q90%2B%2Bv76WLTrRpptWu45829lfySgRRsM2zDasmCAdZ8Ev2efDn7LP7LT/BfwxepdR2Vrq9/fXcVhHaR3F9fXFzfXckcEfyW8TXFzMUhXKxIVjBIUGs/xx/ykL%2BF//ZGfHn/p28IV6l45/wCRJ1j/ALBVx/6LavLfHH/KQv4X/wDZGfHn/p28IUAezUUUUAFFFFABRRRQAV4L%2Bx//AMm9av8A9l78c/8AqwNVr3qvBf2P/wDk3rV/%2By9%2BOf8A1YGq0AdZr/7E37GXivXb3xT4p/ZH%2BGOpanqV3JdajqOoeAdOmnup5GLySySPCWd2YlmZiSSSScmqn/DA/wCwr/0ZZ8Jf/Dc6Z/8AGK878f8A/BZT/gm58L/Het/DTx1%2B0d9h1vw7q9zpmsWX/CIaxL9nureVopY98doyPtdGG5WKnGQSOayP%2BH5v/BLL/o6L/wAsnXP/AJCrwZ43hhTalOje7vf2d79b6b3vc0/4ibiaH7pZ5OPLpb63VVraWt9YVrWtayta1lay9m0D9ib9jLwprtl4p8Lfsj/DHTdT027jutO1HT/AOnQz2s8bB45Y5EhDI6sAyspBBAIORWt%2B018E7L9pP9nTx3%2Bz3qGvy6TD438I6hob6rBAJXs/tVu8ImCEgOULhtpIDbcZGc1414B/4LKf8E3Pih470X4aeBf2jvt2t%2BItXttM0ey/4RDWIvtF1cSrFFHvktFRNzuo3MwUZySBzXuPx1%2BMPhz9n34PeI/jf4y0zUbrRvCulS6nrKaVCkk8VnEN08wV3QMscYeVhnO2NtoZsKfQwNbLa0JPByg0nryctr%2BfKlrbuTLiSpxJ%2B9njXieTS7qyq8t9bXlUqWvvZNX3t1PI/EX7E3xC8f6D8XZfHvx9tYvEnxb%2BHem%2BGb7WvCfhWbTYdNksxqIW5iikvp5GRxfgNEZgcRNiQeYNnDfBH/glNF8IvEUPiaH4k%2BELDb8XB45fQfAXwvj0DSIGHhG88OGztrVLyUwhvtQu2lZ5GZ0ZSPnDp6L8Z/8Agoh8Hfgtpfi7XNU8N6nqFj4K8W2fhvWNRHiDQdKtHv7jTYtRCQ3Gr6lZwybIJ4AwD798wVFfZIU5G1/4KO6T4p8fR3/gm4tLjwFrngz4Sa74R1WLQpJ7y6/4TDxBq2mlZke7hWOMRWdmVYAvA0kzslzhYK7iTq/gb%2BxR4h%2BAUfgS78I/Fyyub/wN8DdK%2BHVvLqHhd2hu/sckDG%2BaNLtWXesLAQhzsLg%2BY23a3WftG/ALxx8VPEHg/wCJnwf%2BJ%2BneEfGfgm9vH0rVNa8NPq9jPa3lq1vc209ql1au4P7mVWWZCslvHnehdG8w8G/8FGj8TP2ivB/gjwh8H/E1l4B8R%2BCvFmv2nizVNCWdvEMOk3GnQxz6XHZXM05jf7VK3lT26TzBoGhQgnPpP7Unxo%2BIHw90bwL4W%2BDiaRD4o%2BJPje38O6FqHifS57iy03NleahPcz2sc1vLNttbC4CxCWImRkBZRmgCn4d/ZY1jwF%2By7a/sreDPFPhfUND0zwPYaFY/8J34JbWI7yePcLu51CBbyCO7juE25gQQ7HMjb3V1RPO7P/gmvF4b/Z5f4L%2BEb34SPeat4ym8SeI5/E3wPh1HRku3gS3iOmaSL%2BKPTjbwQ20UBeS42pB84lZ2c9DpX7XXxTf9gnxr%2B0e/w7stY8ceBf8AhK9MvtE0eG4FnqGp6HqV9pss0MYMk628slkZxEDJKsb7Mu4yeT%2BCP7ZnxH%2BPXg/4maP4K/aa%2BEF1f/DDULK71D4paX4Gvb7wzqOjz6ebpmjtk1lWSWGRJ43kW9mjHkHKh2aOIAZrX/BLNbLR7T4Y/DD43x6T4Dn8E%2BEvC3iHSNa8Lf2jqkln4fuZJ7aSxvxdQrYzSmVjI7wXAEn72NY3JJ9c1L9kjwp40%2BJ/xU8efFbWX1%2Bx%2BJ3gyx8Hvo8aS2Z03QoYbsTWqTxTeZvmmv7uVpozE4DQqOYFc/KXxR/4KY/tl/Cj9m/4bfEnxd4T8IWfiTxP8HtT8d6rbw/DnWL62nkjkt3tNMmitr9m8PRm3uoxcarfSy2cEgbcQFwfdvEn7Z/j%2B8/bZ8AfAP4c%2BHNEuPBWoapfaL438QXPmyzf2wuiXGqx2di6SLH%2B4ighM8jpIrfbY0Ta8Uu0A6L9lj9hfwF%2Byb8UfiF8QvA3jnxZqVv45m00w6X4k8Zaxq/9mxWlnHbBBJqN9cGVmKFg%2BEZUKxAlEXHrng//AJBM3/YVvv8A0rlrUrL8H/8AIJm/7Ct9/wClctAGpRRRQAUUUUAFFZPjHx74G%2BHekN4g%2BIHjPSdCsEzvvdZ1GK1hX6vIyqPzr588ff8ABX//AIJ/eCNU/wCEc0n45J4u1diRBpXgTSrnV5JyOyPbo0R/77FcmJx%2BCwf8erGPq0n917/ge/kvCnE/EbayrA1q9t3TpzlFeslHkVut5q3Wx9M0V8kD/goz%2B0x8R/8Ak2//AIJd/FTWIn4hvfH13aeF4XHZwbgyFl7joSPSl/tn/gtT8S/%2BQf4L%2BBfwzs5Pvf2rqN/rF/EP9nyQIGI965P7Zw0/4MJ1P8NOVvvkoL8T6L/iG2d4b/kY4nC4Xuq2LoKS9adKWIqX8uVH1tSSSRwxtLK4VVBLMxwAPU18lD9h79vvx%2BfN%2BNP/AAVQ8SwRSfe074e%2BCbHRhCP7q3ALSN9WGaVf%2BCNn7M3iaRZPjz8U/i58UvmDSRePviTdzxu3%2B7b%2BTx7Zo%2Bu5nU/h4Vr/ABzhH8I87D/VrgfB/wC%2BZ7Gb6rD4WvV%2B6dV4aH3q3yPW/if%2B3l%2Bxf8GjJF8Sf2ofBGm3EWfMsf8AhIYJroY/6YRM0n/jteSy/wDBZn9lPxDK8PwN8DfFP4osrFVPw/8Ahve3Idh2BnEOf5V6v8Mf2Bf2Kfg2I3%2BHP7Lfgiwnix5d8/h%2BG4ul/wC28yvJ/wCPV63DDDbQrb28SxxooVERcBQOgAHQUezzur8VSnD/AAxlN/fKUV%2BAfXfC/AfwsHi8U%2B9WvSw8X/25QpVZ/wDlS/qfJn/De37bXjfj4L/8Eo/HcyP9y48eeLLDw/sH95o5d7cf3Qc0f8JF/wAFrvHvOlfDr4BeAbd/vDXNX1LVLuMf7P2YCJj9eK%2BtaKP7NxE/4uKqP05IL/yWLf4i/wBdcmw3%2B45Fg4edRV8Q/wDyrXjH/wAkXofJJ/ZJ/wCCnHxBOPin/wAFNYNBtH/1umfD74bWkDH/AHbqZjKv5UD/AII%2B/BzxX%2B8%2BPX7SPxt%2BJLP/AK%2B38V/Ei4%2BzN6hYrcR7F9g1fW1FH9iZdL%2BLFz/xznL8HK34D/4ihxlR0wNWnhV/1D0MPQf/AIFCi6nz9pfzPnjwR/wSb/4JyfD5UXQv2R/Clx5fQ65BJqZP1%2B2PLn8a9U8N/s4/s9eDY0h8IfAfwZpSR/6tNN8L2kAX6BIxiuzorro5fgMOrUqMI%2BkYr9D5/MeLuLM3k3jswr1b/wA9arL8HUt%2BBFZ2Vnp8AtbC0igiX7scMYVR%2BAqWiiuvY%2BfbcndhRRRQIK8Z/Zf/AOS3/tHf9lmsf/UK8L17NXjP7L//ACW/9o7/ALLNY/8AqFeF6APZqKKKACiiigAooooAKKKKACiiigAooooAKKKKACiiigAooooAKKKKACiiigAr4T/4KM6n/Yn/AAVm/Yg1TdjNz44tc/8AXeLRYsf%2BPV92V%2BeX/BXbU/7E/wCCkX7DuqZx/wAV1q9uT6Ca/wDD0X/s1ebm8uTL5y7OP/pdM%2B18O6H1rjDD0f54119%2BFxf%2BR%2BhtFFFekfFBRRRQAUUUUAFFFFABRRRQAUUUUAFZXh//AJC2uf8AYUT/ANJLetWs%2B98MaRf3b38guYpZABI9rfzQb8DALCN1DEDjJ5xQBoUVl/8ACH6T/wA/eq/%2BDy7/APjtH/CH6T/z96r/AODy7/8AjtAGpXlPxV/Y8%2BFXxg/aN%2BHv7Tnii/1mLXPhyLz%2Bz9PsbuNLDVDNGViN9E0bNP8AZmaSWDa6eXJIzfNxj0L/AIQ/Sf8An71X/wAHl3/8do/4Q/Sf%2BfvVf/B5d/8Ax2gD5q1D/gkl8ENY0vxD4Z1j40fEm50PW/h74z8GadoT6lpq22g6X4nmim1L7JssRI8wkhQxzXL3DLyHMgwB2vir9gnwDrPj7Vfiz4S%2BLHjfwl4s1Txnc%2BIj4i8O3dgZ7ZrnSbDSrmyjS6s5ojaywabaOyvG8iyxh0kQhQvsH/CH6T/z96r/AODy7/8AjtH/AAh%2Bk/8AP3qv/g8u/wD47QByf7OX7PHh/wDZi%2BFfhb4K%2BA/GviC%2B8N%2BEPCdloOkWOtzW0zeXbBlW5klSBJJJ3Uqrkt5ZEalUVizNy%2BgfsPfDrw78c1%2BNVn498VyW9p4k1HxJongqa6tDo2ka7f2slreapbqLYXPnyxXF2Ckk7wq15cMsStITXqn/AAh%2Bk/8AP3qv/g8u/wD47R/wh%2Bk/8/eq/wDg8u//AI7QB5D8SP2D/AnxV8aWfjXxb8WfGrPNpWiaf430%2B2n0%2BK18ax6Tdvd2R1JFs8qVnlmZ/sZtVlWVopA0QWNaFp/wTi%2BC7eKrm%2B8T%2BNPFuveF31bxJqmm/DrV7uzbRtMvteW7XVJ4fKtUu3My6hqChJriWOMXsojRBsCe2/8ACH6T/wA/eq/%2BDy7/APjtH/CH6T/z96r/AODy7/8AjtAHj/w//YcX4ZaJrR8LftT/ABP/AOEo1qz0nTpPH19JolzqtvpWmif7HpqLLpjWrQIbq6YtJbvM73MjtKzEMM3xt/wTu8MeKvgTovwF0D9o/wCJPhqz03x1H4y1PXNGbRZtQ13XI9aj1xLy7a%2B0y4iBGpRJP5cEcMeB5WzygIx7l/wh%2Bk/8/eq/%2BDy7/wDjtH/CH6T/AM/eq/8Ag8u//jtAHknjv9hPwF8Q/iBH471/4o%2BMlhvLnQbzxfoFpNp8dj4rvdGnS4sLu%2BAs/NSRJYoiwtZLeOVYUSRGjXZW34S/Zag0f44QfHrxz8b/ABr411TS7HULLwvYeJDpkdnoMF7LC9wlulhZWzyki3gjEly88iohAYF5C/oH/CH6T/z96r/4PLv/AOO0f8IfpP8Az96r/wCDy7/%2BO0AeXwfsRfDGx/Z20v8AZ50nxb4ktF0XxF/wkWmeMYri1bWYdcOoyalJqm%2BS3a3eeS6mmeQNAYnE0iNGUYrTdB/Yf%2BGGj%2BEfCXhHUPF3ibVk8MfEibx3fXmp3dsZfEWtyPdTeffiOBIyi3NyLlI4EgRJbW2CgRxmNvUv%2BEP0n/n71X/weXf/AMdo/wCEP0n/AJ%2B9V/8AB5d//HaAPLPiL%2BxB8OfiT8W5PijqHjvxTYWeo67oet%2BJvB2mXFmml6/qejzxT6dd3W%2B2e5DxPb2uVhniSRbWJZVkUEGn4P8A2DPAfgXx1L428OfFjxrDHZxa9/whmiGfTzZeEJ9Yn8%2B%2BubBfsfmPIZSzILt7mOIOyRosZ2V6/wD8IfpP/P3qv/g8u/8A47R/wh%2Bk/wDP3qv/AIPLv/47QB4%2B37Bfgm98K6rb%2BIfjD431Xxjqvimw8Qt8T76TTBrdrqFiixWbwpHYpYxxxRB4xCLXymWecujtNIzaHhz9iL4XaB4X8E%2BFbrxT4l1OLwZ8Q7zxxNcald27SeINcuTfSSXN%2BEgRGAub%2BS6SOBYUjlhg2qscQjr1D/hD9J/5%2B9V/8Hl3/wDHaP8AhD9J/wCfvVf/AAeXf/x2gDBm%2BCHhS7/aBt/2kL7UNRn1yx8HTeG9LtJZYzaWNrPdR3VzJEoTeJZ3t7QSMXKlbOEBVIYsfDL4IeFPhZ4w8c%2BPdH1DUL3VfiD4lj1nXLrUpY3Mbx2NrYw28OxF2W8cNpHtQ7jveVyxaRjW9/wh%2Bk/8/eq/%2BDy7/wDjtH/CH6T/AM/eq/8Ag8u//jtACeOf%2BRJ1j/sF3H/otq8u8cf8pC/hf/2Rnx5/6dvCFeonwZob4Wdr6ZMgmK41a5kRvZlaQqw9iCK8u8cf8pC/hf8A9kZ8ef8Ap28IUAezUUUUAFcd8ePjZ4a/Z%2B%2BHUvxE8TaRqeqbtSsdM0zRdEhjkvdU1C9uorS0tIFlkjj8ySeaNd0jpGgJd3RFZh2NeX/tb/Bvxn8Z/hhYWPw1vNMi8TeGvGGi%2BJdAj1ueSKyurjT7%2BG5NrPJFHI8STRpJD5qxyGIyCQJJs2MAZsP7bHwyX9nfVf2hdW8J%2BJdPXRNfbw/qvg%2B6s7dtYg1v%2B0E06PTNkU7wNNLdSwxxusxgcTxyCXy231h3v/BQXwZbaXZabb/A7x5c%2BN7vxzP4Sk%2BGUX9jrrFrqkOl/wBrvHLNJqK6eF/s5oroOLshkmjC5clBl%2BDv2YPiuvwJ%2BIvgf4ufDPwF4n1P4ja5qHibVdFHjO/t9PTUZ7hPIsUuk0/z4o4Le3tCuoJGJvtCNItvFhceRn/gl18QLbwKLjWvhv8ADbxzJr3xbu/Gnjb4TfELxfqeqaBfl9Ch0e1WTVr6xu7q%2Bnt1tYbnzbm1YSSyy4WLZCyAH2L8EPjB4P8A2gfg94Y%2BOHw/a6OieLNDttV0v7db%2BVMIJ4xIodMnawBwcEjI4JGCfLf2P/8Ak3rV/wDsvXjn/wBWBqtdP8A/2eNX8B/si%2BF/2bPir431HVLvS/C9vpmq6voOu31hNlFHyW93DKl1GsYAjSTzFlKICxyTXM/8E9/B%2BiaL%2BzHqPgiE3tzYWXxa%2BIVrC2qapcXty6R%2BNNaCtJc3DvNNJwCZZHaRm%2BYsTzQB71RWV/wh%2Bk/8/eqf%2BDy7/wDjtL/wh%2Bk/8/eq/wDg8u//AI7QBqVU17QtH8UaHe%2BGfEWmxXmn6jaSWt9Z3Cbo54ZFKPGw7qykgj0NVv8AhD9J/wCfvVf/AAeXf/x2j/hD9J/5%2B9V/8Hl3/wDHaAPn7wT/AMEwfhR8NPhH4D%2BGHw8%2BNXxH0rUPh9rep6ppfjldT0%2B51u8lv0miuhdSXNlJBJuim8pXWFJY0hiEbptJNjwN/wAExPgH8P8Aw14e8K6J4t8YSW3hrw18PNDsGu9Stnke28G6rd6ppbSN9nG6SWe8lW4bgOioIxCwLt7z/wAIfpP/AD96r/4PLv8A%2BO0f8IfpP/P3qv8A4PLv/wCO0AeIfDb/AIJ3eBfhT8RNL%2BIHhL46/ERV8L%2BG9d0LwHoVxeabJYeFrPVZraaZLRDY75TE9pB5JunuNipsO5Plr0j45/APRPjv4N0vw5q/jTXdE1TQNatdY8PeLNAe1XUdM1CAMq3MQnglt2LRyTROkkLxvHNIpTB46f8A4Q/Sf%2BfvVf8AweXf/wAdo/4Q/Sf%2BfvVf/B5d/wDx2gDi/ht%2BzbYfCL4YQ/Cv4e/FXxVYWqadq63Gok2E15dapqV015ca1I8toym9%2B0y3EwAUWxe5k3QOBGE5m5/YV8Aa78FfiD8HfHfxP8ZeI5viq23x/wCLtUubGPVNWt/IitjaH7NaRW0FubWL7P5cMEY2SysMSyPKfWv%2BEP0n/n71X/weXf8A8do/4Q/Sf%2BfvVf8AweXf/wAdoA8r/aL/AGI/BH7ROvS%2BIZvij4y8Hzah4OufCfiNPB11ZRprehzvvexnF1azmIAmTbNbGGdBNJtlGRinq/8AwTY/Yl1L43eDf2iNP/Zy8HaV4t8Fa1JqtlrOl%2BE9Pjub%2B5a0ktUa7nNuZpjGJBKjbwyyxRvuO3B9g/4Q/Sf%2BfvVf/B5d/wDx2j/hD9J/5%2B9V/wDB5d//AB2gDUrK8H/8gmb/ALCl9/6Vy1578fvj/wDstfst6EPEPx%2B%2BNsHhmF0LwW994mumubkDr5NukjSzf8ARq8R0/wDb5/aU%2BPVrHo3/AAT9/Yg1q90hhi3%2BIHxTkbRNH2nkTRQkm4vEJOSUKtnORXBiMzwWGqezlK8/5Ypyl/4DG7Xq%2BVeZ9dk3A3E%2BeYT67Roezw2zr1pRo0F3/e1XCMmv5aaqy/un2LXkv7QH7dv7If7LySRfG/4%2BeH9HvYxk6Ol19p1A%2BmLWAPNz67Me9eOH9g39sn9oH/Sf20f2%2BNch06bmfwR8HLUaJYKO8T3bA3FzGehDqDjv6etfs/8A/BP79jn9mJ4774O/APQrHU4zu/t69gN7qJbqW%2B1XBeVcnkhWAz2rn%2BsZtif4NFU13qO7/wDAIN/%2BTTR6v9j%2BH2S65jmE8ZUX/LvCQ5YejxOIjFNedLDy8nseSj/gob%2B0/wDHg/Zv2Jv2A/FmqWMvEXjT4nzp4e0zb2miicma6j/3NrdeOKcv7JP/AAUj%2BO5%2B1ftLft9R%2BCLGUfvPC/wP0T7H5eeu3UrnNwCBxjaR3r67oo/sudbXFV5z8k%2BSP3Qs385sP9fMPlvu5DlmHwttpzj9ar%2BvtMSpwi/%2BveHjbofLng7/AII6/sMaHq6%2BKviF4E1n4ja4Pv638SPEt1qs0v8Avo7iFsn1jr6E8AfCr4X/AAo0saH8LvhxoPhuyAA%2ByaDpENnFgdPliVRW/RXXhsvwOD1oUoxfdJX%2B/Vv5s%2Bezri/iriNKOaY6tWitozqScF6QTjTil0UaaS6WCiiiuw%2BdCiiigAoqOa6tbYgXFzHHnpvcDP51m%2BIfHngbwjp51bxZ4z0nS7VfvXOo6jFBGP8AgTsBScoxV27EynCCvJ2NaivE/En/AAUi/YF8J3b2Gs/thfDwTR/fS18UW9wVPofKZsH261yXiL/gsZ/wTS8LwmfUf2r9EmA/h03T728Y/hBA5rhnmuV0/jrwX/b8f/kjzqmd5LRvz4mmrf34f/JH0zRXySf%2BCyX7OfiD5fg98FvjP8Qmb/VDwb8MLubzPTHn%2BVxR/wAN9/tq%2BM%2BPg5/wSe%2BIFyr/AOrl8b%2BKtP0DaPVlm3n8OtY/23lj%2BCfP/hjOX/pMGvxOf/WPJ5fw6jn/AIITn/6TBr8T62or5JHxf/4LLakPtln%2Bx98I9NjflbPUfH8000fszxLsP4Uv/C1v%2BCzUPzSfsn/ByYf3YfHVyp/8eWj%2B16X/AD6q/wDguX%2BYf27Q/wCfFb/wTP8AzPrWivkr/hf/APwV90r57/8A4J9%2BAtWH9zS/itFAT%2BMyYoH7WP8AwVZuP3EP/BJext3HBnuPjxpLo3uFWLOKP7Ywy3hUX/cKp%2BiYf2/hFvTqr/uDV/SL/M%2BtaK%2BSv%2BF2f8Fi9f8Ak0n9iL4YaAT0fXfiSboD6i2QGj%2Bz/wDgt94p4uvEP7N3hWBuhsbTWr64X6%2BZiM/hR/a0H8FCq/8AuG1/6VKIf25CX8PD1pf9wmv/AEqUT61rxn9l/wD5Lf8AtHf9lmsf/UK8L15h/wAKa/4LIWo86D9s34U3THkw3Pw7kRFPoCj5I9zzXRf8E69O%2BNWk638edP8A2iPEehav4xj%2BM0H9saj4as5ILKbPhHw2YvLjk%2BZcQmINnqwYjgiujDYyeIm4yozh5ySt6aSevyOrCY%2BpiqjhLD1Kel7yUUvS6nLX5fM%2Bk6KKK7T0QooooAKKKKACiiigAooooAKKKKACiiigAooooAKKKKACiiigDmPjRofi3xH8Ldb0jwL8StS8H6rJZl7TxHpFlaXFzZFGDsY47yGaBmZVZP3kbgb84JArwFP2mvjLbf8ABJfwH%2B0iviWCXx74r%2BG/g9p/EF1p8XlwanrA0%2B2k1BoEVYiI5bxrgxBVj%2BTbgLxX0V8Rvh/4f%2BKngnUPh94qudXh07VIRFdyaD4hvdKuwoYNiO7sZYriEkgAmORSQSpyCQeC8EfsSfs5%2BAPgi37N%2BjeGtdvPA58Mv4fXw54h8daxq0EemkBRAn267lZAigLGykNEqqsbKoAABm/sieNfiXd%2BK/ix8FPib8Rr7xlN8N/Hltpel%2BK9VsbO3vb60utE0zU1S6Wxggt/OjkvZY8xQxgxLCSu4szfF3/BZD4neG/EX7av7PVvpOm%2BIYbz4f69e3l/car4R1GwtHJ13wsga2urmCOC9UZOWt3kC5XcRuXP6G/Bj4F/DT4AeGrrwr8MtKvoYdQ1OTUdUvNX1281S%2B1C7dERp7m8vppri5k8uKKMNLIxVIo0GFRVHwn/AMF6/wDQb/wR4s6f2D4E1zUN393b4r8Dpn/yJXk57pk1d9ot/c4v9D9A8KdfEnKofz1ow/8ABkatP/3Ifo1RRRXrH5%2BFFFFABRRRQAUUUUAFFFFABRRRQAUUUUAFFFFABRRRQAUUUUAFFFFABRRRQAUUUUAFFFFABRRRQAUUUUAFFFFABRRRQAV4z44/5SF/C/8A7Iz48/8ATt4Qr2avGfHH/KQv4X/9kZ8ef%2BnbwhQB7NRRRQAUUUUAFFFFABXjP7B//JENc/7LN8R//U11uvZq8Z/YP/5Ihrn/AGWb4j/%2BprrdAHs1FFFABRRRQAUUUUAFFFFABRWD8S/ij8Ovg14MvfiJ8VvGum%2BH9D0%2BPfeanqt2sMUfoMseWJ4CjLMcAAk4r5PuP2sv2vP29p5PDn7AHg1/A3w/lcxXfxx8c6YytdR5wW0mwcBpj1xLIAvUERsAa4cXmGHwklTd5Te0I6yfy6L%2B9JqK79D6rh/g/N%2BIKM8XHlo4Wm7VMRVfJRg97czTc5taqlSjUqy6QS95e2ftTft0/s%2BfsjQWenfEbX7rUfEurEJoHgfwzaG%2B1nVXY4VYbZDnBOQHcqhIwGzxXjar/wAFSP20zueSy/Zq8BXHRVCan4tvoj69IrHcPpLGf7wrpPh58Cv2GP8AgmVpF38Yfi78UrE%2BL9XVn1v4lfEXWVn1rV5CPnWIuS%2BD08qBckAbt5Gawl/4KZ/Fb4/3H2L/AIJ/fsY%2BK/iBYFsf8J14sf8A4R7QWX%2B/DJcL5lz/ALoVGGQcGvGxFeVSfLjq3JfalSbcmv70opzfny8kf7z3OzG8b8CcE1FhskoxxWKX/L%2BvT9pK/ehg1zwhFfZniFVqPRuMNl3/AMAP%2BCZf7JfwA14%2BP4fBVz4x8ZyuJbrx18QL06vqs0o/5aiSYbYn/wBqNEPqTX0BXyS/ij/gtr4pUw6V8Lf2e/CyycGbWNb1W9khB/iAgAViOwPGaj/4YG/bN%2BMX739qf/gpb4yFrL/rfD/wm0q38Owxr3j%2B0qHlmQ996gkHFdWHxEMPT9ngsHNLzjGmvVuUm362bPhM6434j4nxf1nGRxGIqWspVWoJLolzytGK6RhTjFdIo%2BkPid8dPgr8FNP/ALV%2BMPxb8NeFrcruSXxBrcFoHH%2Bz5rruPsMk18%2B67/wWX/Yn/taTw78JtT8X/EzUoTiex%2BHPgq81Bk9PnZEjYe6sa3Phh/wST/YB%2BGOo/wDCQN8ALDxRrDtvudZ8dXMutTzv/fYXbPGG91QV9B%2BH/Dfh3wnpUWheFdBstMsYRiGz0%2B1SGKMf7KIAB%2BArflzutu6dNeSlUf3vkj%2BDPI5eIsRvKlRXkpVZfe3Th%2BDPlb/h518VfEf/ACTX/gl/%2B0Fe7v8AVv4i8MwaQje%2BZZWwPej/AIa4/wCCofir5PBn/BKyHSom%2B5feKfjBpyAf70EUe8fnX1tRT%2BoY%2BXx4uX/bsacf/bZD/szM5/xMdP8A7dhSj/7bNnyT/aH/AAW58Z/8evh/9nbwXbv977bdavqN3H9PLxEfxpR%2BzH/wVl8VfvvE3/BTXw74az9618LfB2yul%2BgkupAw%2BtfWtFH9k05fxK1WXrUkv/SVEP7CpT/i160vWrJf%2BkKB8lf8MDfttaj8/iL/AIK0eP5X7nTfBum2a/kuaP8Ah27%2B0Nf/ALrXv%2BCqPxskiP3xp9xaWjn6MsZIr61oo/sXL%2Bqk/WpU/wDkw/1eyt7qb9atV/8AuQ%2BSh/wSV0a9PneI/wDgoD%2B09qU56yz/ABaZQvsqrAAo9qD/AMEfvhLffuPE/wC1h%2B0Jrdofv2Gq/Fed4X%2BoWNT%2BtfWtFH9h5T1pJ%2Brm/wA5sP8AVzI%2BtBP1c3%2BdRnydB/wRB/4JpvmfxB8BL3Wbp/8AWX2reNdXkmf6kXSj8hWjoH/BGH/gmR4a1BdS079lLS5JF6LqGtajdx/jHPcuh/EV9QUU1kmTRd1hqf8A4BH/ACKjw5w/F3WEpX/wR/VM818M/sZ/sh%2BDbNbHwr%2By38PLCJegtfBlkpJ9SRFkn3JzXW%2BHvhf8NPCU4uvCnw70LTJB0k0/SIYWH4oordoruhhsPS%2BCEV6JL8kj0aeEwlG3s6cY27RivyigooorY6AooooAKKKKACiiigArxn9l/wD5Lf8AtHf9lmsf/UK8L17NXjP7L/8AyW/9o7/ss1j/AOoV4XoA9mooooAKKKKACiiigAooooAKKKKACiiigAooooAKKKKACiiigAooooAKKKKACvz5/wCC62j/ANueFJrLZu2fAbxdcYx/zy8T%2BBpc/wDjlfoNXxH/AMFdNH/txtRstudn7LnxLuMf9cdS8Iy/%2ByV52bw9plOIj3hP/wBJkfY%2BHeJ%2Bp%2BIOUV/5cVh3/wCV6X%2BZ9keBtY/4SHwVo%2Bv79327S7e43eu%2BNWz%2BtalcD%2BynrH/CQ/su/DbXw%2B77d4B0e43eu%2ByhbP6131dlCftKEJ90n96T/U%2BdzXDfU80xGH/kqVI/%2BAznH/20KKKK1OAKKKKACiiigAooooAKKKKACiiigAooooAKKKKACiiigAooooAKKKKACiiigAooooAKKKKACiiigAooooAKKKKACvGfHH/KQv4X/wDZGfHn/p28IV7NXjPjj/lIX8L/APsjPjz/ANO3hCgD2aiiigArzD9rb4yeMvgx8MLC%2B%2BGtnpkviXxJ4w0Xw1oEmtwSS2Vrcahfw2xup44pI3ljhjkkm8pZIzKYhGHj3719Prjfjx8EvDX7QPw6l%2BHfibWNT0vbqVjqel61ok0cd7peoWV1Fd2l3A0scke%2BOeGNtsiPG4BR0dGZSAeJ3/7Y/wAZ/DP7IfxE%2BJGu%2BHvD1745%2BG/jebwtrd9YabdJowC31tF/bLW3nSTpaw2V3HfTwCZmQQzRiY4EteYR/wDBVvXdQ8JjwV4V8eeC/EPid/jLP4Gs/iD4U8C6trGi6jBF4dh8QNqFlo9hdTXl6fKuEtPJhumBkSWfzfKQrX0v8Of2WB8Kfh7q3gbwX8evHEF1rkl5e6l4mlXSZdQm1a6unuJ9VJewMPnkuIxF5X2VIoo0SBQtYJ/YM8EReF7SPT/jB43tfGlp43m8XN8Uo5NMfXLjV5rBtNlnkWSxaxZW09haCH7IIkiii2IrRo6gHbfD/wCOPgO6/Z10f49eNvjN4TuNCl0CG/1Lxvb/APEq0iRSo33AW6mkNpGWz%2B7llZoz8jMWBrif%2BCdPifw141/ZuvvGHg3xDY6vpGqfFv4h3emappl2lxbXcEnjPWmjlilQlZEZSGDKSCCCDXpXwR%2BD3hH4A/CrRfhB4Fa8fTdEtjHFcajcedc3Mju0ks8z4AaWSV3kcgAFnOAowBwf7B//ACRDXP8Ass3xH/8AU11ugD2aiiigAooooAKKK5n4vfGX4W/APwDffFD4yeOdP8O6DpybrrUdRm2oCeiKBlpHboqKCzHgAmpnOFODnN2S1beiRFSpTpU3ObSitW27JLu29EdNXzB%2B13/wUx8CfAzxJP8AA/4H6FF8QfieIS0%2BhW2oRwafoCcA3Oq3rkRWcS5BKswY5UHYHVq8Y8Sfteftjf8ABUv7b8Nf%2BCdfh69%2BHnw1EzWviD42%2BKI2t7i6XO14tNhX5w2A3zKd4yoZrY4LdJ%2Bz1/wQP/Y5%2BFFtHd/F7U/EHxN1A3H2q4TxBftb6c9zjBlFpAw3k5OfOeXOa%2BbxGY5lmS5Mqh7j3qy0X/biabl/i5eXtzbnp5LnOS4KTxFfAzxdRawpzboYdvdSqzt7ecNn7OhTg5q160Yu78D0z4qfBv4ufFaHxt%2B0Pr/iP9rz4qWEnmaR8NvhXocs3gvws56YdwIJxxg3D%2BYCANysVD19NweDP%2BCtP7Ttulv4m8YeEP2cfCciBV0jwxEmu%2BIRFj/VtcNi2h4wA8WGX04xX1X4G%2BH3gP4YeHIPB/w28FaT4f0m2GLfTNF06O1t4/8AdjjUKPyrYrTCZFOnF%2B2qv3tZKF48z/vTbdSXzlFdopaHHxBmvFPGNaE87xjdOCtToUIqhQpR/kpwhqo97NSk9ZznJtnzh8F/%2BCVf7Inwo8Rj4i%2BLPCuofEjxm5D3HjL4n6i2s30jjkMBN%2B6jIOSGWMMP7xr6OjjSJBFEgVVACqowAPSlor2cNg8Lg4ctCCivJb%2Br3b822zgwmAwWAp8mGpqC62W/m3q2/NtvzCiiiuk6wooooAKKKKACiiigAooooAKKKKACiiigAooooAKKKKACiiigAooooAKKKKACvGf2X/8Akt/7R3/ZZrH/ANQrwvXs1eM/sv8A/Jb/ANo7/ss1j/6hXhegD2aiiigAooooAKKKKACiiigAooooAKKKKACiiigAooooAKKKKACiiigDyL9vr4heNPhR%2BxR8U/iR8PNZk0zWdF8DajdWWrwxhn00rA268UMCpMC7phuBXMfIIyK8i8HeMr74EeGv2ovBmhfGfxZc%2BE/hr4bg1bQvE%2BuaxdeJ9R0K5l0Bru6iSa9mkmu/LCQXiQSSNze7VKxtGq/Wt7ZWepWcunajaRXFvcRNHPBNGHSRGGGVlPBBBIIPBBrkfAH7OX7PXwo0iz0D4W/AjwZ4asNPa6awstA8L2lnDbG5Ci4MaQxqqGUIgkwBvCLuzgUAfNf/AATA1L416F8S/HXwq%2BN%2BvX5v7f4f%2BC/EFrozfFDUPGVpGt8uqxyX6alqIWeGa5ks2D2KKbaFbWKSGSX7RIVpftx654k%2BIPxv8S/D/VvhB4h0S0tf2U/irbadruq3OnPaa15s3hkF7Vba7lnQIQM/aIoD867Q3OPqn4T/AAI%2BB/wF0q70L4GfBrwp4Lsb%2B5%2B031n4T8O22nRXE20L5kiW6IHfaANxBOABXkP7TOj/APCQ/tX%2BGNAK7vt37O3xKt9vrvv/AAmv9awxUPaYapDvGS%2B%2BLX6nqZHifqed4TEfyVaUv/AatOX/ALadF/wTm1j%2B3P2B/g1fbt234aaNAT7xWccR/wDQK9nr5u/4JCax/bn/AATZ%2BEt7uzs8Ovb5/wCuN1NF/wCyV9I1z5VP2mV0Jd4Q/wDSYnsce4b6nx3m1D%2BXFYhf%2BV6v%2BYUUUV3nyYUUUUAFFFFABRRRQAUUUUAFFFFABRRRQAUUUUAFFFFABRRRQAUUUUAFFFFABRRRQAUUUUAFFFFABRRRQAUUUUAFeM%2BOP%2BUhfwv/AOyM%2BPP/AE7eEK9mrxnxx/ykL%2BF//ZGfHn/p28IUAezUUUUAFFFFABRRRQAV4z%2Bwf/yRDXP%2ByzfEf/1Ndbr2avGf2D/%2BSIa5/wBlm%2BI//qa63QB7NRRRQAUUV4J/wUG/b9%2BFv7Anwdk8c%2BLimpeItSWSHwl4WjmCzalcKOWY9Y4I8gySkYUEAZZlU4YrE0MHh5V60uWMVdt/19y6syrVoUKfPLyWibbbaSSSTcpSbUYxScpSaSTbSE/4KBf8FB/g9/wT/wDhM3jXx1KupeIdRR4/C3hO3nC3GpzAcsTg%2BVAhILykEDIADMyqfjf9n39g/wDaq/4Kl%2BPtO/az/wCCm%2Bu3umeCI2Fx4P8AhdZl7RJYWwQTFndbQsMZZibiYdWRQhNj/gnP%2BwL8Wv2y/i2n/BSz/got5mq3Woul34G8JX8JWAQg7oJ2gbIjtUzmGE/fP7185Bf9PK%2BZw%2BFxHEc1isanHD7wpbc3adTvfeMNrau5708vhkEk8dCM8cteR2nDC9k170KuLW85PnpYV/u6camIjUrUs/wr4U8MeBfDdj4O8F%2BH7PStJ022W30/TdPtlhgtolGFREUAKoHYCtCiivrElFWSsjyalSpVqOc23JttttttvVtt3bbbbbbbb3YUUUUyAooooAKKKKACiiigAooooAKKKKACiiigAooooAKKKKACiiigAooooAKKKKACiiigAooooAK8Z/Zf/wCS3/tHf9lmsf8A1CvC9ezV4z%2By/wD8lv8A2jv%2ByzWP/qFeF6APZqKKKACiiigAooooAKKKKACiiigAooooAKKKKACiiigAooooAKKKKACiiigArxfx/DHc/wDBQT4ZW8y7kk%2BC/j1XU9wdW8IA17RXjPjj/lIX8L/%2ByM%2BPP/Tt4QoBNp3R5n/wRDmlT/gmx4G0G4YmXR9Q1yxlJ65TV7wgfkwr6yr5L/4I2f6D%2BzP4s8J9P7B%2BMPifT9v93beb8f8AkSvrSvKyL/kTYddoJfddfofoHisk/EvOJr7eIqT/APBnLU/9yBRRRXqn5%2BFFFFABRRRQAUUUUAFFFFABRRRQAUUUUAFFFFABRRRQAUUUUAFFFFABRRRQAUUUUAFFFFABRRRQAUUUUAFFFFABXjPjj/lIX8L/APsjPjz/ANO3hCvZq8Z8cf8AKQv4X/8AZGfHn/p28IUAezUUUUAFeIft/eJPEWhfBPRtI0TxXqWgWniT4l%2BFfD%2Bv65o%2BoSWd1Z6dfa1aW1wIrmJle2eZZPswmRleP7RuRkcKw9vrN8Y%2BDPB/xE8LX/gf4geFNN13RNUtmt9T0fWLGO6tbyFhho5YpAUkQjqrAg0AfKfhCL9oHxx%2Bxr8V/hf8F/H%2BvarqPhf4r6loHhLWb3xVJ/auo6La6pbtd2EeqXDmT7WIjf6bFdyyeYkkUbPLvRpK8Q8S/tS/Hrw1%2Bzp8Xfg/aeGPjN4c0mL4p6poOjeJ7WPVvGWueFNCt/DemahdxTalpZ1CQXb6hc3VpHcNcOLTzZMT77EIfvi3/Zr/AGc7TwW/w3tfgD4Ki8OyaH/YsmgR%2BFbNbJtN8xpPsRgEflm33u7%2BVjZudjjJJrX8JfCz4Y%2BAfAUPwq8CfDnQdF8L29tJbQeG9J0iG2sI4XLF41t41EYRizZULg7jnqaAPO/2Wfi1rvif9hX4efF6y8MeK/FuqXXw60q6l06aD7Jq2qXH2WISEjVZLYeY77n3zOgcHeGIYE5v/BOnVr/Xv2br7W9V8MX2iXN58W/iHNcaPqckD3Ni7eM9aJhla3llhLoTtJjkdMg7WYYJ9r0XRdH8N6PaeHfDuk21hp9hbR21jY2UCxQ20KKFSONFAVEVQAFAAAAAryL9g/8A5Ihrn/ZZviP/AOprrdAHs1FFeXftk/tP%2BGP2QP2ede%2BN/iK2N5cWUIt9C0dMmTVNSlOy2tUA%2BYl5CM7QSqB2wdtZVq1LD0ZVajtGKbb8kY4jEUcJh51qrtGKbb7Jav8Ar0XUxf23P25/hN%2BxB8OV8T%2BNC%2Bq%2BIdU3xeFPB9hIPtmr3AGTjr5cK8GSZhtQf3mKq3wH%2BwF%2ByF8Wf%2BCof7Qlz/wUJ/bjH2/wnb3u3wxoMsZFpqjQyHZBDG3TToGzxz58oYuW/eZW3/ZX%2BI37VH7TVr8D/ix4xufEHxP8Q6Xbaz%2B0R4wiwsPgjQpMSQeFNNAJW3lmDbZGU7iuT8yNMG/Vfwr4W8O%2BB/DOn%2BDPCGjW%2BnaVpNlFZ6bYWsYSK2gjUIkagdFVQAB7V8lRoV%2BI8f7bFK2HpP3YfzT/AL/R8ul1qlJ8urU2fZ5fg63CeVYfOsbHlzLEx58NTe%2BDw8k1HETX/QXiE5ewv/u1C9WP7%2BtCpTvIiRoI41CqowqgYAFLRRX2R8kFFFFABRRRQAUUUUAFFFFABRRRQAUUUUAFFFFABRRRQAUUUUAFFFFABRRRQAUUUUAFFFFABRRRQAUUUUAFeM/sv/8AJb/2jv8Ass1j/wCoV4Xr2avGf2X/APkt/wC0d/2Wax/9QrwvQB7NRRRQAUUUUAFFFFABRRRQAUUUUAFFFFABRRRQAUUUUAFFFFABRRRQB5F%2B318QvGnwo/Yo%2BKfxI%2BHmsyaZrOi%2BBtRurLV4Ywz6aVgbdeKGBUmBd0w3ArmPkEZFeU/Drxj45%2BBGm/tM%2BDPhP4n8ReNdP%2BGuhWureCU8VeJLzXrqPVJdBN3Jpxu7uWW4mQultcCN5GK/2gQu1DGq/V17ZWepWcunajaRXFvcRNHPBNGHSRGGGVlPBBBIIPBBrlPhz%2Bzz8Afg9p9hpPwj%2BB3g/wALWuly3MmmW3hzwza2Mdo9wFFw0SwxqIzKETeVwX2LuzgUAfPv/BM7x9rFzPqPw5%2BINn4ll8VXfw98MeMrvWtX%2BLd94qt9Us9TF8kNwEuAkOlXDS2lw0lpZxi1AMXkvIqYj6u/8aeJPEP/AAU28F%2BHdW%2BEfiHQrPSfg944Sw17VbnTntNaDat4Sy9sttdyzoE2jP2iKA/ONob5sevfC/4G/BT4IW2oWXwX%2BD/hbwhDq14bvVYvC/h%2B209by4IwZpRAiiR8fxNk%2B9cF44/5SF/C/wD7Iz48/wDTt4QoA8x/4JRf8S1/2jPCbcf2b%2B094pMK/wB2GT7M6f1r60r5L/4J1f8AEp/ad/ar8J9PJ%2BL8eobf%2BvqyR8/jtr60ryck0yyEezmvuqVD9A8Ufe44xFX/AJ%2BQw8//AAPCYR/owooor1j8/CiiigAooooAKKKKACiiigAooooAKKKKACiiigAooooAKKKKACiiigAooooAKKKKACiiigAooooAKKKKACiiigArxnxx/wApC/hf/wBkZ8ef%2BnbwhXs1eM%2BOP%2BUhfwv/AOyM%2BPP/AE7eEKAPZqKKKACiis3xh4y8IfDzwvf%2BOPH/AIr03Q9F0u2a41PWNYvo7a1s4VGWkllkISNAOrMQBQBpUVzmmfGH4R618Mh8a9H%2BKXhy78GnT3vx4tttct5NMNogJe4%2B1K5i8pQrZfdtG05PFc7q37X/AOyXoPw2034y65%2B1F8OrLwfrF01tpHiu78bWEem306lg0UN00oilcFHBVWJGxuODQB6LXjP7B/8AyRDXP%2ByzfEf/ANTXW69hsL%2Bx1Wxh1TS72K5trmJZbe4t5A8csbAFXVhwykEEEcEGvHv2D/8AkiGuf9lm%2BI//AKmut0AezV%2BZX7ZX7U1v8XPjzrPx8stO/tzwN8BtbXw78LNBVTJH4z%2BJVyNkZRR/ro7LO/A5ym5CRIRX1p/wUs/aL8Sfs%2B/szXdn8MA83j/x3qEHhT4fWcDYlk1S9JjWRfQxJvlBPG5EB%2B9XzT/wTp/Zx8L/ABS%2BN2jXmgiO9%2BFH7NUEmgeDbpU/c%2BJvGMgD6rrXPEipIxWMnIGYmQjawr5TPMRVxeLp5dQers367q/lFJ1GurVNdT2OFMnwGfcQTr5pHmy7LoxxOJW3tZ81sLhU%2B9eqk5W1VKFSWyufU/7Av7KMv7KnwRXT/GWpHVvH/iu8bXfiR4jmcPLqOrz/ADyjf3jjJMaAYGAWwC7V7hRRX0mGw9LCYeNGkrRirL/g923dt9W2zPO84zDiDNq2ZY2XNVqycpPZa7KKWkYxioxhFWUYRjFJJBRRRW55YUUUUAFFFFABRRRQAUUUUAFFFFABRRRQAUUUUAFFFFABRRRQAUUUUAFFFFABRRRQAUUUUAFFFFABRRRQAV4z%2By//AMlv/aO/7LNY/wDqFeF69mrxn9l//kt/7R3/AGWax/8AUK8L0AezUUUUAFFFFABRRRQAUUUUAFFFFABRRRQAUUUUAFFFFABRRRQAUUUUAFFFFABXg/xM8U6Ro3/BSr4N%2BHdQuBHPrHwb%2BISWAY/6ySPU/CEjIPfYHb6Ia94r8/8A/gq98QdS%2BCv/AAUR/ZA%2BONsWTT/D9z4qt/EM4bCwadf3Xh3T5pX9Qv2lfxIrlxuJWEw0qz2ja/pzRT%2B5O/yOLMMWsDg5Yh7Rtf0copv5KV/kemfsbf8AEo/4KY/tc%2BGjwr3ngvUIR/e87SJd5/76AFfWlfJfwM/4k3/BYP466b0/tr4ceGNQx/e8kPBn9cV9aVx5Nphpx7VKq/8AKjf6n6b4k%2B/nmFrfz4PAy/8ALSnB/jTYUUUV6x%2BfhRRRQAUUUUAFFFFABRRRQAUUUUAFFFFABRRRQAUUUUAFFFFABRRRQAUUUUAFFFFABRRRQAUUUUAFFFFABRRRQAV4z44/5SF/C/8A7Iz48/8ATt4Qr2avGfHH/KQv4X/9kZ8ef%2BnbwhQB7NRRRQAV4h%2B394b8Ra78E9G1bRPCmpa/aeG/iX4V1/xBoej6dJeXV5ptjrVpc3BitolaS5eFY/tIhRWkk%2Bz7UV3Kqfb6KAPi7w18PbT4k/sn/Fvw94v0Lx14R07xP8S7/wAeeE7b/hWWqXV3Z2sWswXdrK%2Bmi38yZri9s3vJNOwty8N2Q8cbSHHI%2BDvih%2B0j%2Bz58HviV8XdU%2BGPinxZ4p%2BMnxreTwJqFv8Dtbjt9Asm0DS7CfV73RLeO6v7C0EunXUi20p8%2B5Z4Q7Rm5eSL7/ooA8s%2BAfw0Hw0/Y68FfCD9nnxLPYR%2BHvA2m6T4W1Xx54UuzKkdvbRxRyXmnO9lOrlUy0JaBlJxhQNtc9/wTpt/Etp%2BzdfWvjLVrG/1eP4t/ENdTvtM057S2uJx4z1rzJIoHmmaFC2SEaWQqCAXbGT7pXzv%2Bzb44h%2BGP7HHxE%2BJNyyiPw98RPipqchboFg8Xa9Kc/wDfFTOUYQcpbJX%2B7X9CKk404Octkm36JNv8j5F/bu%2BP2rfFH46fEX49eFPMvNJ%2BCFmfh78KYLc5/tLx9rGILieHs0lpCx%2BU9HhRlPNfff7If7Pui/ssfs0%2BDPgJokcWPDmhwwX00K4W4vGG%2B5m/4HM0j/8AAq/O7/gnZ8Ph8Z/G/wCzr8CpYTcaV8M/C1x8WfiDcv8AMb/xBqk8jaWJmPJmjheOdSeqcZ4r9WK%2BV4cpyxVWrmFTeWnzdpSt5K8If9uPufWypzyLw5yzL56V8e3mOI7r2sfZ4Sm/Knhoymk%2Btbmt7wUUUV9YfKhRRRQAUUUUAFFFFABRRRQAUUUUAFFFFABRRRQAUUUUAFFFFABRRRQAUUUUAFFFFABRRRQAUUUUAFFFFABRRRQAV4z%2By/8A8lv/AGjv%2ByzWP/qFeF69mrxn9l//AJLf%2B0d/2Wax/wDUK8L0AezUUUUAFFFFABRRRQAUUUUAFFFFABRRRQAUUUUAFFFFABRRRQAUUUUAePf8FBz45H7DnxYPw3/tP%2B2P%2BEC1P7P/AGJv%2B3bPs7%2Bb9m8v5/P8rzPL2fPv27fmxXhv7I3xD%2BE/ga6%2BO3/DAOi%2BEfEPg9oba8%2BEfgvwjrNlZaVr%2Bv2%2Bixvf22mvvW3WNnbTknkjPlxzyTNIRJ5tfadFAHxN/wAEj7Tx54d%2BKf7RXhf4i/CXxnoeuSeP9H1TxJq/jC60h5dR1a58OaY9023TtRvFjy/71IwxiigmgiRsxtHHi/8ABSv4T/Fn9o/4qax8IvFngHw/a6ef2dvH934FvdI8TT3l7qNza6t4Ruo/tFu9lClm3mwQqBHNcbg7ZK4w33nXjPjoBv8AgoT8L1YAg/Bjx5kH/sLeEKxxNCGKw86M9pJp/NNfqc%2BLw1PGYSph6nwzi4v0aa/X8D5X%2BCfx5ksP2qvgB%2B234luEm8O/tBfCO18D6xqB%2B7p3ia3k85FZuhE0yyQKOu5WJwBX6HV%2BcPwR/Zob4wfsmftC/wDBNu1uPsfiD4S/E%2B9vfhtOsnlvp6TsdR0iVW6x7389WYdElbFfXf7BP7TH/DWX7Lfhr4s6nB9m14QNp3i7T2TY9nq9sfKuo2TqmXXzFU8hJEr57IMRUg/ZVd6i51/iT5KsflOKl6SPualefFnhrleev%2BPhIxwWJX%2BD2jw9T0lFVqMn/PTj1kex0UUV9OfHBRRRQAUUUUAFFFFABRRRQAUUUUAFFFFABRRRQAUUUUAFFFFABRRRQAUUUUAFFFFABRRRQAUUUUAFFFFABRRRQAV4z44/5SF/C/8A7Iz48/8ATt4Qr2avGfHH/KQv4X/9kZ8ef%2BnbwhQB7NRRRQAUUVx3x4%2BNnhr9n74dS/ETxNpGp6pu1Kx0zTNF0SGOS91TUL26itLS0gWWSOPzJJ5o13SOkaAl3dEVmAB2NFeOw/tsfDJf2d9V/aF1bwn4l09dE19vD%2Bq%2BD7qzt21iDW/7QTTo9M2RTvA00t1LDHG6zGBxPHIJfLbfWPc/t%2B%2BD49DhtLL4HePbzxzJ41m8Ky/Cu1TSTrltqUWmrqsiyO2oCwWMae8N15v2soUuIVDGWRYyAe9V8GftAePT8Of%2BCOXx21xJSr3fxA%2BI%2BlIB1b7d481azKj1yJz%2BGa%2Bz/g98VvB3x0%2BFfh74x/D67mm0XxNpEGo6a1zAYpVjlQMEkjbmORclXQ8qysp5Br8z/wDgpL8QZPCH/BLaTw5aoZZNe/an8bpPbKeXtrbxh4jvJD7gG3j/ADFeTn1f6tkuIqdoS/FW/U4czw%2BIxmBnhcP/ABKtqUP8dWUKUf8AyarE96/4ITfCmLRv2Tbr9oXUVLal8SdWL2xkH7y20fTQdO0%2B1PqI44JCPaQV9tV4n/wTe8F/8K//AGCPhD4aaLy3HgDTbqaPGCslxAtw4PvulOa9sqslw6wuUUKf9yLfq0pP8Wfe8f4qli%2BNcf7H%2BFTqypU12pUP3FKK8o06EEvm%2BrCiiivUPkAooooAKKKKACiiigAooooAKKKKACiiigAooooAKKKKACiiigAooooAKKKKACiiigAooooAKKKKACiiigAooooAK8Z/Zf8A%2BS3/ALR3/ZZrH/1CvC9ezV4z%2By//AMlv/aO/7LNY/wDqFeF6APZqKKKACiiigAooooAKKKKACiiigAooooAKKKKACiiigAooooAKKKKACiiigArxnxx/ykL%2BF/8A2Rnx5/6dvCFezV4z44/5SF/C/wD7Iz48/wDTt4QoA8a/artPiP8AsK/tW3//AAUS8GeFJfEnw88U6HZaR8Z9F06Etf6ZHakrb6zCoOJlijISRSMqgJzhi0fLn4oR/sHfGfX/ANsf4faf/wAJf%2BzR8bbq11zXtZ8Llrh/CWrOmyXUWgUZe2uDgykfMrjaQGRUk%2B8Lq1tr62ksr23jmhmjKSxSoGV1IwVIPBBHBBr4q8R/swftMfsD694g8UfsTeDNM%2BInwh8Q3El34k%2BBOqzeVPpzSA/aG0iV8p5bgkm2cEH7qqxI2/MZhga%2BFqe2ot8vM5qy5nTm17zUd505r44LVfFHst%2BGuIavA2YYh1cO8VluLXLiaKbUknJT9pTau1KM0qkWlJwqXfLOnUqwPsbwd4y8KfELwtYeOPAviKz1fR9VtUudO1PT7hZYbmJhlXR1JBBrSr8yv2c/iBqXgfxDq/ij/glb46tLi0a%2BkuvGf7JHxOk/svU9LuhzP/ZjStmBs9UG6EHqWIWNfrj9mX/go3%2Bz5%2B0brT/DW/vLzwL8RbOTydV%2BHHjiH7DqkE2OVjWTAuV7gxknbglVziuzAZ3hsUowqtRm9tbxk/7ktn/hfLNbOOlz6/GcJUsfl0864XrrH4BauUP41Ffy4mirzpuPwupFSoSauqkL8i99ooor2z4kKKKKACiiigAooooAKKKKACiiigAooooAKKKKACiiigAooooAKKKKACiiigAooooAKKKKACiiigAooooAK8Z8cf8AKQv4X/8AZGfHn/p28IV7NXjPjj/lIX8L/wDsjPjz/wBO3hCgD2aiiigAry/9rf4N%2BM/jP8MLCx%2BGt5pkXibw14w0XxLoEetzyRWV1caffw3JtZ5Io5HiSaNJIfNWOQxGQSBJNmxvUKKAPm3wd%2BzB8V1%2BBPxF8D/Fz4Z%2BAvE%2Bp/EbXNQ8Taroo8Z39vp6ajPcJ5Fil0mn%2BfFHBb29oV1BIxN9oRpFt4sLjz74Zf8ABPv46/Auey%2BPHwxsvCNz8Q5PijqXinWPCev%2BP9Xu9MktbzQbfRTa/wBt3NpcX1xOqWNldG6mtiZJPPj2Ro6NH9p0UAeVfAL9miL4Y/sleHf2afGvii9vZrLQVttd1fw7qt3pMk927GW5ltpraWO4tlMzyFNkgdUIBY8k/kn/AMFKr%2BXw98Avh38C/Bsl9eQ6P8SPi9czR6lqk97dSJL401DTbZ5Li4d5p5N00mZJXZ2OSWJJJ/cGvwy%2BJzXHxk/4KEaF8OrdvNs7D45al4W1C36hPtnxJ8Q6nJIR6%2BVAgPtivluMZN5I6Md6koR%2B%2BX/DHv8AB1GniePcko1EnH65QnJPZww7qYqd/Llwv4o/bnwN4YtfBPgrR/BlljydI0u3sodo42xRrGP0WtSiivqIxUYpLZHiVatSvVlUm7yk22%2B7bbb%2BbbCiiimZhRRRQAUUUUAFFFFABRRRQAUUUUAFFFFABRRRQAUUUUAFFFFABRRRQAUUUUAFFFFABRRRQAUUUUAFFFFABRRRQAV4z%2By//wAlv/aO/wCyzWP/AKhXhevZq8Z/Zf8A%2BS3/ALR3/ZZrH/1CvC9AHs1FFFABRRRQAUUUUAFFFFABRRRQAUUUUAFFFFABRRRQAUUUUAFFFFAHj3/BQc%2BOR%2Bw58WD8N/7T/tj/AIQLU/s/9ib/ALds%2Bzv5v2by/n8/yvM8vZ8%2B/bt%2BbFeJfsc%2BL/2NdA1X446R8H/FfgWw%2BAt4ltNolvoWoW0OhTPDosba9JYiJhGYI4WszcND8iTNOXIlMtfZ1FAHx3/wSb8R/s2/EuT4k/Gr9k%2B/8CaJ4H8TX2mHw/8ADbwJfWe3R7SGGZI9UvrO0bZp97qGWcwMqyCG1txKBMsyJ3t/qXxXu/8Agpt4Ls/G3gvw9p%2BhW/we8cDw1qOleJ57y7v0OreEvMa5tpLKFLQjCYCTXAbccldo3fQ9eM%2BOP%2BUhfwv/AOyM%2BPP/AE7eEKAPZqKKKAPHv2mP2C/2WP2tdmpfGH4XW0uuW4X7B4r0mRrLVrNl%2B4yXUOHO08qrlkB/hr5Q/aM/4JfftYXWgroNn4w8J/tB%2BGbBcaVpXxbiex8UabGOQlprtqVkd84OZisfHKHHP6IUV5ONyTLsdzOcbSlu46N/4lZqX/b0X6o58NQqZdmccyy2tUwuKi7qrQnKlUT85QaUvScZJrR3Wh%2BQWmftvft6f8E%2BJk0TxxY%2BNrPw9auEHhX46aPLqVtEvQQ2PiTT1P2g9FXzo0iQY619O/AD/gvT%2Bx78S0h0r4zw6j8ONUZxFJNfsuo6S0pAOyO/tNyHjqZFjA719u3NrbXtvJZ3luk0MqFJYpUDK6nggg8EH0r58%2BMv/BKb/gn78dJpdQ8Yfsz6DZX8pLHU/DSPpU%2B8/wAZNo0Ydvdw2e%2Ba8mOU5/lz/wBhxKnH%2BSonb5NNtfLTyPravF%2BOzGNs9wNDGS/5/U19SxL85yoQnhaz7uphacm9XK7ue2%2BBPiL8P/il4ei8XfDPxxpHiHSpx%2B51LRNSiuoH%2BkkTMp/Otmvzt1P/AIN8vCHw88QP4y/Y/wD2zPiN8NtVzmOYSrc7cHITfbtbSbf95m685ro9H%2BH/APwXo/Z3tXj0H4r/AAq%2BNemQALb2niOCSx1F0H%2B2qwJu/wBqSaT3rsp5rmlFWxmDkvOm1UX3XjP8GfO4zGZSnehCvBdp04Tt/wBv0Kji/V0o%2BnQ%2B76K%2BJLv/AIKmftU/B6drb9qr/glb8TdHgtYQ17rPgO6i8QWoOOX3RKkUa%2BxmOOhNW/BP/BfX/gm/4pkFv4j%2BIXiHwpPu2vb%2BIvCd1ujboVY2qzKCD74HrW64hybm5Z1lB9pqUH/5PFfmzzJZpgqdJ1ajcIr7U4VIRV9rylTUV6OafkfaFFeH%2BC/%2BClf7APj8J/wjv7X/AIBDSfci1LxFDYyN7BLkxtn2xmvVvCvxJ%2BHXjqMTeCPH2i6yjDKtpWqw3AI9cxsa9Gji8JiP4VSMvSSf5Nm1DHYHFfwasZ/4ZRf5SZtUUUV0HUFFFFABRRRQAUUUUAFFFFABRRRQAUUUUAFFFFABRRRQAUUUUAFFFFABRRRQAV4z44/5SF/C/wD7Iz48/wDTt4Qr2avGfHH/ACkL%2BF//AGRnx5/6dvCFAHs1FFFABRRXmH7W3xk8ZfBj4YWF98NbPTJfEviTxhovhrQJNbgklsrW41C/htjdTxxSRvLHDHJJN5SyRmUxCMPHv3qAen0V8war%2B2T8ZvCn7GvxQ%2BKeueH/AA5f%2BPfhb4m1Dw/qT2FlPFpl7LDcQiO%2BitWuHnYG1uYZ/sSzvK8oa3jldmRz5bcf8FKv2iP%2BFZWl7HHoiXr/ABc1LwpP4og%2BCniO7u/sttoi6kkj%2BDYrsa1bTvIzQlJJDshjS8ZRDcR4APvGvxQ/Yj8HSeM/%2BCw%2Bq3JBkt7n9qj4lXN5k58v%2Bxpb54Dj/rrfkfU1%2BsHwM/aL0vxh%2ByD4N/ai%2BNeseGvCcGteB9O13xFdnxDA2laa9xbRySAXjP5RiV3Kh95BGPmPU/nt/wAEpNB8OeM/%2BCnXjHx/4R13TtY0OSX4meKtP1bSr1Lm3uJNR8e6haQyxyRko6vaWyOGUkFSMcV89xBQeIeEj09tD9X%2BjPsuA8M3n1bMOmEwmOq%2BkpYWWHh8%2BbFaeZ%2BrFFFFfQnxoUUUUAFFFFABRRRQAUUUUAFFFFABRRRQAUUUUAFFFFABRRRQAUUUUAFFFFABRRRQAUUUUAFFFFABRRRQAUUUUAFFFFABXjP7L/8AyW/9o7/ss1j/AOoV4Xr2avGf2X/%2BS3/tHf8AZZrH/wBQrwvQB7NRRRQAUUUUAFFFFABRRRQAUUUUAFFFFABRRRQAUUUUAFFFFABRRRQAUUUUAFeM%2BOP%2BUhfwv/7Iz48/9O3hCvZq8Z8cf8pC/hf/ANkZ8ef%2BnbwhQB7NRRRQAUUUUAFFFFABRRRQAVxXxT/Zu/Z8%2BOEDQfGL4I%2BFPE%2B5dok1zQLe5kX/AHXdCyn3BBFdrRUVKdOrDlqRTXZpNfc0zpwmMxmArKthasqc1tKEpRkvnGUX%2BJ8afFP/AIILf8E4/iSsr6R8NtZ8IzzEs83hbxFOgDeoiuTNEv0CAe1eDePf%2BDbHw8sy3fwp/aUTyoG3QaZ4p8Hxt5mOm%2B6sZbeQfULzX6iUV4eI4W4fxLvLDxT7xvH8ml%2BB7n%2Btea1VbGwo4pdsRhsNiP8Ayarh3P5%2B1v2a3PyVl/4JO/8ABRX4QOT4Oe21W1i/1C/DD436zoV2QPX%2B0RNErfTIpBpX/BQP4TDHjSD9tjRPK%2B%2B%2BkeIdL8eInvlEh3j3r9a6K4/9UsJT/wB3rTh87r84v8Q/tDgfE/77w5hb98PPF4SXyVDFTpr/AMFf5H5MWv7cfxX8HzpZeKf%2BCv3jjwVKzbU0z4qfstxo27%2B600IkI/PHvXo/gr9sj9qTxHsXwL/wVu/Zd192/wBVB4q0ltJlkPps8xGz7AV%2Bjl1a2t9bvaXttHNFIMPFKgZWHoQeDXnPjX9jT9kX4jb38d/sv/D/AFaR/vT3vhCzeUe4cx7gfcGj%2Bw80pfw8Rf1lVj%2BU5r8A/s3wjxO%2BHzHDP/p1joVkvSOIpRf3zbPn/wAMfET/AILIa7b/AGvwl4g/ZL8Y2wGRJomr60HYepILIK1f%2BFuf8FltJ/4//wBkP4Q6tjr/AGX4%2Bng3fTzl4rW8T/8ABGj/AIJseKJ/tr/sy2Wm3KndFc6Frd/YtG3qognVf0xWUf8Agj/8INE5%2BFv7Ufx88Fbf9Wnhn4p3CIvtiVJMj2zR9Tz2n1k/SuvyqUf1D/VDw3xH%2B78Q46j5VsNGol86NVt/%2BAoT/hqL/grHpv8Ax/f8EtND1PHX%2Bzvjdp0Ofp5sZo/4bZ/4KN2X/Ib/AOCQutx46/YPjBpFz/6CgzS/8O9v2tvDX/JNP%2BCrvxRtdv8Aq/8AhKdFsdax9fNCbqB%2Bz3/wV28L/wDIC/4KGeCPFG37o8S/CaCy3/X7I5x%2BFH/CvD4vb/L6vP8ASLD/AIhzlVX/AHTi6k/KpSrUn/5Ng5pf%2BBCf8PAv2yLX/kK/8EnPiQmOv2TxNp8/8sZo/wCHkX7Qtv8A8hH/AIJX/GxfX7Nb2k38pBS7v%2BC3/hrrH%2BzV4lgX%2B6dcs7h/5xij/hfn/BXzw9/yGP2AfAPiLb1/sD4qRWm76fakOPxo%2Bs4yPxVa69aEX/6TcP8AiFXEE/8AduIMHU9MThY/%2BnaVH8WH/Dzv4owf8fv/AAS9/aJX18jwnDL/ACmpP%2BHp3iqL/j6/4JkftPD18r4bo/8AK4pf%2BG5v2/NF/wCR1/4JIeK4Nv3/AOwviVpWpfl5armj/h578SdH/wCRx/4Jg/tFwY%2B//Yvg6HUcfTZMuaPr018WMmv8WHt/7YH/ABCDxJl/AxVKp/gq5dP8sXET/h69cx/8fP8AwTR/avX18v4RB/8A25o/4e1aUn/Hz/wTw/aph/66/B4j%2BVzS/wDD374R2H/I2/sp/tBaBj739sfCidNv12SNS/8AD6/9g2y/5GnxL4w0LH3v7W%2BHuqJt%2BuyBqP7SprfMor1pwX58of8AEG/GN/w8PWn/AIMPQqf%2Bmq9Qb/w908Dx/wDH3%2BxB%2B0tb%2BvnfCOQY/KY0f8Pg/g3F/wAf37L3x%2BtfU3HwpuBj8nNX9L/4LWf8Ew9XIFt%2B1PZxk9rvw3qkGP8Av5arXRaZ/wAFW/8AgnPq%2BPsv7XfhBM9PtV48H/oxVrSOPU/hzKm/%2B3af/wAsRyV/Cnxhwv8AFwWJXrgJ/omcd/w%2BX/Zeh/5Cfwy%2BLtl6/avhlejH5A0f8Pr/ANhSD/kLa141sPX7Z8PNTXH/AHzCa9R03/goh%2BwVquPsv7ZnwxXPQXHjexhP/kSUVvad%2B2F%2ByRq%2BP7J/ak%2BHN1np9n8b2D5/75mNdEa2Kl8OOpP/ALdh%2BlU8itwV4k4b%2BLRqx/xYKsv/AG1fmeIj/guN/wAEyYiF1P8AaDvLFj/Dd%2BB9ZU/paGrdv/wWz/4Jf3QzF%2B1RaD/rp4Z1ZP8A0K0Fe/2Pxz%2BCGsDGmfGHwrdBugg8Q2z5/JzV6G7%2BG3iAhre60O9J6FHhkz%2BWa2is2l8OIpP/ALcf6VWeXVynjHD/AMWUY/4sPVj%2Bc0fPaf8ABZ7/AIJkOMr%2B1bpf46LqI/nbUN/wWe/4JkIMn9q3S/w0XUT/ACtq%2Bi28DeB5TvfwdpTe50%2BI/wDstC%2BBfBKHK%2BDtKH00%2BL/4mtPZ55/z9p/%2BAT/%2BWHL7HiP/AJ/Uv/Bc/wD5YfN0v/Ba7/gmDF9/9qqxP%2B74c1Vv5WtVpf8AguD/AMEuIfv/ALUsR/3fCGst/Kzr6hj8MeGof9T4esU/3bRB/SrEWn2EH%2BpsYU/3YgKPZZ3/AM/qf/guX/ywPYcR/wDP%2Bl/4Kn/8tPlE/wDBcz/gl0xxD%2B0xJIfSPwRrZ/8AbOqfwU/bj/Zk/bO/4KF%2BDD%2Bzl8QJ9eHhv4M%2BMv7YM2hXtl5P2jVvCvlY%2B1Qx78%2BRL93ONvOMjP2AAAMAV4z44/5SF/C//sjPjz/07eEK1oUs0jVTrVYOPVKDT%2B9zf5G%2BGo51GsnXrU5Q6qNOUX97qStr5M9mooor0D1Arjfjx8EvDX7QPw6l%2BHfibWNT0vbqVjqel61ok0cd7peoWV1Fd2l3A0scke%2BOeGNtsiPG4BR0dGZT2VFAHh0f7B3gGT4Lax8EdX%2BKvjW/tNe1P%2B2tT1q5ubBNRl18amupprQlitEVbpLmOApGEFqiW0Ua24RSpyk/4J2eFLW7XxvpX7RXxJs/iC3iq7168%2BJ0E2jtq15PcabbaZLDJA%2Bmtp/kfZLKzjEaWi7Tao4IkLu30NRQBzHwX%2BEfg34CfCbw78F/h9BcJovhnSYdP077ZcmaZ441C75JG5eRjlmY9WYnvXwn/wAEbtMu9f8A22v2u/G98mY9G%2BKur6Fpr/7LeI9cupl9vndD%2BNfonXxb/wAEZvCD6Xb/ALTPjW6ixNrf7XHj%2BONsfegt9XmjT/x8yivOxtN1cVhuym5fdCVvxZ9lw1jYYHIs6f2qmHp01/2/iqLlb/t2m0/Jn2lRRRXonxoUUUUAFFFFABRRRQAUUUUAFFFFABRRRQAUUUUAFFFFABRRRQAUUUUAFFFFABRRRQAUUUUAFFFFABRRRQAUUUUAFFFFABXjP7L/APyW/wDaO/7LNY/%2BoV4Xr2avGf2X/wDkt/7R3/ZZrH/1CvC9AHs1FFFABRRRQAUUUUAFFFFABRRRQAUUUUAFFFFABRRRQAUUUUAFFFFAHj3/AAUHPjkfsOfFg/Df%2B0/7Y/4QLU/s/wDYm/7ds%2Bzv5v2by/n8/wArzPL2fPv27fmxXzZ8IvEvw8074Y/tPeGv%2BCcmv%2BGoPDupeFpn%2BCth4FurdbC68SxeHc3h0lIT5bhJX00ymAFVuWl34lMtfelFAHxv/wAEyz%2Bz4fjH49/4YtOkf8Kn/wCFb%2BCvM/4Rzb9h/wCEq36z/aXmbOP7R%2Bx/2R9r3fvd3k%2BZ%2B8316Df6l8V7v/gpt4Ls/G3gvw9p%2BhW/we8cDw1qOleJ57y7v0OreEvMa5tpLKFLQjCYCTXAbccldo3fQ9fOH7R%2Br/GvR/28PhPP8Dvh/wCFvEWpN8I/Ha3dp4r8YXOiwRwf2p4SJdJbfT71nfdtGwxqMEnfkBSAfR9FeM/8Jx/wUL/6Nf8Agz/4fjVv/mXo/wCE4/4KF/8ARr/wZ/8AD8at/wDMvQB7NRXjP/Ccf8FC/wDo1/4M/wDh%2BNW/%2BZej/hOP%2BChf/Rr/AMGf/D8at/8AMvQB7NRXzjpP7R37dusfGfX/AIHW/wCyh8JF1Tw74X0jXby5f466p5EkGo3OpW8KIR4Y3F1bS5ywKgAPHgsSwXqP%2BE4/4KF/9Gv/AAZ/8Pxq3/zL0AezUV4z/wAJx/wUL/6Nf%2BDP/h%2BNW/8AmXo/4Tj/AIKF/wDRr/wZ/wDD8at/8y9AHs1FeM/8Jx/wUL/6Nf8Agz/4fjVv/mXrl/AP7R37dvxE8V%2BN/CGj/sofCSG48B%2BKItC1WS5%2BOuqBJ55NK0/Uw8W3wwSU8nUYVJYKd6OMYAZgD6Oorxn/AITj/goX/wBGv/Bn/wAPxq3/AMy9H/Ccf8FC/wDo1/4M/wDh%2BNW/%2BZegD2aivGf%2BE4/4KF/9Gv8AwZ/8Pxq3/wAy9H/Ccf8ABQv/AKNf%2BDP/AIfjVv8A5l6APZqK%2BcfhF%2B0d%2B3b8ZfCl34v8OfsofCS2t7PxRrehSR3vx11RXM%2Bl6rdaZO42%2BGGGxprSRkOclGUkKcqOo/4Tj/goX/0a/wDBn/w/Grf/ADL0AezUV4z/AMJx/wAFC/8Ao1/4M/8Ah%2BNW/wDmXo/4Tj/goX/0a/8ABn/w/Grf/MvQB7NRXjP/AAnH/BQv/o1/4M/%2BH41b/wCZeuX%2BCP7R37dvx4%2BDHhD44%2BFf2UPhJa6X4z8L6frum22ofHXVFnhgu7aO4jSQJ4YZQ4WQBgrMMg4JHNAH0dRXjP8AwnH/AAUL/wCjX/gz/wCH41b/AOZej/hOP%2BChf/Rr/wAGf/D8at/8y9AHs1FeM/8ACcf8FC/%2BjX/gz/4fjVv/AJl65f43ftHft2/Af4MeL/jj4q/ZQ%2BEl1pfgzwvqGu6lbaf8ddUaeaC0tpLiRIw/hhVLlYyFDMoyRkgc0AfR1FeM/wDCcf8ABQv/AKNf%2BDP/AIfjVv8A5l6P%2BE4/4KF/9Gv/AAZ/8Pxq3/zL0Aesap4Z8N62CNa8P2N3nr9qtEk/9CBrndT/AGevgFref7Z%2BB/g%2B7z1%2B1eGbWTP/AH1Ga4n/AITj/goX/wBGv/Bn/wAPxq3/AMy9H/Ccf8FC/wDo1/4M/wDh%2BNW/%2BZes5UqU/iin6pP80zroY/H4X%2BDWnD/DOcf/AEmUTW1L9iH9i/WcnVv2RfhhdE9TceAdOc/mYawdR/4Jr/8ABP8A1TP2n9jj4dLn/n38K20P/otBXP8Axd/aO/bt%2BDXhS08X%2BI/2UPhJc2954o0TQo47L466ozifVNVtdMgc7vDCjYs13GznOQisQGOFPUf8Jx/wUL/6Nf8Agz/4fjVv/mXrCWX5fP4qMH/25H/5E9ejxfxdh/4WZYiPpiK6/wDc36HN6h/wSV/4Jw6ln7T%2ByP4WXP8Az7xzRf8AoEgrFv8A/gix/wAExdRz9o/ZVsFz/wA8PEOpxf8AoF0K77/hOP8AgoX/ANGv/Bn/AMPxq3/zL0f8Jx/wUL/6Nf8Agz/4fjVv/mXrCWTZPLfD0/8AwCP%2BR6lLxK8RqH8POcWvTE1v/ljPMj/wQ%2B/4JpwHOkfAnUdPPrZeOtZXH53ZoP8AwRX/AGI4ONJg8eWHp9j%2BIupDH/fUpr03/hOP%2BChf/Rr/AMGf/D8at/8AMvXL%2BPv2jv27fh34r8EeENY/ZQ%2BEk1x488US6FpUlt8ddUKQTx6VqGpl5d3hgEJ5OnTKCoY73QYwSy5/2FkvTDQXpFL8rHV/xFfxNfxZziZf4q0pf%2BlKRzX/AA5v/Zsg/wCQX8XvjJY%2Bn2T4n3gx%2BeaP%2BHQvwvh/5Bv7Xf7RFl6fZfixMMfnEa9N/wCE4/4KF/8ARr/wZ/8AD8at/wDMvR/wnH/BQv8A6Nf%2BDP8A4fjVv/mXo/sLKOlFf%2BTL8poP%2BIq%2BIr%2BLMqj9VSl/6Vh5HmJ/4JMaXF/yDv8Agob%2B1Paegt/jAwA/O2NU/gr%2Bypd/sx/8FC/Ba3H7THxU%2BIq618GfGWwfE3xUNUOn%2BTq3hXP2c%2BWnl%2BZ5o39d3lR9Mc%2Btf8Jx/wAFC/8Ao1/4M/8Ah%2BNW/wDmXqh4H8D/ALVnjH9qzw58bvjd8OPh74Z0bwz8PfEOhww%2BFfiHfa1dXd1qV9olwjMlxpFikUaJpcoLB3YtKgC4yRtQyrL8NVVSlC0l5z/Jza/A8/NOPuL87wM8HjsV7SnO106dBXs0170MNTmtUtprs7q6futFFFegfHhRRRQAUUUUAFeD/wDBO3wrpnhj4K%2BLptODbtU%2BPHxKvrpnxzK3jPWF7dgqKPwr3ivkr9krxZ%2B2dp/w98UWfwx%2BAfww1fQk%2BNPxF/s/Ude%2BLuo6bdzL/wAJnrJYyW0WgXKRENuAAmfIAOQTtCcU2m%2BhcalSMJQT0la672d19z1PrWivGf8AhOP%2BChf/AEa/8Gf/AA/Grf8AzL0f8Jx/wUL/AOjX/gz/AOH41b/5l6ZB7NRXjP8AwnH/AAUL/wCjX/gz/wCH41b/AOZej/hOP%2BChf/Rr/wAGf/D8at/8y9AHs1FfOPwR/aO/bt%2BPHwY8IfHHwr%2Byh8JLXS/GfhfT9d0221D466os8MF3bR3EaSBPDDKHCyAMFZhkHBI5rqP%2BE4/4KF/9Gv8AwZ/8Pxq3/wAy9AHs1FeM/wDCcf8ABQv/AKNf%2BDP/AIfjVv8A5l6P%2BE4/4KF/9Gv/AAZ/8Pxq3/zL0AezUV84/G79o79u34D/AAY8X/HHxV%2Byh8JLrS/BnhfUNd1K20/466o080FpbSXEiRh/DCqXKxkKGZRkjJA5rqP%2BE4/4KF/9Gv8AwZ/8Pxq3/wAy9AHs1FeM/wDCcf8ABQv/AKNf%2BDP/AIfjVv8A5l6P%2BE4/4KF/9Gv/AAZ/8Pxq3/zL0AezUV4z/wAJx/wUL/6Nf%2BDP/h%2BNW/8AmXrl/i7%2B0d%2B3b8GvClp4v8R/sofCS5t7zxRomhRx2Xx11RnE%2Bqara6ZA53eGFGxZruNnOchFYgMcKQD6Oorxn/hOP%2BChf/Rr/wAGf/D8at/8y9H/AAnH/BQv/o1/4M/%2BH41b/wCZegD2aivGf%2BE4/wCChf8A0a/8Gf8Aw/Grf/MvR/wnH/BQv/o1/wCDP/h%2BNW/%2BZegD2aivnHx9%2B0d%2B3b8O/FfgjwhrH7KHwkmuPHniiXQtKktvjrqhSCePStQ1MvLu8MAhPJ06ZQVDHe6DGCWXqP8AhOP%2BChf/AEa/8Gf/AA/Grf8AzL0AezUV4z/wnH/BQv8A6Nf%2BDP8A4fjVv/mXo/4Tj/goX/0a/wDBn/w/Grf/ADL0AezUV4z/AMJx/wAFC/8Ao1/4M/8Ah%2BNW/wDmXrl9W/aO/bt0f4z6B8Drj9lD4SNqniLwvq%2Bu2dynx11TyI4NOudNt5kcnwxuDs2qQFQFIISTJUhQwB9HUV4z/wAJx/wUL/6Nf%2BDP/h%2BNW/8AmXo/4Tj/AIKF/wDRr/wZ/wDD8at/8y9AHs1FeM/8Jx/wUL/6Nf8Agz/4fjVv/mXo/wCE4/4KF/8ARr/wZ/8AD8at/wDMvQB7NRXzjpP7R37dusfGfX/gdb/sofCRdU8O%2BF9I128uX%2BOuqeRJBqNzqVvCiEeGNxdW0ucsCoADx4LEsF6j/hOP%2BChf/Rr/AMGf/D8at/8AMvQB7NRXjP8AwnH/AAUL/wCjX/gz/wCH41b/AOZej/hOP%2BChf/Rr/wAGf/D8at/8y9AHs1FeM/8ACcf8FC/%2BjX/gz/4fjVv/AJl65fwD%2B0d%2B3b8RPFfjfwho/wCyh8JIbjwH4oi0LVZLn466oEnnk0rT9TDxbfDBJTydRhUlgp3o4xgBmAPo6ivGf%2BE4/wCChf8A0a/8Gf8Aw/Grf/MvR/wnH/BQv/o1/wCDP/h%2BNW/%2BZegD2avGf2X/APkt/wC0d/2Wax/9QrwvR/wnH/BQv/o1/wCDP/h%2BNW/%2BZerf7K3w5%2BNPg/WPih47%2BOmgeF9J1Tx98Qotcs9K8J%2BJbnVre1tYtB0fTFV7i4srNmkaTTpXKiLaFkQbmOcAHrdFFFABRRRQAUUUUAFFFFABRRRQAUUUUAFFFFABRRRQAUUUUAFFFFABRRRQAV8r/tPftafFz4YfGPxZrXgHw74Pk8MfB/w/4fvfGp1rSLibVdUt9Xv5UuYLC4juI0svItrOO4zJFOLmQpGRD5fmn6orxn4z/sQ/Dj43fFI/EzXPHPirS4tRtdItfF/hrRrq1TTvFMGl3sl7YxXyy28kwWOaaXP2eWAyxyGKYyxhUAB7NRRRQAUUUUAfMfhz9pX4mQ/t/wDij4P/ABG1jw94T8Nr4gtNE8GRaj8ItZS68YwDQINRxB4ja7XTmlju7nUALQQvJ5dpMAoLNIv05Xlfiz9lqDx/8ZNI%2BKfj343%2BNdX0rw9rsetaB4AuDpkWjWOoR27wRzhobJL2XZ5kkipNdSRiR92z5EC%2BqUAFFFFAHi//AAUF%2BLvxw/Z%2B/ZH8afHr4BXvhSPWPBOhXeuXUHjDRbm%2Btru0tbaWZ7dEtrq2ZJXZEUSFyqAsSj8CvP8Ax5%2B1p8XPBfx48W6n4U8O%2BEIvh54Q%2BMfhH4feMrObSLg63quq67BoqR6hDdpcLDHHB/bmkxmKS3leRIZ8Sx7UFew/tY/s42X7WnwI179n3Wvir4p8I6T4nspbHXL/AMILp32u5spYnimtt1/aXUaI6vyyIsgKja6854uD9gHwdP8AEWz%2BIvir44%2BPtdY6zpOueJtG1CXSorHxPrmmJGljq17HbWETLcRCC0wts0EDGxti8TGPJAPe6KKKACvF/wBsn4u/HD4JWvgHxj8LL3wp/Y2ofEzw54e8X2PiDRbm5urm11XWbHTQbOWG6hS2kjW5lk3yJOpKIuzkmvaK8q/au/Zbf9qrw3oXhef4%2B%2BN/A1voXiSw11G8Fw6Oz3d7Y3kF5ZtKdS0%2B8G2K4t43CxhA3Kyb1O0AHnH7PP7SvxM1v9qrxb8Efihq/h7wnp0PinW7fwT4Sk%2BEWs6Zc69bQukpv7fWri7%2Bwag7GSaWWK2gL8l2K4Yn6cryXSf2UQ/xk0X4y/Ef9oDx341m8L3d5d%2BE9C8QjSYbDR7q5t5LWS4iWw0%2B2llf7PNPCvnySqizvtAJBHrVABRRRQB4f%2B3d8XPjx%2Bz98GtX%2BOvwo8Y%2BBbHT/C2i3N5e6L4s8M3t/c%2BIb3KLZ6ZZyW17B9nmuJSLdG8q6ZpZ4gsLH5W8/wDgj%2B198Z9c%2BJfgr%2B1vBnhLSPhp43%2BJ/ij4beFfDWnaXNHq%2BiX%2BgQ6tvnnuRcNbzQSN4f1NFhjt4jGrWx8yTLAen/tK/sgwftJePPBHxAm/aB8d%2BELnwDd3N7otj4Yi0aezkvZUEa3k0Gp6deI88MfmLDIApjE8pHzNkVfAf7DXw98B/GW3%2BLsPxF8XalBp2u6nr2ieENSubL%2BydK1vUY3j1DVIEitUn8%2BcT3ZZXmeFGvrkxxR%2BZwAe10UUUAFfL/7XPx4/aX%2BC3xE0/wAKaVD4A8a6P45h1q20X4cxeD76TWEtbTQ7q7kv7icXrxXVsLqK3tpIRaxA/b4UExkZEk%2BoK8Om/YmuI/2j/Ff7TWiftV/EvTtX8W6bDp1zpcMHh%2Be00%2BzhgaOG2s2udJlubeJZXe62LNtedy7hwdtADP2EP2g/G/x7%2BHt5dfFfx9o194u04Wba/wCG7L4Xav4RvNAee2WUQXNlq91PcOC2/wAu4ASORUO0NtJr3SvN/gd%2Bzdp3wZ8T%2BJPiHrHxS8U%2BOPFXiuKxt9Y8T%2BLmsFuXtLMTfZbVItPtbW2jija5uXG2EMzXEhZmyMekUAFFFFAHxz/wUE/bj%2BKn7GHjn%2B09c0XQPGPhF9G1HW7fwrL8OdTspbdNN0a%2B1JJP%2BEimun0ye7%2B16aNlisCXQjmWUDbC0jevfs0fF3456t8VPG/7PX7R1z4U1DxP4R0nQ9aj1rwVpFzYWNzY6oLyNIjBc3Ny6yxXGnXal/NxIhibZGSVFb46/sJeCP2nNaurX4//ABb8a%2BKPBdzJcSL8MryTTYdFikmsZrJm329lHfSAR3EzBJbp0Dvu2/IgXp/2fP2ZtI%2BAd5r3iK7%2BKHizxx4j8SGzj1bxV41uLN76W2tIjFa2o%2Bx21vCsUQeVhiPezzyu7Ozk0AelUUUUAFfEf7U/7ZX7Wfwb%2BNXiD4UeDvDfhzxrqdhotxrvhgJ8D/EEcmigajplqhhb7c48TSCx1S487%2By/KeFoSsojEwjr7crw/Xv2LdT8S%2BPT8Tta/a5%2BKM2t6fBeReDbwpoAHhVbqaGSf7JGNJ2Ts0cC2%2B69W6ZYmcKVd2cgHVfssfFh/jJ8I4PFl78TNG8VX8Oo3Vlql9o3gy%2B8Oi2uIpWVrWbTdQuJ7qznjGFeOZw%2Bfm2qGAr0auG%2BAfwF8PfADwzqejaV4p1vxBqOv69ca34k8SeI5oGvdVv5giNPKLeKGBMRxQxKkMUcapEgCjBJ7mgAooooAKKKKACiiigAooooAo%2BKPENh4S8Naj4r1UObXTLGa7uREuW8uNC7YHc4U185/sTftJ/Gvx/4p0fwZ8bPD3gyzHjr4W2XxG8Mw%2BDNKuLQaZHeXBN3p92ZriUXc0b3Ns/2xBAJ2lmJgj2gv9LXdpa39rLY3tuk0M0bRzRSqGV1IwVIPBBHGK8h/Zm/Yr8Bfswaq%2Br6B8QfFviWW28MWPhnw6PFl7azDQNCs3ke3021Nvbwlo1MnzSzma4kEcXmTP5a4APYqKKKACuF/ag8efEX4Wfs0fET4nfB/wAKLr3i3w54F1fVPC2htYzXQ1HUbezlltrYwwMsswklRE8uNg7bsKQSDXdVneLdEv8AxL4Y1Dw/pfivUdCub20kht9a0hYGurF2UgTRC4iliLqeQJI3TI%2BZWGQQDy79in4tT/FD4Z31lq3xC8P6zqfh3VV0680zRPhhqfg59DQW0EkVncaVqlzPcwuEcSK7eWjxSxbEwN7%2BxV558B/2dtJ%2BB154l8R3PxE8SeMfEni/UYbzxF4p8VvZi7ujDbpbwRCOxtra2iijjQBVjhTJZ2YszMx9DoAKKKKAPlz9qj9rH4ofs4fF7xxZfErRvCXiL4X2H7O/i/x7baFb6JcJqrtog0tZ7a4uZLl7eaKdb6cBBbIVCJl3ywrt/wBmf4v/AB81T4ueMv2df2ln8JXnijwx4Y8PeJY9V8FaTc2NlJZas%2BpW62xhubm5cyw3GkXYMokCyI8TeXGdy1B8Y/2FfDvx0%2BOrfGXx58dvHMumzeCtT8I33w9hg0X%2BxLvRtSW2%2B32khfTWvSJ2tIHZxdB1KEIyIzIek/Z3/Zd0P9n2%2B1rxHP8AFDxb438Q6/a2Flf%2BJ/G1zaSXpsLFJFs7MfZLa3j8qIz3DglDI73Mru7s2aAPT6KKKACvkT41/tL/ALW3gzXf2gPAlv4V8GeLL3wF4f8ACniT4bWOk/D/AFO/nWPUdV1KEJeWsV48uozwLpsc6m2FuS5IVflVq%2Bu68Ll/Yo8QxfHTxt8f9C/bQ%2BK2lat430ix0y5sbKz8MNaabbWVxcz2aWwl0V5P3RvLpQZnlLrORJ5hVCoB1f7Knxbm%2BMvwpHibUfido3inUbXVbmx1a60fwRf%2BGzZ3ETfNaz6ZqNxPdWk6KV3JMwYhlbaqsK9JrhPgH8A9A%2BAOhazY6f4t1zxHqvibxBLrnifxN4klt2vdVv5IYYPNkFtDDBGFgt7eFUiijRUhQBc5J7ugAooooA%2BNv2lv2u/2lv2ePjNB8NtZT4Z%2BNb7W4IJvCMOneFr20l8F3mpeIdM8PaRNqcr30wuop21ecFols5HFjdLGGXzDF7j%2Byr8X/iR8Rh4/%2BH3xiOiT%2BKvhp48bw1rOq%2BGtOms7DU/M0vTtWt7iG3mnnkt82uqW6PG00uJI5MMQRjhbb/gmr4Sa6%2BIb%2BIf2l/idrNv8SdeOuaxb6kdC8yz1KK4hn0%2B5trqLS0ulNg9vbi0jeaSKJYUDI/OfWPgH8BdD%2BAfh7VtNsvF%2BueJNW8Ra9NrXifxR4le2N/q99JHFD50wtYIIF2QQW8CJFFGixwRqF4JIB3VFFFADLn7T9mk%2Bx7PO2HyvNzt3Y4zjnGa%2BIPit%2B1z%2B2n8NPiJrnw2t7bwH4z17wxe%2BGrfVvHXgj4K6/q0fhy31Zrx72wl0qz1Ke7uZo4bKxuiYp0/d3ULSwIDE0n29dwyXFrLbw3UkDyRsqzxBS8ZIwGXcCuR1GQR6g189/Bj9gLxB8BPhtcfDT4d/t1fGKKO61Z9Tm1m8svCc%2BoS3cryyXM80z6EftMk7y7pJJxI%2BY02FAMEA9Z%2BAnxDsvit8HfD/AMQrD4gaN4qTU9PEj6/4f0mawtLuQErIUtZ5ppbYq6sjQySO8bKysdykDr65L4F/Bfwl%2Bz78L9O%2BFPgq5v7iysJbq4mvtVuRNdX13dXMt1dXUzhVDSzXE80r7VVd0h2qq4UdbQAVR8Tw%2BJLnw3qFv4N1OxstXkspV0u81Owe6toLgoRHJLDHLE00atgsiyRlgCA6k7herN8Y6Df%2BKPC1/wCHdL8W6loNzeWrxQa1o4gN1YuRxNELiKWIup5AkjdDj5lYZFAHw98N/wBuz9rX4wfFPW/gl8LNN%2BHyeM9NtddvpPGfiv4Xa1oa6ppmkWuiypYy6JeXyahp8r3fiHYk08zx%2BVDJcJC6zoD9jfAL4tab8fPgT4K%2BOujabLZ2fjXwlpuvWlnM%2B54Iry1juFjYgDJUSAE%2BorxbV/8AgmR4H1rXL74i3f7SnxTT4gasl5a618Sba90iHVr/AEy6trW2m0wommizhtillaMPItopVkgWVZQ5Zj9B%2BC/B/hr4eeDtJ8AeDNJi0/R9D0yDT9JsIc7La2hjWOKNc84VFVR9KANOiiigDl/jTqPjjRvhbrWt/DnxDY6Xq1hZm6hvtQ8H3viBEjjIeUDTrGeC5vJGiV1SKGQOXZcK5%2BRvi34S/wDBRH4/eJPGmh6n43uPCPgTwZqU86%2BIPHF58DPEU1trF/Dr91pCJcyrfRp4ZnktbS1/cao0ksDyrG%2BdgSvtv4meDNd8e%2BEpvDnhv4pa/wCDbySWN4tf8MxWL3cG1gSqrf21zAwYAqQ8TcE4wcEeK3X/AATm8Kah4PuPhtq37SHxNu/DGuahNf8AjzQJrjRxF4wu57xrq4mvpV00XEXmllhaOzltYhDEkaoo3bgD6JooooAKKKKACiiigAooooAKKKKACiiigAooooAKKKKACiiigAooooAKKKKACiiigAooooAKKKKACiiigAooooAKKKKACiiigAooooAKKKKACiiigAooooAKKKKACiiigAooooAKKKKACiiigAooooAKKKKACiiigAooooAKKKKACiiigAooooAKKKKACiiigAooooAKKKKACiiigAooooAKKKKACiiigAooooAKKKKACiiigAooooAKKKKACiiigAooooAKKKKACiiigAooooAKKKKACiiigAooooAKKKKACiiigAooooAKKKKACiiigAooooA//9k%3D\">"
            ]
          },
          "metadata": {
            "tags": []
          }
        }
      ]
    },
    {
      "cell_type": "markdown",
      "metadata": {
        "id": "bZeAJWzSBK0Y",
        "colab_type": "text"
      },
      "source": [
        "# Submit the MLP with 2 hidden layers\n",
        "Run these cells after training the MLP with 2 hidden layers"
      ]
    },
    {
      "cell_type": "code",
      "metadata": {
        "id": "83jdTKuBBK0b",
        "colab_type": "code",
        "colab": {}
      },
      "source": [
        "## GRADED PART, DO NOT CHANGE!\n",
        "# Validation loss for MLP\n",
        "grader.set_answer(\"i8bgs\", s.run(loss, {input_X: X_val_flat, input_y: y_val_oh}))\n",
        "# Validation accuracy for MLP\n",
        "grader.set_answer(\"rE763\", accuracy_score(y_val, s.run(classes, {input_X: X_val_flat})))"
      ],
      "execution_count": 0,
      "outputs": []
    },
    {
      "cell_type": "code",
      "metadata": {
        "id": "Tl_4kDhrBK0h",
        "colab_type": "code",
        "outputId": "352d1698-e1da-4ffa-fd43-e39feda78082",
        "colab": {
          "base_uri": "https://localhost:8080/",
          "height": 34
        }
      },
      "source": [
        "# you can make submission with answers so far to check yourself at this stage\n",
        "grader.submit(COURSERA_EMAIL, \"eOGYcSDAirGrXFUL\")"
      ],
      "execution_count": 0,
      "outputs": [
        {
          "output_type": "stream",
          "text": [
            "Submitted to Coursera platform. See results on assignment page!\n"
          ],
          "name": "stdout"
        }
      ]
    },
    {
      "cell_type": "code",
      "metadata": {
        "id": "UIUBoiPZBK0o",
        "colab_type": "code",
        "colab": {}
      },
      "source": [
        ""
      ],
      "execution_count": 0,
      "outputs": []
    }
  ]
}